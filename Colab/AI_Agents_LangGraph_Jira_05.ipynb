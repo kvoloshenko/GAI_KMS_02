{
  "cells": [
    {
      "cell_type": "markdown",
      "source": [
        "# GenAI-Powered Knowledge Management System\n",
        "\n",
        "Materials used: Agentic RAG based on LangGraph with Jira and Confluence\n",
        "\n",
        "Course: **AI Agents in LangGraph** https://learn.deeplearning.ai/courses/ai-agents-in-langgraph/lesson/1/introduction\n",
        "\n",
        "Documentation: https://python.langchain.com/v0.2/docs/introduction/\n",
        "\n",
        "GitHub: https://github.com/langchain-ai/langgraph/tree/main\n",
        "\n",
        "LangGraph and RAG: https://github.com/langchain-ai/langgraph/tree/main/examples/rag\n",
        "\n",
        "Agentic RAG: https://github.com/langchain-ai/langgraph/blob/main/examples/rag/langgraph_agentic_rag.ipynb"
      ],
      "metadata": {
        "id": "Gv6o1_xxqfJX"
      },
      "id": "Gv6o1_xxqfJX"
    },
    {
      "cell_type": "markdown",
      "source": [
        "# 0. Synthetic data generation.\n"
      ],
      "metadata": {
        "id": "EfHLzROi7-Zf"
      },
      "id": "EfHLzROi7-Zf"
    },
    {
      "cell_type": "markdown",
      "source": [
        "## 0.1. Generate synthetic data in JSON format to emulate Confluence data.\n",
        "\n",
        "The data is dedicated to the description of a fictitious software product called \"Moon Flight System\"."
      ],
      "metadata": {
        "id": "C7RG0tjK-VLQ"
      },
      "id": "C7RG0tjK-VLQ"
    },
    {
      "cell_type": "markdown",
      "source": [
        "### How to Execute:\n",
        "1. Save the above code in a file, for example, `generate_synthetic_data.py`.\n",
        "2. Run the script using Python:\n",
        "   ```sh\n",
        "   python generate_synthetic_data.py\n",
        "   ```\n",
        "3. Follow the prompts to enter the number of synthetic data entries and the desired file name.\n",
        "\n",
        "This script will generate the requested number of synthetic data entries, complete with metadata and descriptions, and save them to the specified JSON file."
      ],
      "metadata": {
        "id": "i1pXH-S68W7A"
      },
      "id": "i1pXH-S68W7A"
    },
    {
      "cell_type": "code",
      "source": [
        "import json\n",
        "import random\n",
        "\n",
        "def generate_synthetic_data(count):\n",
        "    titles = [\n",
        "        \"Moon Flight System Documentation\",\n",
        "        \"Release Notes\",\n",
        "        \"Functional Overview\",\n",
        "        \"Hardware and Software Requirements\",\n",
        "        \"Installation Instructions\",\n",
        "        \"System Architecture\",\n",
        "        \"User Manual\",\n",
        "        \"API Reference\"\n",
        "    ]\n",
        "\n",
        "    descriptions = [\n",
        "        \"This document describes the contents of Moon Flight System 2024.1, March 2024. Purpose: The work completed for this release encompasses the following areas: Enhanced Navigation Algorithms, New User Interfaces, Extended Data Integration, Enhanced Security Features.\",\n",
        "        \"The system requirements for Moon Flight System release 2024.1 are described as follows: requires a quad-core processor, 16GB RAM, 250GB SSD, and Internet connectivity.\",\n",
        "        \"Deliverables: The server software is distributed in the form of a zip file. For example, in the MFS-2024.1-UNIX.zip file, contains binaries, libraries, and installation scripts.\",\n",
        "        \"Installation Instructions: Unzip the MFS-2024.1.zip file, run the installer script with sudo privileges. Follow the prompts to complete the installation process.\",\n",
        "        \"API Reference: Moon Flight System offers a comprehensive API with endpoints for mission planning, trajectory calculation, system status, user management, and data retrieval.\",\n",
        "        \"System Architecture: The system consists of three major modules: Flight Control, Data Analytics, and User Interaction. Each module is further divided into microservices.\"\n",
        "    ]\n",
        "\n",
        "    data = []\n",
        "\n",
        "    for i in range(count):\n",
        "        entry = {\n",
        "            \"metadata\": {\n",
        "                \"title\": random.choice(titles),\n",
        "                \"id\": str(282083988 + i),\n",
        "                \"source\": f\"https://moonflightsystem.com/docs/{282083988 + i}\"\n",
        "            },\n",
        "            \"page_content\": random.choice(descriptions)\n",
        "        }\n",
        "        data.append(entry)\n",
        "\n",
        "    return data\n",
        "\n",
        "def save_to_file(data, filename):\n",
        "    with open(filename, 'w') as f:\n",
        "        json.dump(data, f, indent=4)"
      ],
      "metadata": {
        "id": "-M07ImpM8GLX"
      },
      "id": "-M07ImpM8GLX",
      "execution_count": null,
      "outputs": []
    },
    {
      "cell_type": "code",
      "source": [
        "data_count = int(input(\"Enter the number of synthetic data entries to generate: \"))\n",
        "file_name = input(\"Enter the output file name (including .json extension): \")\n",
        "\n",
        "synthetic_data = generate_synthetic_data(data_count)\n",
        "save_to_file(synthetic_data, file_name)\n",
        "print(f\"Synthetic data saved to {file_name}\")"
      ],
      "metadata": {
        "colab": {
          "base_uri": "https://localhost:8080/"
        },
        "id": "O95MnuB-8d13",
        "outputId": "d6d1047e-65eb-4ff4-ae54-3649b106acef"
      },
      "id": "O95MnuB-8d13",
      "execution_count": null,
      "outputs": [
        {
          "output_type": "stream",
          "name": "stdout",
          "text": [
            "Enter the number of synthetic data entries to generate: 10000\n",
            "Enter the output file name (including .json extension): moon_flight_system_data_10k.json\n",
            "Synthetic data saved to moon_flight_system_data_10k.json\n"
          ]
        }
      ]
    },
    {
      "cell_type": "markdown",
      "source": [
        "## 0.2. Generates synthetic data in CSV format to emulate Jira data.\n",
        "\n",
        "The data contains Jira ticket information for a fictitious software product called \"Moon Flight System\"."
      ],
      "metadata": {
        "id": "8FFnHSGF-_h4"
      },
      "id": "8FFnHSGF-_h4"
    },
    {
      "cell_type": "markdown",
      "source": [
        "### Usage\n",
        "1. Run the script.\n",
        "2. It will ask you to enter the number of tickets to generate and the output filename (e.g., `jira_tickets.csv`).\n",
        "3. The script will then generate the synthetic data and save it to the specified CSV file.\n",
        "\n",
        "This script uses the `Faker` library to generate realistic random data for various fields. Make sure to install the `Faker` library if you haven't already:\n",
        "```sh\n",
        "pip install faker\n",
        "```"
      ],
      "metadata": {
        "id": "T09IkW8D_ffK"
      },
      "id": "T09IkW8D_ffK"
    },
    {
      "cell_type": "code",
      "source": [
        "!pip install faker"
      ],
      "metadata": {
        "colab": {
          "base_uri": "https://localhost:8080/"
        },
        "id": "HC38-Z5l_UAx",
        "outputId": "850da3c5-c680-452f-ed58-ed034072d77d"
      },
      "id": "HC38-Z5l_UAx",
      "execution_count": null,
      "outputs": [
        {
          "output_type": "stream",
          "name": "stdout",
          "text": [
            "Collecting faker\n",
            "  Downloading Faker-28.4.1-py3-none-any.whl.metadata (15 kB)\n",
            "Requirement already satisfied: python-dateutil>=2.4 in /usr/local/lib/python3.10/dist-packages (from faker) (2.8.2)\n",
            "Requirement already satisfied: six>=1.5 in /usr/local/lib/python3.10/dist-packages (from python-dateutil>=2.4->faker) (1.16.0)\n",
            "Downloading Faker-28.4.1-py3-none-any.whl (1.8 MB)\n",
            "\u001b[?25l   \u001b[90m━━━━━━━━━━━━━━━━━━━━━━━━━━━━━━━━━━━━━━━━\u001b[0m \u001b[32m0.0/1.8 MB\u001b[0m \u001b[31m?\u001b[0m eta \u001b[36m-:--:--\u001b[0m\r\u001b[2K   \u001b[91m━━━━━━━━━━━━━━━━━━━━━━━━━━━━━━━━━━━━━━━\u001b[0m\u001b[91m╸\u001b[0m \u001b[32m1.8/1.8 MB\u001b[0m \u001b[31m118.8 MB/s\u001b[0m eta \u001b[36m0:00:01\u001b[0m\r\u001b[2K   \u001b[90m━━━━━━━━━━━━━━━━━━━━━━━━━━━━━━━━━━━━━━━━\u001b[0m \u001b[32m1.8/1.8 MB\u001b[0m \u001b[31m50.1 MB/s\u001b[0m eta \u001b[36m0:00:00\u001b[0m\n",
            "\u001b[?25hInstalling collected packages: faker\n",
            "Successfully installed faker-28.4.1\n"
          ]
        }
      ]
    },
    {
      "cell_type": "code",
      "source": [
        "import csv\n",
        "import random\n",
        "import datetime\n",
        "from faker import Faker\n",
        "\n",
        "# Initialize faker for generating random data\n",
        "fake = Faker()\n",
        "\n",
        "# Define the list of headers\n",
        "HEADERS = [\n",
        "    \"Summary\", \"Ticket key\", \"Ticket id\", \"Ticket Type\", \"Status\", \"Project key\", \"Project name\", \"Project type\",\n",
        "    \"Project lead\", \"Project description\", \"Project url\", \"Priority\", \"Resolution\", \"Assignee\", \"Reporter\", \"Creator\",\n",
        "    \"Created\", \"Updated\", \"Last Viewed\", \"Resolved\", \"Affects Version/s\", \"Fix Version/s\", \"Component/s\", \"Due Date\",\n",
        "    \"Votes\", \"Labels\", \"Description\", \"Environment\", \"Watchers\", \"Log Work\", \"Original Estimate\",\n",
        "    \"Remaining Estimate\", \"Time Spent\", \"Work Ratio\", \"Σ Original Estimate\", \"Σ Remaining Estimate\",\n",
        "    \"Σ Time Spent\", \"Security Level\", \"Attachment\", \"Custom field (% Executed)\", \"Comment\"\n",
        "]\n",
        "\n",
        "# Define some sample data\n",
        "PROJECT_KEYS = [\"MFS\"]\n",
        "PROJECT_NAMES = [\"Moon Flight System\"]\n",
        "TICKET_TYPES = [\"Bug\", \"Improvement\", \"Task\", \"New Feature\"]\n",
        "STATUSES = [\"Open\", \"In Progress\", \"Closed\", \"Reopened\"]\n",
        "PRIORITIES = [\"Low\", \"Medium\", \"High\", \"Critical\"]\n",
        "RESOLUTIONS = [\"Fixed\", \"Won't Fix\", \"Duplicate\", \"Incomplete\"]\n",
        "COMPONENTS = [\"Core\", \"UI\", \"Backend\", \"Integration\"]\n",
        "LABELS = [\"label1\", \"label2\", \"label3\", \"label4\"]\n",
        "\n",
        "# Format for generated date strings\n",
        "DATE_FORMAT = \"%Y-%m-%d %H:%M:%S\"\n",
        "\n",
        "# Generate random ticket key\n",
        "def generate_ticket_key(project_key, ticket_id):\n",
        "    return f\"{project_key}-{ticket_id}\"\n",
        "\n",
        "# Generate random date string\n",
        "def random_date(start, end):\n",
        "    start_date = datetime.datetime.strptime(start, \"%Y-%m-%d\")\n",
        "    end_date = datetime.datetime.strptime(end, \"%Y-%m-%d\")\n",
        "    return fake.date_time_between(start_date=start_date, end_date=end_date).strftime(DATE_FORMAT)\n",
        "\n",
        "# Generate random data for each field\n",
        "def generate_ticket(ticket_id):\n",
        "    project_key = random.choice(PROJECT_KEYS)\n",
        "    project_name = random.choice(PROJECT_NAMES)\n",
        "    ticket_type = random.choice(TICKET_TYPES)\n",
        "    status = random.choice(STATUSES)\n",
        "    priority = random.choice(PRIORITIES)\n",
        "    resolution = random.choice(RESOLUTIONS)\n",
        "    summary = fake.sentence()\n",
        "    description = fake.text()\n",
        "    environment = fake.sentence()\n",
        "    assignee = fake.user_name()\n",
        "    reporter = fake.user_name()\n",
        "    creator = fake.user_name()\n",
        "    created = random_date(\"2023-09-01\", \"2023-09-30\")\n",
        "    updated = random_date(\"2023-09-01\", \"2023-10-30\")\n",
        "    resolved = random_date(\"2023-09-01\", \"2023-10-30\") if status == \"Closed\" else \"\"\n",
        "    return [\n",
        "        summary, generate_ticket_key(project_key, ticket_id), ticket_id, ticket_type, status, project_key, project_name, \"software\",\n",
        "        assignee, f\"{project_name} software project\", fake.url(), priority, resolution, assignee, reporter, creator,\n",
        "        created, updated, \"\", resolved, random.choice(LABELS), random.choice(LABELS), random.choice(COMPONENTS), random_date(\"2023-11-01\", \"2023-12-31\"),\n",
        "        random.randint(0, 10), random.choice(LABELS), description, environment, assignee, \"\", \"\", \"\", \"\", \"\",\n",
        "        \"\", \"\", \"\", \"\", \"\", \"\", \"\", \"\", status, \"\", \"\", \"\", random.choice(LABELS), \"\", random.choice(LABELS), description\n",
        "    ]\n",
        "\n",
        "# Generate specified number of tickets\n",
        "def generate_tickets(n):\n",
        "    tickets = []\n",
        "    for ticket_id in range(1, n + 1):\n",
        "        tickets.append(generate_ticket(ticket_id))\n",
        "    return tickets\n",
        "\n",
        "# Save tickets to CSV file\n",
        "def save_to_csv(filename, tickets):\n",
        "    with open(filename, 'w', newline='') as file:\n",
        "        writer = csv.writer(file, delimiter=';')\n",
        "        writer.writerow(HEADERS)\n",
        "        writer.writerows(tickets)\n"
      ],
      "metadata": {
        "id": "W-ICdj3y_D_Y"
      },
      "id": "W-ICdj3y_D_Y",
      "execution_count": null,
      "outputs": []
    },
    {
      "cell_type": "code",
      "source": [
        "number_of_tickets = int(input(\"Enter the number of tickets to generate: \"))\n",
        "output_filename = input(\"Enter the output CSV filename: \")\n",
        "tickets = generate_tickets(number_of_tickets)\n",
        "save_to_csv(output_filename, tickets)\n",
        "print(f\"Generated {number_of_tickets} tickets and saved to {output_filename}\")"
      ],
      "metadata": {
        "colab": {
          "base_uri": "https://localhost:8080/"
        },
        "id": "NE1iROSx_tfg",
        "outputId": "84f03dfd-1507-40d2-99c4-ab4831a5d30a"
      },
      "id": "NE1iROSx_tfg",
      "execution_count": null,
      "outputs": [
        {
          "output_type": "stream",
          "name": "stdout",
          "text": [
            "Enter the number of tickets to generate: 10000\n",
            "Enter the output CSV filename: jira_tickets_10k.csv\n",
            "Generated 10000 tickets and saved to jira_tickets_10k.csv\n"
          ]
        }
      ]
    },
    {
      "cell_type": "markdown",
      "source": [
        "# 1. Setup"
      ],
      "metadata": {
        "id": "2XBpWtz6VZnB"
      },
      "id": "2XBpWtz6VZnB"
    },
    {
      "cell_type": "code",
      "source": [
        "!pip -q  install  loguru\n",
        "!pip -q  install  sentence-transformers\n",
        "!pip -q  install  rank_bm25\n",
        "!pip -q  install  faiss-gpu\n",
        "!pip -q  install  openai==1.30.1\n",
        "!pip -q  install  langgraph==0.0.53\n",
        "!pip -q  install  langchain_core==0.2.0\n",
        "!pip -q  install  langchain_openai==0.1.7\n",
        "!pip -q  install  langchain-community==0.2.0\n",
        "!pip -q  install  langchain==0.2.0\n",
        "!apt -q  install  libgraphviz-dev\n",
        "!pip -q  install  pygraphviz==1.13\n",
        "!pip -q  install  python-dotenv~=1.0.1\n",
        "!pip -q  install  langchainhub"
      ],
      "metadata": {
        "colab": {
          "base_uri": "https://localhost:8080/"
        },
        "id": "XxCX6Iu-yomR",
        "outputId": "73a1b2d0-d36c-4413-b96a-31a546001f46"
      },
      "id": "XxCX6Iu-yomR",
      "execution_count": null,
      "outputs": [
        {
          "output_type": "stream",
          "name": "stdout",
          "text": [
            "\u001b[2K   \u001b[90m━━━━━━━━━━━━━━━━━━━━━━━━━━━━━━━━━━━━━━━━\u001b[0m \u001b[32m62.5/62.5 kB\u001b[0m \u001b[31m4.4 MB/s\u001b[0m eta \u001b[36m0:00:00\u001b[0m\n",
            "\u001b[2K   \u001b[90m━━━━━━━━━━━━━━━━━━━━━━━━━━━━━━━━━━━━━━━━\u001b[0m \u001b[32m249.1/249.1 kB\u001b[0m \u001b[31m13.4 MB/s\u001b[0m eta \u001b[36m0:00:00\u001b[0m\n",
            "\u001b[2K   \u001b[90m━━━━━━━━━━━━━━━━━━━━━━━━━━━━━━━━━━━━━━━━\u001b[0m \u001b[32m85.5/85.5 MB\u001b[0m \u001b[31m8.2 MB/s\u001b[0m eta \u001b[36m0:00:00\u001b[0m\n",
            "\u001b[2K   \u001b[90m━━━━━━━━━━━━━━━━━━━━━━━━━━━━━━━━━━━━━━━━\u001b[0m \u001b[32m320.6/320.6 kB\u001b[0m \u001b[31m23.5 MB/s\u001b[0m eta \u001b[36m0:00:00\u001b[0m\n",
            "\u001b[2K   \u001b[90m━━━━━━━━━━━━━━━━━━━━━━━━━━━━━━━━━━━━━━━━\u001b[0m \u001b[32m76.4/76.4 kB\u001b[0m \u001b[31m5.9 MB/s\u001b[0m eta \u001b[36m0:00:00\u001b[0m\n",
            "\u001b[2K   \u001b[90m━━━━━━━━━━━━━━━━━━━━━━━━━━━━━━━━━━━━━━━━\u001b[0m \u001b[32m77.9/77.9 kB\u001b[0m \u001b[31m5.5 MB/s\u001b[0m eta \u001b[36m0:00:00\u001b[0m\n",
            "\u001b[2K   \u001b[90m━━━━━━━━━━━━━━━━━━━━━━━━━━━━━━━━━━━━━━━━\u001b[0m \u001b[32m58.3/58.3 kB\u001b[0m \u001b[31m4.3 MB/s\u001b[0m eta \u001b[36m0:00:00\u001b[0m\n",
            "\u001b[2K     \u001b[90m━━━━━━━━━━━━━━━━━━━━━━━━━━━━━━━━━━━━━━━━\u001b[0m \u001b[32m50.4/50.4 kB\u001b[0m \u001b[31m3.4 MB/s\u001b[0m eta \u001b[36m0:00:00\u001b[0m\n",
            "\u001b[2K   \u001b[90m━━━━━━━━━━━━━━━━━━━━━━━━━━━━━━━━━━━━━━━━\u001b[0m \u001b[32m83.8/83.8 kB\u001b[0m \u001b[31m5.9 MB/s\u001b[0m eta \u001b[36m0:00:00\u001b[0m\n",
            "\u001b[2K   \u001b[90m━━━━━━━━━━━━━━━━━━━━━━━━━━━━━━━━━━━━━━━━\u001b[0m \u001b[32m397.0/397.0 kB\u001b[0m \u001b[31m18.4 MB/s\u001b[0m eta \u001b[36m0:00:00\u001b[0m\n",
            "\u001b[2K   \u001b[90m━━━━━━━━━━━━━━━━━━━━━━━━━━━━━━━━━━━━━━━━\u001b[0m \u001b[32m290.0/290.0 kB\u001b[0m \u001b[31m18.2 MB/s\u001b[0m eta \u001b[36m0:00:00\u001b[0m\n",
            "\u001b[2K   \u001b[90m━━━━━━━━━━━━━━━━━━━━━━━━━━━━━━━━━━━━━━━━\u001b[0m \u001b[32m141.9/141.9 kB\u001b[0m \u001b[31m9.9 MB/s\u001b[0m eta \u001b[36m0:00:00\u001b[0m\n",
            "\u001b[2K   \u001b[90m━━━━━━━━━━━━━━━━━━━━━━━━━━━━━━━━━━━━━━━━\u001b[0m \u001b[32m307.9/307.9 kB\u001b[0m \u001b[31m14.5 MB/s\u001b[0m eta \u001b[36m0:00:00\u001b[0m\n",
            "\u001b[2K   \u001b[90m━━━━━━━━━━━━━━━━━━━━━━━━━━━━━━━━━━━━━━━━\u001b[0m \u001b[32m53.0/53.0 kB\u001b[0m \u001b[31m4.0 MB/s\u001b[0m eta \u001b[36m0:00:00\u001b[0m\n",
            "\u001b[2K   \u001b[90m━━━━━━━━━━━━━━━━━━━━━━━━━━━━━━━━━━━━━━━━\u001b[0m \u001b[32m1.1/1.1 MB\u001b[0m \u001b[31m40.7 MB/s\u001b[0m eta \u001b[36m0:00:00\u001b[0m\n",
            "\u001b[2K   \u001b[90m━━━━━━━━━━━━━━━━━━━━━━━━━━━━━━━━━━━━━━━━\u001b[0m \u001b[32m2.1/2.1 MB\u001b[0m \u001b[31m47.3 MB/s\u001b[0m eta \u001b[36m0:00:00\u001b[0m\n",
            "\u001b[2K   \u001b[90m━━━━━━━━━━━━━━━━━━━━━━━━━━━━━━━━━━━━━━━━\u001b[0m \u001b[32m1.0/1.0 MB\u001b[0m \u001b[31m40.6 MB/s\u001b[0m eta \u001b[36m0:00:00\u001b[0m\n",
            "\u001b[2K   \u001b[90m━━━━━━━━━━━━━━━━━━━━━━━━━━━━━━━━━━━━━━━━\u001b[0m \u001b[32m49.3/49.3 kB\u001b[0m \u001b[31m3.2 MB/s\u001b[0m eta \u001b[36m0:00:00\u001b[0m\n",
            "\u001b[2K   \u001b[90m━━━━━━━━━━━━━━━━━━━━━━━━━━━━━━━━━━━━━━━━\u001b[0m \u001b[32m973.7/973.7 kB\u001b[0m \u001b[31m41.0 MB/s\u001b[0m eta \u001b[36m0:00:00\u001b[0m\n",
            "\u001b[?25hReading package lists...\n",
            "Building dependency tree...\n",
            "Reading state information...\n",
            "The following additional packages will be installed:\n",
            "  libgail-common libgail18 libgtk2.0-0 libgtk2.0-bin libgtk2.0-common libgvc6-plugins-gtk\n",
            "  librsvg2-common libxdot4\n",
            "Suggested packages:\n",
            "  gvfs\n",
            "The following NEW packages will be installed:\n",
            "  libgail-common libgail18 libgraphviz-dev libgtk2.0-0 libgtk2.0-bin libgtk2.0-common\n",
            "  libgvc6-plugins-gtk librsvg2-common libxdot4\n",
            "0 upgraded, 9 newly installed, 0 to remove and 49 not upgraded.\n",
            "Need to get 2,434 kB of archives.\n",
            "After this operation, 7,681 kB of additional disk space will be used.\n",
            "Get:1 http://archive.ubuntu.com/ubuntu jammy-updates/main amd64 libgtk2.0-common all 2.24.33-2ubuntu2.1 [125 kB]\n",
            "Get:2 http://archive.ubuntu.com/ubuntu jammy-updates/main amd64 libgtk2.0-0 amd64 2.24.33-2ubuntu2.1 [2,038 kB]\n",
            "Get:3 http://archive.ubuntu.com/ubuntu jammy-updates/main amd64 libgail18 amd64 2.24.33-2ubuntu2.1 [15.9 kB]\n",
            "Get:4 http://archive.ubuntu.com/ubuntu jammy-updates/main amd64 libgail-common amd64 2.24.33-2ubuntu2.1 [132 kB]\n",
            "Get:5 http://archive.ubuntu.com/ubuntu jammy-updates/universe amd64 libxdot4 amd64 2.42.2-6ubuntu0.1 [16.4 kB]\n",
            "Get:6 http://archive.ubuntu.com/ubuntu jammy-updates/universe amd64 libgvc6-plugins-gtk amd64 2.42.2-6ubuntu0.1 [22.5 kB]\n",
            "Get:7 http://archive.ubuntu.com/ubuntu jammy-updates/universe amd64 libgraphviz-dev amd64 2.42.2-6ubuntu0.1 [58.5 kB]\n",
            "Get:8 http://archive.ubuntu.com/ubuntu jammy-updates/main amd64 libgtk2.0-bin amd64 2.24.33-2ubuntu2.1 [7,936 B]\n",
            "Get:9 http://archive.ubuntu.com/ubuntu jammy-updates/main amd64 librsvg2-common amd64 2.52.5+dfsg-3ubuntu0.2 [17.7 kB]\n",
            "Fetched 2,434 kB in 1s (2,886 kB/s)\n",
            "Selecting previously unselected package libgtk2.0-common.\n",
            "(Reading database ... 123599 files and directories currently installed.)\n",
            "Preparing to unpack .../0-libgtk2.0-common_2.24.33-2ubuntu2.1_all.deb ...\n",
            "Unpacking libgtk2.0-common (2.24.33-2ubuntu2.1) ...\n",
            "Selecting previously unselected package libgtk2.0-0:amd64.\n",
            "Preparing to unpack .../1-libgtk2.0-0_2.24.33-2ubuntu2.1_amd64.deb ...\n",
            "Unpacking libgtk2.0-0:amd64 (2.24.33-2ubuntu2.1) ...\n",
            "Selecting previously unselected package libgail18:amd64.\n",
            "Preparing to unpack .../2-libgail18_2.24.33-2ubuntu2.1_amd64.deb ...\n",
            "Unpacking libgail18:amd64 (2.24.33-2ubuntu2.1) ...\n",
            "Selecting previously unselected package libgail-common:amd64.\n",
            "Preparing to unpack .../3-libgail-common_2.24.33-2ubuntu2.1_amd64.deb ...\n",
            "Unpacking libgail-common:amd64 (2.24.33-2ubuntu2.1) ...\n",
            "Selecting previously unselected package libxdot4:amd64.\n",
            "Preparing to unpack .../4-libxdot4_2.42.2-6ubuntu0.1_amd64.deb ...\n",
            "Unpacking libxdot4:amd64 (2.42.2-6ubuntu0.1) ...\n",
            "Selecting previously unselected package libgvc6-plugins-gtk.\n",
            "Preparing to unpack .../5-libgvc6-plugins-gtk_2.42.2-6ubuntu0.1_amd64.deb ...\n",
            "Unpacking libgvc6-plugins-gtk (2.42.2-6ubuntu0.1) ...\n",
            "Selecting previously unselected package libgraphviz-dev:amd64.\n",
            "Preparing to unpack .../6-libgraphviz-dev_2.42.2-6ubuntu0.1_amd64.deb ...\n",
            "Unpacking libgraphviz-dev:amd64 (2.42.2-6ubuntu0.1) ...\n",
            "Selecting previously unselected package libgtk2.0-bin.\n",
            "Preparing to unpack .../7-libgtk2.0-bin_2.24.33-2ubuntu2.1_amd64.deb ...\n",
            "Unpacking libgtk2.0-bin (2.24.33-2ubuntu2.1) ...\n",
            "Selecting previously unselected package librsvg2-common:amd64.\n",
            "Preparing to unpack .../8-librsvg2-common_2.52.5+dfsg-3ubuntu0.2_amd64.deb ...\n",
            "Unpacking librsvg2-common:amd64 (2.52.5+dfsg-3ubuntu0.2) ...\n",
            "Setting up libxdot4:amd64 (2.42.2-6ubuntu0.1) ...\n",
            "Setting up librsvg2-common:amd64 (2.52.5+dfsg-3ubuntu0.2) ...\n",
            "Setting up libgtk2.0-common (2.24.33-2ubuntu2.1) ...\n",
            "Setting up libgtk2.0-0:amd64 (2.24.33-2ubuntu2.1) ...\n",
            "Setting up libgvc6-plugins-gtk (2.42.2-6ubuntu0.1) ...\n",
            "Setting up libgail18:amd64 (2.24.33-2ubuntu2.1) ...\n",
            "Setting up libgtk2.0-bin (2.24.33-2ubuntu2.1) ...\n",
            "Setting up libgail-common:amd64 (2.24.33-2ubuntu2.1) ...\n",
            "Setting up libgraphviz-dev:amd64 (2.42.2-6ubuntu0.1) ...\n",
            "Processing triggers for libc-bin (2.35-0ubuntu3.4) ...\n",
            "/sbin/ldconfig.real: /usr/local/lib/libtbbmalloc.so.2 is not a symbolic link\n",
            "\n",
            "/sbin/ldconfig.real: /usr/local/lib/libur_adapter_opencl.so.0 is not a symbolic link\n",
            "\n",
            "/sbin/ldconfig.real: /usr/local/lib/libtbbmalloc_proxy.so.2 is not a symbolic link\n",
            "\n",
            "/sbin/ldconfig.real: /usr/local/lib/libur_loader.so.0 is not a symbolic link\n",
            "\n",
            "/sbin/ldconfig.real: /usr/local/lib/libtbbbind.so.3 is not a symbolic link\n",
            "\n",
            "/sbin/ldconfig.real: /usr/local/lib/libtbbbind_2_5.so.3 is not a symbolic link\n",
            "\n",
            "/sbin/ldconfig.real: /usr/local/lib/libur_adapter_level_zero.so.0 is not a symbolic link\n",
            "\n",
            "/sbin/ldconfig.real: /usr/local/lib/libtbb.so.12 is not a symbolic link\n",
            "\n",
            "/sbin/ldconfig.real: /usr/local/lib/libtbbbind_2_0.so.3 is not a symbolic link\n",
            "\n",
            "Processing triggers for man-db (2.10.2-1) ...\n",
            "Processing triggers for libgdk-pixbuf-2.0-0:amd64 (2.42.8+dfsg-1ubuntu0.3) ...\n",
            "\u001b[2K     \u001b[90m━━━━━━━━━━━━━━━━━━━━━━━━━━━━━━━━━━━━━━━━\u001b[0m \u001b[32m104.6/104.6 kB\u001b[0m \u001b[31m8.0 MB/s\u001b[0m eta \u001b[36m0:00:00\u001b[0m\n",
            "\u001b[?25h  Installing build dependencies ... \u001b[?25l\u001b[?25hdone\n",
            "  Getting requirements to build wheel ... \u001b[?25l\u001b[?25hdone\n",
            "  Preparing metadata (pyproject.toml) ... \u001b[?25l\u001b[?25hdone\n",
            "  Building wheel for pygraphviz (pyproject.toml) ... \u001b[?25l\u001b[?25hdone\n"
          ]
        }
      ]
    },
    {
      "cell_type": "markdown",
      "source": [
        "### 1.1.Function for Splitting documents\n",
        "RecursiveCharacterTextSplitter see here: https://python.langchain.com/v0.2/docs/how_to/recursive_text_splitter/"
      ],
      "metadata": {
        "id": "Q0zzp0MAXFAj"
      },
      "id": "Q0zzp0MAXFAj"
    },
    {
      "cell_type": "code",
      "source": [
        "from loguru import logger # Import logger\n",
        "import time\n",
        "# Import necessary modules for splitting text into chunks\n",
        "from langchain.text_splitter import RecursiveCharacterTextSplitter\n",
        "def split_documents(documents):\n",
        "  # Function to split documents into chunks using RecursiveCharacterTextSplitter\n",
        "    logger.debug('split_documents............')\n",
        "    start_time = time.time()\n",
        "    text_splitter = RecursiveCharacterTextSplitter(chunk_size=512, chunk_overlap=0)\n",
        "    source_chunks = text_splitter.split_documents(documents)\n",
        "    logger.debug(type(source_chunks))\n",
        "    logger.debug(len(source_chunks))\n",
        "    logger.debug(source_chunks[10].metadata)\n",
        "    # logger.debug(source_chunks[10].page_content)\n",
        "    end_time = time.time()\n",
        "    elapsed_time = end_time - start_time\n",
        "    logger.debug(f'split_documents elapsed_time = {elapsed_time} sec')\n",
        "    return source_chunks"
      ],
      "metadata": {
        "id": "yfFFGImIXBED"
      },
      "id": "yfFFGImIXBED",
      "execution_count": null,
      "outputs": []
    },
    {
      "cell_type": "markdown",
      "source": [
        "### 1.2. Getting Embeddings"
      ],
      "metadata": {
        "id": "0lhEYX-zANLL"
      },
      "id": "0lhEYX-zANLL"
    },
    {
      "cell_type": "markdown",
      "source": [
        "#### 1.2.1. Function for Getting Embeddings Model from HuggingFace\n",
        "HuggingFaceEmbeddings see here: https://api.python.langchain.com/en/latest/huggingface/embeddings/langchain_huggingface.embeddings.huggingface.HuggingFaceEmbeddings.html#"
      ],
      "metadata": {
        "id": "ivI7dTBY2BWS"
      },
      "id": "ivI7dTBY2BWS"
    },
    {
      "cell_type": "code",
      "source": [
        "# Import HuggingFaceEmbeddings\n",
        "from langchain_community.embeddings import HuggingFaceEmbeddings\n",
        "def get_embeddings(type='cpu'):\n",
        "  # Function to get the embeddings model from HuggingFace\n",
        "    logger.debug('get_embeddings............')\n",
        "    start_time = time.time()\n",
        "    model_id = 'intfloat/multilingual-e5-large'\n",
        "    if type=='cpu':\n",
        "        model_kwargs = {'device': 'cpu'}\n",
        "    else:\n",
        "        model_kwargs = {'device': 'cuda'}\n",
        "    embeddings = HuggingFaceEmbeddings(\n",
        "        model_name=model_id,\n",
        "        model_kwargs=model_kwargs\n",
        "    )\n",
        "    end_time = time.time()\n",
        "    elapsed_time = end_time - start_time\n",
        "    logger.debug(f'get_embeddings elapsed_time = {elapsed_time} sec')\n",
        "    return embeddings"
      ],
      "metadata": {
        "id": "br7mZTXO2EL6"
      },
      "id": "br7mZTXO2EL6",
      "execution_count": null,
      "outputs": []
    },
    {
      "cell_type": "code",
      "source": [
        "# Initialize embeddings\n",
        "embeddings = get_embeddings(type='cuda')"
      ],
      "metadata": {
        "colab": {
          "base_uri": "https://localhost:8080/",
          "height": 536,
          "referenced_widgets": [
            "a452ab89e7ec4f819984cd10dd2bbb6e",
            "f0043feef1e7451c8a20a05ad923e367",
            "f829929e230a4f22ba8638a245c8808c",
            "bd5fa9fbc80546d9a93958d0ec54a288",
            "1c800d10622e4c4ca5ebe7cf86921a8b",
            "614c1d8afece4e3393e986f0ce7c0b32",
            "144f63670ff04dd6b9c09863f159e1e1",
            "62e26804aa1345fd9ba15292fc8d8233",
            "4c6531b42fd04ba1be57e74d021cde5b",
            "e4de22ca2d00458faf052950d5aafabf",
            "7e84c47a319b4e4cbd8550bba8389d4d",
            "540d0e001c78463fa9db33ec782fd72c",
            "22176f82463745ba933801ee996d7c48",
            "d9ffb3f6ca534605b845213be1b2813a",
            "d6e9a9c4e4a14335b95a5fce2910523f",
            "e84561ad211b4ca7a9d1f68a49946ea0",
            "bb070926b0b64f37809fa01f136f95ca",
            "58376507952641d392d23673cf19a7e5",
            "f4ea7322a70b4df6b5663062fb573e99",
            "7e8732cd6d07490686b5e6b18882ef2c",
            "985b22e0893d49459530d85ee06f224a",
            "efa61c60f2b84506b7720787010555f1",
            "e909e71779ff4b2ebcb12fab51bc6994",
            "a01d88a4bb7d49c3bc252bc4c0f49093",
            "cc2a1a794c034fc49160a979b1fa7d16",
            "ed4e9274215143589a6bd76634da3f50",
            "2e0a615de2174770b75589f03434c7c0",
            "1342f76206fa4984ac92b93fa1c59fa0",
            "0d5b5348257b441c8e4b8ebaecd1a6df",
            "c9b82acf00a34ddea129fa0517ea33c5",
            "a02cc54c20544828b321c8cdfc1e2a1e",
            "87f9de04345c449192469ea3003ad867",
            "b9170bb8562b427897bf6e817bb4ec82",
            "18a4c77d55fd4050a37eb74740a7aa4e",
            "1ab643b6f71c4925bc8eb317181e57ea",
            "8bc276cbac4d4f1992ecfde4917e6364",
            "82df2068163b4e5782abe60c6cba0d25",
            "a0ce281b8d8e444cb39db99b22f5d383",
            "7e9d2cff59624c9bb75c45c8d6cdc7dd",
            "414d7b0ea3524c5c938585e8d50cb17d",
            "cec31e956da64e919c1c06dce0eca413",
            "5ffb5ccf455147eeafacb471cdeaebcd",
            "4a73ae07e67e499991ed7edb1ff68513",
            "8faa7a05d80041ff9615226fb85b6801",
            "668eec6dc33f4289965e6f1ec2b15bf2",
            "0daf9be2f2214960941cbc044fa7b1c4",
            "0177cbaf1ed44c758a502ff7a1d2e778",
            "b96c3a3a43cd4a8389923fff30fa81a6",
            "fdded335b433485f97d73cc2fb1637a6",
            "8281fbbd6c804aa88314dc2630631438",
            "d2aff28f2c014f50b2858f9b04dc5dc6",
            "294af8160a70427fac57e0d830a1d6d5",
            "35f34a483a924939a8a22c22d461eb57",
            "5399940792bd4ed0ac19cb5ba8f6d46c",
            "9a7e15258c564d8a853aa63919242116",
            "995858d2da184610b677dc43839ecebb",
            "21738943028a412e9b8a3376775e0bb7",
            "191510ddb84a498e92ea57406643d2c1",
            "20c0040d58d94b9785edff4dc22499b3",
            "e0dbf2ff3e574f868587a966c7c97bad",
            "034ab40fc67c43cf935e45b7705582ed",
            "e27ef092174c4ba987085fc834854fc4",
            "f2272793440d45459656c055328b4377",
            "ee355a1178584772ac76a47fe1d34b8e",
            "6c8c2b79bb4d4834a4b6ba15a2d9bc0b",
            "5a8b7fc9e9fd4f22b8c2ef5efff7d6cc",
            "7b74d9722e384869a66d251e7f426904",
            "593c43a42b9e46acbbd10c9a585c20f4",
            "d5ca328987d5416fa90fad37a81bf9d3",
            "81b93c73a1c449f4b38af9f22adf068c",
            "32498ac64f094deab0df431f663a4322",
            "7944bb756fc24a1fba2472a2e8fadc30",
            "da910c691f93483faab17bb936fb199b",
            "05ceaff241724b2dacb212ebe89d4338",
            "f1e46562202d47b1a579228f963edc82",
            "593019c90e0b4814bc30be72d050ed94",
            "d21c4f963f2a446c89055bcd0e15f0f6",
            "71f4ae2b8d12421888da9f4da02deee8",
            "7e5239294a914605bca3a360ba2e704d",
            "96c66553b2d742e29100500e31a5be61",
            "4b501166b1894fb294f8250643833a61",
            "81c35921a1294bf687d4c2e69fe69214",
            "27bcf41de05d4d44b2e2a1a659e08282",
            "7c13dc94519249a4872183f68d027c00",
            "c937327f0c0d49609f85be6e0d225b54",
            "f10e2f5684ca4d9e84551e5f6d89ad8a",
            "d4c41daedb624498888680d53cfe7b09",
            "0d434162349044b9b696b51cf5c959dd",
            "a9a6d5d970d84d8ba1c27956fc9c020e",
            "681f42e5d4ab438b81f0d04e5ca117fa",
            "9d1ee39fbdd5404692fd1ee1026ee932",
            "c5a29a53cef94f20b4b8d56eea50dc7d",
            "fc1f722a54c24cdab928e075d5bc8334",
            "9e046c5f414a415abc250a97d18aa993",
            "13071339e5c54ea5b0867bb4f993a396",
            "561ca64057d8482f95b4738e5172f3c6",
            "e6088d806e64424ba33298a302ca5434",
            "c9ec75786ad8436a8eb4ccde502fb7c0",
            "affeed84e73a4fc69341742bb23df348",
            "b08a2c5d4f4f4a889bf1782f77284337",
            "03032b3ea45d4ae4aab2e9adfdc65392",
            "bda01598fe444bf09fc17f8b47109002",
            "f3c58656002348828ccaabbda27953ea",
            "94b8f954c79243b2ac375339f1fc9b93",
            "fc54f6ef72c640b78b1b7a38d62ec842",
            "ef533fa0143940ccbd1569266e2e5233",
            "eb0262c3112c488c815fa1d927287888",
            "ccce1e6f7fc045f99a4d625159700179",
            "ab92d4981cc74eedb0b5794d7f627ab3",
            "d1f999b6d6f94cdfb97e7e83c6cd2639"
          ]
        },
        "id": "5wV4qnxr2H8z",
        "outputId": "9bd8aa11-e1bd-4e2a-fac4-897e74fdb9c4"
      },
      "id": "5wV4qnxr2H8z",
      "execution_count": null,
      "outputs": [
        {
          "output_type": "stream",
          "name": "stderr",
          "text": [
            "\u001b[32m2024-09-18 17:01:20.784\u001b[0m | \u001b[34m\u001b[1mDEBUG   \u001b[0m | \u001b[36m__main__\u001b[0m:\u001b[36mget_embeddings\u001b[0m:\u001b[36m5\u001b[0m - \u001b[34m\u001b[1mget_embeddings............\u001b[0m\n",
            "/usr/local/lib/python3.10/dist-packages/sentence_transformers/cross_encoder/CrossEncoder.py:13: TqdmExperimentalWarning: Using `tqdm.autonotebook.tqdm` in notebook mode. Use `tqdm.tqdm` instead to force console mode (e.g. in jupyter console)\n",
            "  from tqdm.autonotebook import tqdm, trange\n",
            "/usr/local/lib/python3.10/dist-packages/huggingface_hub/utils/_token.py:89: UserWarning: \n",
            "The secret `HF_TOKEN` does not exist in your Colab secrets.\n",
            "To authenticate with the Hugging Face Hub, create a token in your settings tab (https://huggingface.co/settings/tokens), set it as secret in your Google Colab and restart your session.\n",
            "You will be able to reuse this secret in all of your notebooks.\n",
            "Please note that authentication is recommended but still optional to access public models or datasets.\n",
            "  warnings.warn(\n"
          ]
        },
        {
          "output_type": "display_data",
          "data": {
            "text/plain": [
              "modules.json:   0%|          | 0.00/387 [00:00<?, ?B/s]"
            ],
            "application/vnd.jupyter.widget-view+json": {
              "version_major": 2,
              "version_minor": 0,
              "model_id": "a452ab89e7ec4f819984cd10dd2bbb6e"
            }
          },
          "metadata": {}
        },
        {
          "output_type": "display_data",
          "data": {
            "text/plain": [
              "README.md:   0%|          | 0.00/160k [00:00<?, ?B/s]"
            ],
            "application/vnd.jupyter.widget-view+json": {
              "version_major": 2,
              "version_minor": 0,
              "model_id": "540d0e001c78463fa9db33ec782fd72c"
            }
          },
          "metadata": {}
        },
        {
          "output_type": "display_data",
          "data": {
            "text/plain": [
              "sentence_bert_config.json:   0%|          | 0.00/57.0 [00:00<?, ?B/s]"
            ],
            "application/vnd.jupyter.widget-view+json": {
              "version_major": 2,
              "version_minor": 0,
              "model_id": "e909e71779ff4b2ebcb12fab51bc6994"
            }
          },
          "metadata": {}
        },
        {
          "output_type": "display_data",
          "data": {
            "text/plain": [
              "config.json:   0%|          | 0.00/690 [00:00<?, ?B/s]"
            ],
            "application/vnd.jupyter.widget-view+json": {
              "version_major": 2,
              "version_minor": 0,
              "model_id": "18a4c77d55fd4050a37eb74740a7aa4e"
            }
          },
          "metadata": {}
        },
        {
          "output_type": "display_data",
          "data": {
            "text/plain": [
              "model.safetensors:   0%|          | 0.00/2.24G [00:00<?, ?B/s]"
            ],
            "application/vnd.jupyter.widget-view+json": {
              "version_major": 2,
              "version_minor": 0,
              "model_id": "668eec6dc33f4289965e6f1ec2b15bf2"
            }
          },
          "metadata": {}
        },
        {
          "output_type": "display_data",
          "data": {
            "text/plain": [
              "tokenizer_config.json:   0%|          | 0.00/418 [00:00<?, ?B/s]"
            ],
            "application/vnd.jupyter.widget-view+json": {
              "version_major": 2,
              "version_minor": 0,
              "model_id": "995858d2da184610b677dc43839ecebb"
            }
          },
          "metadata": {}
        },
        {
          "output_type": "display_data",
          "data": {
            "text/plain": [
              "sentencepiece.bpe.model:   0%|          | 0.00/5.07M [00:00<?, ?B/s]"
            ],
            "application/vnd.jupyter.widget-view+json": {
              "version_major": 2,
              "version_minor": 0,
              "model_id": "7b74d9722e384869a66d251e7f426904"
            }
          },
          "metadata": {}
        },
        {
          "output_type": "display_data",
          "data": {
            "text/plain": [
              "tokenizer.json:   0%|          | 0.00/17.1M [00:00<?, ?B/s]"
            ],
            "application/vnd.jupyter.widget-view+json": {
              "version_major": 2,
              "version_minor": 0,
              "model_id": "71f4ae2b8d12421888da9f4da02deee8"
            }
          },
          "metadata": {}
        },
        {
          "output_type": "display_data",
          "data": {
            "text/plain": [
              "special_tokens_map.json:   0%|          | 0.00/280 [00:00<?, ?B/s]"
            ],
            "application/vnd.jupyter.widget-view+json": {
              "version_major": 2,
              "version_minor": 0,
              "model_id": "a9a6d5d970d84d8ba1c27956fc9c020e"
            }
          },
          "metadata": {}
        },
        {
          "output_type": "display_data",
          "data": {
            "text/plain": [
              "1_Pooling/config.json:   0%|          | 0.00/201 [00:00<?, ?B/s]"
            ],
            "application/vnd.jupyter.widget-view+json": {
              "version_major": 2,
              "version_minor": 0,
              "model_id": "b08a2c5d4f4f4a889bf1782f77284337"
            }
          },
          "metadata": {}
        },
        {
          "output_type": "stream",
          "name": "stderr",
          "text": [
            "\u001b[32m2024-09-18 17:01:55.019\u001b[0m | \u001b[34m\u001b[1mDEBUG   \u001b[0m | \u001b[36m__main__\u001b[0m:\u001b[36mget_embeddings\u001b[0m:\u001b[36m18\u001b[0m - \u001b[34m\u001b[1mget_embeddings elapsed_time = 34.23247408866882 sec\u001b[0m\n"
          ]
        }
      ]
    },
    {
      "cell_type": "markdown",
      "source": [
        "#### 1.2.2. Getting OpenAIEmbeddings"
      ],
      "metadata": {
        "id": "pYdkak-dAcuc"
      },
      "id": "pYdkak-dAcuc"
    },
    {
      "cell_type": "code",
      "source": [
        "# Set OpenAI API key environment variable\n",
        "import os\n",
        "from google.colab import userdata\n",
        "OPEN_AI_API_KEY = userdata.get('OpenAI_API_KEY')\n",
        "os.environ[\"OPENAI_API_KEY\"] = OPEN_AI_API_KEY"
      ],
      "metadata": {
        "id": "ZclSb54jBMra"
      },
      "id": "ZclSb54jBMra",
      "execution_count": null,
      "outputs": []
    },
    {
      "cell_type": "code",
      "source": [
        "from langchain_openai import OpenAIEmbeddings\n",
        "embeddings = embeddings = OpenAIEmbeddings()"
      ],
      "metadata": {
        "id": "5NM_EEcg_wE9"
      },
      "id": "5NM_EEcg_wE9",
      "execution_count": null,
      "outputs": []
    },
    {
      "cell_type": "markdown",
      "source": [
        "### 1.3.Function for Creating Vector Knowledge Base"
      ],
      "metadata": {
        "id": "U0PkFozKzfF_"
      },
      "id": "U0PkFozKzfF_"
    },
    {
      "cell_type": "markdown",
      "source": [
        "#### 1.3.1.Creating a new Vector Knowledge Base"
      ],
      "metadata": {
        "id": "eiX8kmGRFVsC"
      },
      "id": "eiX8kmGRFVsC"
    },
    {
      "cell_type": "code",
      "source": [
        "from langchain_community.vectorstores import FAISS # Import FAISS module\n",
        "def create_db(source_chunks, embeddings, db_file_name):\n",
        "  # Function to create FAISS vector database from document chunks\n",
        "    start_time = time.time()\n",
        "    logger.debug('create_db............')\n",
        "    db = FAISS.from_documents(source_chunks, embeddings)\n",
        "    db.save_local(db_file_name)\n",
        "    end_time = time.time()\n",
        "    elapsed_time = end_time - start_time\n",
        "    logger.debug(f'create_db elapsed_time = {elapsed_time} sec')\n",
        "    return db"
      ],
      "metadata": {
        "id": "2f5K1uByzpTQ"
      },
      "id": "2f5K1uByzpTQ",
      "execution_count": null,
      "outputs": []
    },
    {
      "cell_type": "markdown",
      "source": [
        "#### 1.3.2.Loading an existing Vector Knowledge Base\n",
        "This is an example in case the database was already created and saved earlier."
      ],
      "metadata": {
        "id": "0-MR25wbFhOw"
      },
      "id": "0-MR25wbFhOw"
    },
    {
      "cell_type": "code",
      "source": [
        "def load_db(db_file_name, embeddings):\n",
        "    logger.debug('load_db............')\n",
        "    start_time = time.time()\n",
        "    new_db = FAISS.load_local(db_file_name, embeddings, allow_dangerous_deserialization=True)\n",
        "    end_time = time.time()\n",
        "    elapsed_time = end_time - start_time\n",
        "    logger.debug(f'load_db elapsed_time = {elapsed_time} sec')\n",
        "    return new_db"
      ],
      "metadata": {
        "id": "fUrczD_YFoXh"
      },
      "id": "fUrczD_YFoXh",
      "execution_count": null,
      "outputs": []
    },
    {
      "cell_type": "markdown",
      "source": [
        "# 2. Jira\n",
        "\n",
        "Now we will use the above generated synthetic data for Jira.\n",
        "\n",
        "In real life, once inside the Netcracker network, you would need to do the following steps in TMS:\n",
        "\n",
        "1.   Make search:\n",
        "text ~ \"\\\"[Doc]\\\" AND \\\" [AIS]\\\" AND \\\"OOB Dashboards\\\"\" order by lastViewed DESC\n",
        "2.   Export as CSV (All fields) to the file \"NetCracker TMS 2024-09-01T08_09_42-0400.csv\"\n",
        "3.   Load exported file into the path: \"/content/\"    "
      ],
      "metadata": {
        "id": "7__732nrOPVS"
      },
      "id": "7__732nrOPVS"
    },
    {
      "cell_type": "markdown",
      "source": [
        "## 2.1.Loading Jira Data"
      ],
      "metadata": {
        "id": "N3xv93zS_Kwg"
      },
      "id": "N3xv93zS_Kwg"
    },
    {
      "cell_type": "markdown",
      "source": [
        "### 2.1.1.Converting a CSV file to an JSON file"
      ],
      "metadata": {
        "id": "pLNNVpVPr9BO"
      },
      "id": "pLNNVpVPr9BO"
    },
    {
      "cell_type": "code",
      "source": [
        "# Import csv and json modules\n",
        "import csv\n",
        "import json\n",
        "\n",
        "def csv_to_json(csv_file_path, json_file_path):\n",
        "    # Function to convert a CSV file to a JSON file\n",
        "    # Read CSV file and transform data\n",
        "    with open(csv_file_path, mode='r', encoding='utf-8') as csv_file:\n",
        "        csv_reader = csv.DictReader(csv_file, delimiter=';')\n",
        "        rows = list(csv_reader)\n",
        "\n",
        "    # Write data to JSON file\n",
        "    with open(json_file_path, mode='w', encoding='utf-8') as json_file:\n",
        "        json.dump(rows, json_file, indent=4, ensure_ascii=False)"
      ],
      "metadata": {
        "id": "l62skfLGr-Gq"
      },
      "id": "l62skfLGr-Gq",
      "execution_count": null,
      "outputs": []
    },
    {
      "cell_type": "code",
      "source": [
        "# Define file paths and convert CSV file to JSON file\n",
        "csv_file_path = '/content/jira_tickets_10k.csv'\n",
        "json_file_path = '/content/jira_tickets_10k.json'\n",
        "csv_to_json(csv_file_path, json_file_path)"
      ],
      "metadata": {
        "id": "ADq88Od8sBHC"
      },
      "id": "ADq88Od8sBHC",
      "execution_count": null,
      "outputs": []
    },
    {
      "cell_type": "code",
      "source": [
        "# Load JSON data into a Langchain TextLoader\n",
        "from langchain.document_loaders import TextLoader\n",
        "loader = TextLoader(json_file_path, encoding = 'UTF-8')\n",
        "documents = loader.load()\n",
        "print(type(documents), len(documents))"
      ],
      "metadata": {
        "colab": {
          "base_uri": "https://localhost:8080/"
        },
        "id": "oWs8xWa2sVVs",
        "outputId": "71bb8d20-6e58-42c8-f971-23889e76b793"
      },
      "id": "oWs8xWa2sVVs",
      "execution_count": null,
      "outputs": [
        {
          "output_type": "stream",
          "name": "stdout",
          "text": [
            "<class 'list'> 1\n"
          ]
        }
      ]
    },
    {
      "cell_type": "markdown",
      "source": [
        "### 2.2.Splitting documet"
      ],
      "metadata": {
        "id": "cJJORHK7zUMU"
      },
      "id": "cJJORHK7zUMU"
    },
    {
      "cell_type": "code",
      "source": [
        "# Split the loaded documents using RecursiveCharacterTextSplitter\n",
        "from langchain.text_splitter import RecursiveCharacterTextSplitter\n",
        "text_splitter = RecursiveCharacterTextSplitter(chunk_size=512, chunk_overlap=0)\n",
        "jira_source_chunks = text_splitter.split_documents(documents)\n",
        "print(type(jira_source_chunks), len(jira_source_chunks))"
      ],
      "metadata": {
        "colab": {
          "base_uri": "https://localhost:8080/"
        },
        "id": "Dq-Y-KzbzUvN",
        "outputId": "7ff04611-3985-4730-c20c-065b9834a6d4"
      },
      "id": "Dq-Y-KzbzUvN",
      "execution_count": null,
      "outputs": [
        {
          "output_type": "stream",
          "name": "stdout",
          "text": [
            "<class 'list'> 39989\n"
          ]
        }
      ]
    },
    {
      "cell_type": "markdown",
      "source": [
        "### 1.3.Vector Knowledge Base"
      ],
      "metadata": {
        "id": "I80-dXzWVx3f"
      },
      "id": "I80-dXzWVx3f"
    },
    {
      "cell_type": "markdown",
      "source": [
        "#### 1.3.1.Creating a new Vector Knowledge Base"
      ],
      "metadata": {
        "id": "SfJJ5MxvLAxX"
      },
      "id": "SfJJ5MxvLAxX"
    },
    {
      "cell_type": "code",
      "source": [
        "# Create the FAISS vector database for Jira data\n",
        "jira_db_file_name = '/content/db/DB_Jira'\n",
        "jira_db = create_db(jira_source_chunks, embeddings, jira_db_file_name)"
      ],
      "metadata": {
        "id": "Q1Cen1EWzfxA",
        "colab": {
          "base_uri": "https://localhost:8080/"
        },
        "outputId": "cd27e75f-ca6f-4684-891e-870ab7396ec2"
      },
      "id": "Q1Cen1EWzfxA",
      "execution_count": null,
      "outputs": [
        {
          "output_type": "stream",
          "name": "stderr",
          "text": [
            "\u001b[32m2024-09-19 07:22:31.065\u001b[0m | \u001b[34m\u001b[1mDEBUG   \u001b[0m | \u001b[36m__main__\u001b[0m:\u001b[36mcreate_db\u001b[0m:\u001b[36m5\u001b[0m - \u001b[34m\u001b[1mcreate_db............\u001b[0m\n",
            "\u001b[32m2024-09-19 07:26:50.342\u001b[0m | \u001b[34m\u001b[1mDEBUG   \u001b[0m | \u001b[36m__main__\u001b[0m:\u001b[36mcreate_db\u001b[0m:\u001b[36m10\u001b[0m - \u001b[34m\u001b[1mcreate_db elapsed_time = 259.2769145965576 sec\u001b[0m\n"
          ]
        }
      ]
    },
    {
      "cell_type": "markdown",
      "source": [
        "#### 1.3.2.Loading an existing Vector Knowledge Base"
      ],
      "metadata": {
        "id": "cWnoMEE-LJiI"
      },
      "id": "cWnoMEE-LJiI"
    },
    {
      "cell_type": "code",
      "source": [
        "jira_db_file_name = '/content/db/DB_Jira'\n",
        "jira_db = load_db(jira_db_file_name, embeddings)"
      ],
      "metadata": {
        "colab": {
          "base_uri": "https://localhost:8080/"
        },
        "id": "VU3fLn1ALVsT",
        "outputId": "f6c0de5f-0aa7-41b3-e3f7-6093d579f5ba"
      },
      "id": "VU3fLn1ALVsT",
      "execution_count": null,
      "outputs": [
        {
          "output_type": "stream",
          "name": "stderr",
          "text": [
            "\u001b[32m2024-09-19 07:36:40.175\u001b[0m | \u001b[34m\u001b[1mDEBUG   \u001b[0m | \u001b[36m__main__\u001b[0m:\u001b[36mload_db\u001b[0m:\u001b[36m2\u001b[0m - \u001b[34m\u001b[1mload_db............\u001b[0m\n",
            "\u001b[32m2024-09-19 07:36:41.378\u001b[0m | \u001b[34m\u001b[1mDEBUG   \u001b[0m | \u001b[36m__main__\u001b[0m:\u001b[36mload_db\u001b[0m:\u001b[36m7\u001b[0m - \u001b[34m\u001b[1mload_db elapsed_time = 1.1999523639678955 sec\u001b[0m\n"
          ]
        }
      ]
    },
    {
      "cell_type": "markdown",
      "source": [
        "# 3.Confluence"
      ],
      "metadata": {
        "id": "EKb7QdbtWaPY"
      },
      "id": "EKb7QdbtWaPY"
    },
    {
      "cell_type": "markdown",
      "source": [
        "### 3.1.1. Preparing Confluence Data"
      ],
      "metadata": {
        "id": "u7AjgLuLAOMN"
      },
      "id": "u7AjgLuLAOMN"
    },
    {
      "cell_type": "markdown",
      "source": [
        "Now we will use the above generated synthetic data for Confluence.\n",
        "\n",
        "In real life, once inside the Netcracker network, you would need to do the following steps:\n",
        "\n",
        "Once inside the Netcracker network, you need to create a **RBM20241.json** file.\n",
        "\n",
        "Here is an example of code that should be executed locally:\n"
      ],
      "metadata": {
        "id": "vm7yL45RAYlB"
      },
      "id": "vm7yL45RAYlB"
    },
    {
      "cell_type": "code",
      "source": [
        "# Import ConfluenceLoader\n",
        "from langchain_community.document_loaders import ConfluenceLoader\n",
        "# Define Confluence server credentials and space key\n",
        "URL = \"https://doc.netcracker.com/\"\n",
        "USERNAME = \"*****\"\n",
        "PASSWORD = \"*****\"\n",
        "SPACE_KEY = \"RBM20241\"\n",
        "\n",
        "def load_documents(url, username, password, space_key):\n",
        "  # Function to load documents from Confluence space\n",
        "    logger.debug(f'load_documents............')\n",
        "    logger.debug(f'url = {url}')\n",
        "    logger.debug(f'username = {username}')\n",
        "    logger.debug(f'space_key = {space_key}')\n",
        "    loader = ConfluenceLoader(url=url, username=username, api_key=password)\n",
        "    documents = loader.load(space_key=space_key, include_attachments=False, limit=10)\n",
        "    return documents\n",
        "\n",
        "# Load documents from Confluence space\n",
        "documents = load_documents(URL, USERNAME, PASSWORD, SPACE_KEY)\n",
        "\n",
        "# Convert loaded documents to a list of dictionaries and save them to a JSON file\n",
        "doc_dics = []\n",
        "for doc in documents:\n",
        "    d = {}\n",
        "    d['metadata'] = doc.metadata\n",
        "    d['page_content'] = doc.page_content\n",
        "    doc_dics.append(d)\n",
        "\n",
        "file_name = SPACE_KEY + '.json'\n",
        "with open(file_name, 'w') as f:\n",
        "    json.dump(doc_dics, f, sort_keys=False)"
      ],
      "metadata": {
        "id": "qkJmEij5Aixp"
      },
      "id": "qkJmEij5Aixp",
      "execution_count": null,
      "outputs": []
    },
    {
      "cell_type": "markdown",
      "source": [
        "### 3.1.2.Loading and splitting documents"
      ],
      "metadata": {
        "id": "j6lev8bSWizw"
      },
      "id": "j6lev8bSWizw"
    },
    {
      "cell_type": "code",
      "source": [
        "# Load JSON content from the file\n",
        "import json\n",
        "file_name = '/content/moon_flight_system_data_10k.json'\n",
        "\n",
        "with open(file_name, 'r') as f:\n",
        "    confluence_data = json.load(f)\n",
        "\n",
        "print(type(confluence_data), len(confluence_data))"
      ],
      "metadata": {
        "colab": {
          "base_uri": "https://localhost:8080/"
        },
        "id": "Y_f7uN5lWb9B",
        "outputId": "effb7ed2-72c0-4ea7-a524-2b9a770fdc45"
      },
      "id": "Y_f7uN5lWb9B",
      "execution_count": null,
      "outputs": [
        {
          "output_type": "stream",
          "name": "stdout",
          "text": [
            "<class 'list'> 10000\n"
          ]
        }
      ]
    },
    {
      "cell_type": "code",
      "source": [
        "# Create Langchain Document objects from JSON data\n",
        "from langchain_core.documents import Document\n",
        "confluence_documents = []\n",
        "for d in confluence_data:\n",
        "  confluence_documents.append(Document(page_content=d['page_content'], metadata=d['metadata']))\n",
        "\n",
        "logger.debug(len(confluence_documents))"
      ],
      "metadata": {
        "colab": {
          "base_uri": "https://localhost:8080/"
        },
        "id": "mWWk8OZdWq7A",
        "outputId": "dddc1c6e-0260-42be-8db8-db677b12bdcb"
      },
      "id": "mWWk8OZdWq7A",
      "execution_count": null,
      "outputs": [
        {
          "output_type": "stream",
          "name": "stderr",
          "text": [
            "\u001b[32m2024-09-19 07:36:54.895\u001b[0m | \u001b[34m\u001b[1mDEBUG   \u001b[0m | \u001b[36m__main__\u001b[0m:\u001b[36m<cell line: 7>\u001b[0m:\u001b[36m7\u001b[0m - \u001b[34m\u001b[1m10000\u001b[0m\n"
          ]
        }
      ]
    },
    {
      "cell_type": "code",
      "source": [
        "# Split Confluence documents into chunks\n",
        "logger.debug(len(confluence_documents))\n",
        "confluence_source_chunks = split_documents(confluence_documents)"
      ],
      "metadata": {
        "colab": {
          "base_uri": "https://localhost:8080/"
        },
        "id": "vJuUgODnWyi6",
        "outputId": "77f4b6ed-4895-44f4-faa8-e843996ea96f"
      },
      "id": "vJuUgODnWyi6",
      "execution_count": null,
      "outputs": [
        {
          "output_type": "stream",
          "name": "stderr",
          "text": [
            "\u001b[32m2024-09-19 07:37:02.403\u001b[0m | \u001b[34m\u001b[1mDEBUG   \u001b[0m | \u001b[36m__main__\u001b[0m:\u001b[36m<cell line: 2>\u001b[0m:\u001b[36m2\u001b[0m - \u001b[34m\u001b[1m10000\u001b[0m\n",
            "\u001b[32m2024-09-19 07:37:02.406\u001b[0m | \u001b[34m\u001b[1mDEBUG   \u001b[0m | \u001b[36m__main__\u001b[0m:\u001b[36msplit_documents\u001b[0m:\u001b[36m7\u001b[0m - \u001b[34m\u001b[1msplit_documents............\u001b[0m\n",
            "\u001b[32m2024-09-19 07:37:02.984\u001b[0m | \u001b[34m\u001b[1mDEBUG   \u001b[0m | \u001b[36m__main__\u001b[0m:\u001b[36msplit_documents\u001b[0m:\u001b[36m11\u001b[0m - \u001b[34m\u001b[1m<class 'list'>\u001b[0m\n",
            "\u001b[32m2024-09-19 07:37:02.985\u001b[0m | \u001b[34m\u001b[1mDEBUG   \u001b[0m | \u001b[36m__main__\u001b[0m:\u001b[36msplit_documents\u001b[0m:\u001b[36m12\u001b[0m - \u001b[34m\u001b[1m10000\u001b[0m\n",
            "\u001b[32m2024-09-19 07:37:02.991\u001b[0m | \u001b[34m\u001b[1mDEBUG   \u001b[0m | \u001b[36m__main__\u001b[0m:\u001b[36msplit_documents\u001b[0m:\u001b[36m13\u001b[0m - \u001b[34m\u001b[1m{'title': 'API Reference', 'id': '282083998', 'source': 'https://moonflightsystem.com/docs/282083998'}\u001b[0m\n",
            "\u001b[32m2024-09-19 07:37:02.992\u001b[0m | \u001b[34m\u001b[1mDEBUG   \u001b[0m | \u001b[36m__main__\u001b[0m:\u001b[36msplit_documents\u001b[0m:\u001b[36m17\u001b[0m - \u001b[34m\u001b[1msplit_documents elapsed_time = 0.583789587020874 sec\u001b[0m\n"
          ]
        }
      ]
    },
    {
      "cell_type": "markdown",
      "source": [
        "### 3.2.2.Vector Knowledge Base"
      ],
      "metadata": {
        "id": "NVy5MmQYXW8z"
      },
      "id": "NVy5MmQYXW8z"
    },
    {
      "cell_type": "markdown",
      "source": [
        "#### 3.2.2.1. Creating a new Vector Knowledge Base"
      ],
      "metadata": {
        "id": "KxwfrXoQNv49"
      },
      "id": "KxwfrXoQNv49"
    },
    {
      "cell_type": "code",
      "source": [
        "# Create the FAISS vector database for Confluence data\n",
        "confluence_db_file_name = '/content/db/DB_Confluence'\n",
        "confluence_db = create_db(confluence_source_chunks, embeddings, confluence_db_file_name)"
      ],
      "metadata": {
        "colab": {
          "base_uri": "https://localhost:8080/"
        },
        "id": "NMVL2-b9XXk8",
        "outputId": "172f95fb-caa7-4156-d0fd-8d46a826fe13"
      },
      "id": "NMVL2-b9XXk8",
      "execution_count": null,
      "outputs": [
        {
          "output_type": "stream",
          "name": "stderr",
          "text": [
            "\u001b[32m2024-09-19 07:40:48.114\u001b[0m | \u001b[34m\u001b[1mDEBUG   \u001b[0m | \u001b[36m__main__\u001b[0m:\u001b[36mcreate_db\u001b[0m:\u001b[36m5\u001b[0m - \u001b[34m\u001b[1mcreate_db............\u001b[0m\n",
            "\u001b[32m2024-09-19 07:41:35.999\u001b[0m | \u001b[34m\u001b[1mDEBUG   \u001b[0m | \u001b[36m__main__\u001b[0m:\u001b[36mcreate_db\u001b[0m:\u001b[36m10\u001b[0m - \u001b[34m\u001b[1mcreate_db elapsed_time = 47.88559341430664 sec\u001b[0m\n"
          ]
        }
      ]
    },
    {
      "cell_type": "markdown",
      "source": [
        "#### 3.2.2.2. Loading an existing Vector Knowledge Base"
      ],
      "metadata": {
        "id": "LN2wXm9nOFs1"
      },
      "id": "LN2wXm9nOFs1"
    },
    {
      "cell_type": "code",
      "source": [
        "confluence_db_file_name = '/content/db/DB_Confluence'\n",
        "confluence_db = load_db(confluence_db_file_name, embeddings)"
      ],
      "metadata": {
        "colab": {
          "base_uri": "https://localhost:8080/"
        },
        "id": "AZPHZNz7OOPZ",
        "outputId": "e91b8955-f3eb-4197-af38-4c3c17616fcc"
      },
      "id": "AZPHZNz7OOPZ",
      "execution_count": null,
      "outputs": [
        {
          "output_type": "stream",
          "name": "stderr",
          "text": [
            "\u001b[32m2024-09-19 07:45:26.841\u001b[0m | \u001b[34m\u001b[1mDEBUG   \u001b[0m | \u001b[36m__main__\u001b[0m:\u001b[36mload_db\u001b[0m:\u001b[36m2\u001b[0m - \u001b[34m\u001b[1mload_db............\u001b[0m\n",
            "\u001b[32m2024-09-19 07:45:27.786\u001b[0m | \u001b[34m\u001b[1mDEBUG   \u001b[0m | \u001b[36m__main__\u001b[0m:\u001b[36mload_db\u001b[0m:\u001b[36m7\u001b[0m - \u001b[34m\u001b[1mload_db elapsed_time = 0.9419596195220947 sec\u001b[0m\n"
          ]
        }
      ]
    },
    {
      "cell_type": "markdown",
      "source": [
        "# 4. Agents"
      ],
      "metadata": {
        "id": "MeCxRmFKQB-f"
      },
      "id": "MeCxRmFKQB-f"
    },
    {
      "cell_type": "markdown",
      "source": [
        "## 4.1. Create a retriever tools"
      ],
      "metadata": {
        "id": "HeCzl6L5YgLJ"
      },
      "id": "HeCzl6L5YgLJ"
    },
    {
      "cell_type": "code",
      "source": [
        "# Create retrievers for Jira and Confluence databases\n",
        "retriever_jira = jira_db.as_retriever()\n",
        "retriever_confluence = confluence_db.as_retriever()"
      ],
      "metadata": {
        "id": "Q6vSiqcjYfkT"
      },
      "id": "Q6vSiqcjYfkT",
      "execution_count": null,
      "outputs": []
    },
    {
      "cell_type": "code",
      "source": [
        "# Create tools for retrieval using the retrievers\n",
        "from langchain.tools.retriever import create_retriever_tool\n",
        "\n",
        "jira_retriever_tool = create_retriever_tool(\n",
        "    retriever_jira,\n",
        "    \"retrieve_jira_tickets\",\n",
        "    \"Search and return information about Jira tickets on Summary, Ticket key, Ticket id, Ticket Type, Status, Project key, Project name, Project type, Project lead and Project description.\",\n",
        ")\n",
        "\n",
        "confluence_retriever_tool = create_retriever_tool(\n",
        "    retriever_confluence,\n",
        "    \"retrieve_confluence\",\n",
        "    \"Search and return information from Confluence on products documentations.\",\n",
        ")\n",
        "\n",
        "# List of tools to be used\n",
        "tools = [jira_retriever_tool, confluence_retriever_tool]"
      ],
      "metadata": {
        "id": "J6e-SVHGYrqC"
      },
      "id": "J6e-SVHGYrqC",
      "execution_count": null,
      "outputs": []
    },
    {
      "cell_type": "markdown",
      "source": [
        "### 4.2. Agent state\n",
        "\n",
        "We will define a graph.\n",
        "\n",
        "A `state` object that it passes around to each node.\n",
        "\n",
        "Our state will be a list of `messages`.\n",
        "\n",
        "Each node in our graph will append to it."
      ],
      "metadata": {
        "id": "lbSts0kD7d3C"
      },
      "id": "lbSts0kD7d3C"
    },
    {
      "cell_type": "code",
      "source": [
        "# Define AgentState and necessary imports\n",
        "from typing import Annotated, Sequence, TypedDict\n",
        "from langchain_core.messages import BaseMessage\n",
        "from langgraph.graph.message import add_messages\n",
        "\n",
        "class AgentState(TypedDict):\n",
        "    # The add_messages function defines how an update should be processed\n",
        "    # Default is to replace. add_messages says \"append\"\n",
        "    messages: Annotated[Sequence[BaseMessage], add_messages]"
      ],
      "metadata": {
        "id": "R7S3EdDL7jKZ"
      },
      "id": "R7S3EdDL7jKZ",
      "execution_count": null,
      "outputs": []
    },
    {
      "cell_type": "markdown",
      "source": [
        "### 4.3. Nodes and Edges\n",
        "\n",
        "We can lay out an agentic RAG graph like this:\n",
        "\n",
        "* The state is a set of messages\n",
        "* Each node will update (append to) state\n",
        "* Conditional edges decide which node to visit next"
      ],
      "metadata": {
        "id": "WKUWZM6d7oyD"
      },
      "id": "WKUWZM6d7oyD"
    },
    {
      "cell_type": "markdown",
      "source": [
        "![image.png](data:image/png;base64,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)"
      ],
      "metadata": {
        "id": "NX-V7j2m7qRJ"
      },
      "id": "NX-V7j2m7qRJ"
    },
    {
      "cell_type": "code",
      "source": [
        "# Import necessary modules for nodes and edges\n",
        "from typing import Annotated, Literal, Sequence, TypedDict\n",
        "from langchain import hub\n",
        "from langchain_core.messages import BaseMessage, HumanMessage\n",
        "from langchain_core.output_parsers import StrOutputParser\n",
        "from langchain_core.prompts import PromptTemplate\n",
        "from langchain_core.pydantic_v1 import BaseModel, Field\n",
        "from langchain_openai import ChatOpenAI\n",
        "from langgraph.prebuilt import tools_condition\n",
        "\n",
        "### Edges\n",
        "\n",
        "# Function to grade documents' relevance to the question\n",
        "def grade_documents(state) -> Literal[\"generate\", \"rewrite\"]:\n",
        "    logger.debug(f'grade_documents............')\n",
        "    \"\"\"\n",
        "    Determines whether the retrieved documents are relevant to the question.\n",
        "\n",
        "    Args:\n",
        "        state (messages): The current state\n",
        "\n",
        "    Returns:\n",
        "        str: A decision for whether the documents are relevant or not\n",
        "    \"\"\"\n",
        "\n",
        "    print(\"---CHECK RELEVANCE---\")\n",
        "\n",
        "    # Data model\n",
        "    class grade(BaseModel):\n",
        "        \"\"\"Binary score for relevance check.\"\"\"\n",
        "\n",
        "        binary_score: str = Field(description=\"Relevance score 'yes' or 'no'\")\n",
        "\n",
        "    # LLM\n",
        "    model = ChatOpenAI(temperature=0, model=\"gpt-4o\", streaming=True)\n",
        "\n",
        "    # LLM with tool and validation\n",
        "    llm_with_tool = model.with_structured_output(grade)\n",
        "\n",
        "    # Prompt\n",
        "    prompt = PromptTemplate(\n",
        "        template=\"\"\"You are a grader assessing relevance of a retrieved document to a user question. \\n\n",
        "        Here is the retrieved document: \\n\\n {context} \\n\\n\n",
        "        Here is the user question: {question} \\n\n",
        "        If the document contains keyword(s) or semantic meaning related to the user question, grade it as relevant. \\n\n",
        "        Give a binary score 'yes' or 'no' score to indicate whether the document is relevant to the question.\"\"\",\n",
        "        input_variables=[\"context\", \"question\"],\n",
        "    )\n",
        "\n",
        "    # Chain\n",
        "    chain = prompt | llm_with_tool\n",
        "\n",
        "    messages = state[\"messages\"]\n",
        "    last_message = messages[-1]\n",
        "\n",
        "    question = messages[0].content\n",
        "    docs = last_message.content\n",
        "\n",
        "    scored_result = chain.invoke({\"question\": question, \"context\": docs})\n",
        "\n",
        "    score = scored_result.binary_score\n",
        "\n",
        "    if score == \"yes\":\n",
        "        print(\"---DECISION: DOCS RELEVANT---\")\n",
        "        return \"generate\"\n",
        "\n",
        "    else:\n",
        "        print(\"---DECISION: DOCS NOT RELEVANT---\")\n",
        "        print(score)\n",
        "        return \"rewrite\"\n",
        "\n",
        "\n",
        "### Nodes\n",
        "\n",
        "# Function for the agent node\n",
        "def agent(state):\n",
        "    logger.debug(f'agent............')\n",
        "    \"\"\"\n",
        "    Invokes the agent model to generate a response based on the current state. Given\n",
        "    the question, it will decide to retrieve using the retriever tool, or simply end.\n",
        "\n",
        "    Args:\n",
        "        state (messages): The current state\n",
        "\n",
        "    Returns:\n",
        "        dict: The updated state with the agent response appended to messages\n",
        "    \"\"\"\n",
        "    print(\"---CALL AGENT---\")\n",
        "    messages = state[\"messages\"]\n",
        "    model = ChatOpenAI(temperature=0, streaming=True, model=\"gpt-4o\")\n",
        "    model = model.bind_tools(tools)\n",
        "    response = model.invoke(messages)\n",
        "    # We return a list, because this will get added to the existing list\n",
        "    return {\"messages\": [response]}\n",
        "\n",
        "# Function to rewrite the query\n",
        "def rewrite(state):\n",
        "    logger.debug(f'rewrite............')\n",
        "    \"\"\"\n",
        "    Transform the query to produce a better question.\n",
        "\n",
        "    Args:\n",
        "        state (messages): The current state\n",
        "\n",
        "    Returns:\n",
        "        dict: The updated state with re-phrased question\n",
        "    \"\"\"\n",
        "\n",
        "    print(\"---TRANSFORM QUERY---\")\n",
        "    messages = state[\"messages\"]\n",
        "    question = messages[0].content\n",
        "\n",
        "    msg = [\n",
        "        HumanMessage(\n",
        "            content=f\"\"\" \\n\n",
        "    Look at the input and try to reason about the underlying semantic intent / meaning. \\n\n",
        "    Here is the initial question:\n",
        "    \\n ------- \\n\n",
        "    {question}\n",
        "    \\n ------- \\n\n",
        "    Formulate an improved question: \"\"\",\n",
        "        )\n",
        "    ]\n",
        "\n",
        "    # Grader\n",
        "    model = ChatOpenAI(temperature=0, model=\"gpt-4o\", streaming=True)\n",
        "    response = model.invoke(msg)\n",
        "    return {\"messages\": [response]}\n",
        "\n",
        "# Function to generate an answer\n",
        "def generate(state):\n",
        "    logger.debug(f'generate............')\n",
        "    \"\"\"\n",
        "    Generate answer\n",
        "\n",
        "    Args:\n",
        "        state (messages): The current state\n",
        "\n",
        "    Returns:\n",
        "         dict: The updated state with re-phrased question\n",
        "    \"\"\"\n",
        "    print(\"---GENERATE---\")\n",
        "    messages = state[\"messages\"]\n",
        "    question = messages[0].content\n",
        "    last_message = messages[-1]\n",
        "\n",
        "    docs = last_message.content\n",
        "\n",
        "    # Prompt\n",
        "    prompt = hub.pull(\"rlm/rag-prompt\")\n",
        "\n",
        "    # LLM\n",
        "    llm = ChatOpenAI(model_name=\"gpt-4o\", temperature=0, streaming=True)\n",
        "\n",
        "    # Post-processing\n",
        "    def format_docs(docs):\n",
        "        return \"\\n\\n\".join(doc.page_content for doc in docs)\n",
        "\n",
        "    # Chain\n",
        "    rag_chain = prompt | llm | StrOutputParser()\n",
        "\n",
        "    # Run\n",
        "    response = rag_chain.invoke({\"context\": docs, \"question\": question})\n",
        "    return {\"messages\": [response]}\n",
        "\n",
        "\n",
        "print(\"*\" * 20 + \"Prompt[rlm/rag-prompt]\" + \"*\" * 20)\n",
        "prompt = hub.pull(\"rlm/rag-prompt\").pretty_print()  # Show what the prompt looks like"
      ],
      "metadata": {
        "colab": {
          "base_uri": "https://localhost:8080/"
        },
        "id": "SycjJBBe8AFG",
        "outputId": "43542fb5-4c9c-475f-8c70-05d59f42ef2a"
      },
      "id": "SycjJBBe8AFG",
      "execution_count": null,
      "outputs": [
        {
          "output_type": "stream",
          "name": "stdout",
          "text": [
            "********************Prompt[rlm/rag-prompt]********************\n",
            "================================\u001b[1m Human Message \u001b[0m=================================\n",
            "\n",
            "You are an assistant for question-answering tasks. Use the following pieces of retrieved context to answer the question. If you don't know the answer, just say that you don't know. Use three sentences maximum and keep the answer concise.\n",
            "Question: \u001b[33;1m\u001b[1;3m{question}\u001b[0m \n",
            "Context: \u001b[33;1m\u001b[1;3m{context}\u001b[0m \n",
            "Answer:\n"
          ]
        },
        {
          "output_type": "stream",
          "name": "stderr",
          "text": [
            "/usr/local/lib/python3.10/dist-packages/langchain/hub.py:86: DeprecationWarning: The `langchainhub sdk` is deprecated.\n",
            "Please use the `langsmith sdk` instead:\n",
            "  pip install langsmith\n",
            "Use the `pull_prompt` method.\n",
            "  res_dict = client.pull_repo(owner_repo_commit)\n"
          ]
        }
      ]
    },
    {
      "cell_type": "markdown",
      "source": [
        "### 4.4. Graph\n",
        "\n",
        "* Start with an agent, `call_model`\n",
        "* Agent make a decision to call a function\n",
        "* If so, then `action` to call tool (retriever)\n",
        "* Then call agent with the tool output added to messages (`state`)"
      ],
      "metadata": {
        "id": "XseWTdyfAsy4"
      },
      "id": "XseWTdyfAsy4"
    },
    {
      "cell_type": "code",
      "source": [
        "from langgraph.graph import END, StateGraph, START\n",
        "from langgraph.prebuilt import ToolNode\n",
        "\n",
        "# Define a new graph for the agent workflow\n",
        "workflow = StateGraph(AgentState)\n",
        "\n",
        "# Define the nodes we will cycle between\n",
        "workflow.add_node(\"agent\", agent)  # agent\n",
        "retrieve = ToolNode([jira_retriever_tool, confluence_retriever_tool])\n",
        "workflow.add_node(\"retrieve\", retrieve)  # retrieval\n",
        "workflow.add_node(\"rewrite\", rewrite)  # Re-writing the question\n",
        "workflow.add_node(\n",
        "    \"generate\", generate\n",
        ")  # Generating a response after we know the documents are relevant\n",
        "# Call agent node to decide to retrieve or not\n",
        "workflow.add_edge(START, \"agent\")\n",
        "\n",
        "# Decide whether to retrieve\n",
        "workflow.add_conditional_edges(\n",
        "    \"agent\",\n",
        "    # Assess agent decision\n",
        "    tools_condition,\n",
        "    {\n",
        "        # Translate the condition outputs to nodes in our graph\n",
        "        \"tools\": \"retrieve\",\n",
        "        END: END,\n",
        "    },\n",
        ")\n",
        "\n",
        "# Edges taken after the `action` node is called.\n",
        "workflow.add_conditional_edges(\n",
        "    \"retrieve\",\n",
        "    # Assess agent decision\n",
        "    grade_documents,\n",
        ")\n",
        "workflow.add_edge(\"generate\", END)\n",
        "workflow.add_edge(\"rewrite\", \"agent\")\n",
        "\n",
        "# Compile the graph\n",
        "graph = workflow.compile()"
      ],
      "metadata": {
        "colab": {
          "base_uri": "https://localhost:8080/"
        },
        "id": "0hXgx8lcAuNf",
        "outputId": "61802cab-48b8-49c3-ee07-6310211e13c7"
      },
      "id": "0hXgx8lcAuNf",
      "execution_count": null,
      "outputs": [
        {
          "output_type": "stream",
          "name": "stderr",
          "text": [
            "/usr/local/lib/python3.10/dist-packages/ipykernel/ipkernel.py:283: DeprecationWarning: `should_run_async` will not call `transform_cell` automatically in the future. Please pass the result to `transformed_cell` argument and any exception that happen during thetransform in `preprocessing_exc_tuple` in IPython 7.17 and above.\n",
            "  and should_run_async(code)\n"
          ]
        }
      ]
    },
    {
      "cell_type": "code",
      "source": [
        "from IPython.display import Image, display\n",
        "# Display the compiled graph\n",
        "try:\n",
        "    display(Image(graph.get_graph(xray=True).draw_mermaid_png()))\n",
        "except Exception:\n",
        "    # This requires some extra dependencies and is optional\n",
        "    pass"
      ],
      "metadata": {
        "colab": {
          "base_uri": "https://localhost:8080/",
          "height": 529
        },
        "id": "pr4UmZKAAy-3",
        "outputId": "6287f595-b0fd-4569-e6bf-9333d8e7d1d9"
      },
      "id": "pr4UmZKAAy-3",
      "execution_count": null,
      "outputs": [
        {
          "output_type": "stream",
          "name": "stderr",
          "text": [
            "/usr/local/lib/python3.10/dist-packages/ipykernel/ipkernel.py:283: DeprecationWarning: `should_run_async` will not call `transform_cell` automatically in the future. Please pass the result to `transformed_cell` argument and any exception that happen during thetransform in `preprocessing_exc_tuple` in IPython 7.17 and above.\n",
            "  and should_run_async(code)\n"
          ]
        },
        {
          "output_type": "display_data",
          "data": {
            "image/jpeg": "[encoded data removed]",
            "text/plain": [
              "<IPython.core.display.Image object>"
            ]
          },
          "metadata": {}
        }
      ]
    },
    {
      "cell_type": "code",
      "source": [
        "import pprint\n",
        "def ask_agent(question):\n",
        "  # Function to ask a question to the agent\n",
        "  logger.debug('ask_agent............')\n",
        "  response = 'Stub for the response'\n",
        "  start_time = time.time()\n",
        "  logger.debug(f'question = {question}')\n",
        "  inputs = {\n",
        "    \"messages\": [\n",
        "        (\"user\", question),\n",
        "    ]\n",
        "  }\n",
        "  for output in graph.stream(inputs):\n",
        "    for key, value in output.items():\n",
        "        pprint.pprint(f\"Output from node '{key}':\")\n",
        "        pprint.pprint(\"---\")\n",
        "        pprint.pprint(value, indent=2, width=80, depth=None)\n",
        "        response = value\n",
        "    pprint.pprint(\"---END---\")\n",
        "\n",
        "  end_time = time.time()\n",
        "  elapsed_time = end_time - start_time\n",
        "  logger.debug(f'ask_agent elapsed_time = {elapsed_time} sec')\n",
        "  return response"
      ],
      "metadata": {
        "colab": {
          "base_uri": "https://localhost:8080/"
        },
        "id": "AwcI9mZQWj2k",
        "outputId": "aca975e4-f9ed-4907-9f9f-3200d2e8ed42"
      },
      "id": "AwcI9mZQWj2k",
      "execution_count": null,
      "outputs": [
        {
          "output_type": "stream",
          "name": "stderr",
          "text": [
            "/usr/local/lib/python3.10/dist-packages/ipykernel/ipkernel.py:283: DeprecationWarning: `should_run_async` will not call `transform_cell` automatically in the future. Please pass the result to `transformed_cell` argument and any exception that happen during thetransform in `preprocessing_exc_tuple` in IPython 7.17 and above.\n",
            "  and should_run_async(code)\n"
          ]
        }
      ]
    },
    {
      "cell_type": "code",
      "source": [
        "# Ask a question to the agent\n",
        "response = ask_agent(\"Give me tickets related to Moon Flight System. I need Ticket id, Summary and Project name.\")\n",
        "pprint.pprint(response)"
      ],
      "metadata": {
        "colab": {
          "base_uri": "https://localhost:8080/"
        },
        "id": "h2j0qVsjXsDk",
        "outputId": "90074a20-dc00-40d7-ff0c-f7ed2eb38f33"
      },
      "id": "h2j0qVsjXsDk",
      "execution_count": null,
      "outputs": [
        {
          "output_type": "stream",
          "name": "stderr",
          "text": [
            "/usr/local/lib/python3.10/dist-packages/ipykernel/ipkernel.py:283: DeprecationWarning: `should_run_async` will not call `transform_cell` automatically in the future. Please pass the result to `transformed_cell` argument and any exception that happen during thetransform in `preprocessing_exc_tuple` in IPython 7.17 and above.\n",
            "  and should_run_async(code)\n",
            "\u001b[32m2024-09-19 07:46:31.238\u001b[0m | \u001b[34m\u001b[1mDEBUG   \u001b[0m | \u001b[36m__main__\u001b[0m:\u001b[36mask_agent\u001b[0m:\u001b[36m4\u001b[0m - \u001b[34m\u001b[1mask_agent............\u001b[0m\n",
            "\u001b[32m2024-09-19 07:46:31.241\u001b[0m | \u001b[34m\u001b[1mDEBUG   \u001b[0m | \u001b[36m__main__\u001b[0m:\u001b[36mask_agent\u001b[0m:\u001b[36m7\u001b[0m - \u001b[34m\u001b[1mquestion = Give me tickets related to Moon Flight System. I need Ticket id, Summary and Project name.\u001b[0m\n",
            "\u001b[32m2024-09-19 07:46:31.259\u001b[0m | \u001b[34m\u001b[1mDEBUG   \u001b[0m | \u001b[36m__main__\u001b[0m:\u001b[36magent\u001b[0m:\u001b[36m77\u001b[0m - \u001b[34m\u001b[1magent............\u001b[0m\n"
          ]
        },
        {
          "output_type": "stream",
          "name": "stdout",
          "text": [
            "---CALL AGENT---\n",
            "\"Output from node 'agent':\"\n",
            "'---'\n",
            "{ 'messages': [ AIMessage(content='', additional_kwargs={'tool_calls': [{'index': 0, 'id': 'call_Ke6YUxjMOJSVVKUEXvPJ1VYa', 'function': {'arguments': '{\"query\":\"Moon Flight System\"}', 'name': 'retrieve_jira_tickets'}, 'type': 'function'}]}, response_metadata={'finish_reason': 'tool_calls'}, id='run-24eab141-4dea-4066-8b1c-31bd523d20e5-0', tool_calls=[{'name': 'retrieve_jira_tickets', 'args': {'query': 'Moon Flight System'}, 'id': 'call_Ke6YUxjMOJSVVKUEXvPJ1VYa', 'type': 'tool_call'}])]}\n",
            "'---END---'\n"
          ]
        },
        {
          "output_type": "stream",
          "name": "stderr",
          "text": [
            "\u001b[32m2024-09-19 07:46:32.266\u001b[0m | \u001b[34m\u001b[1mDEBUG   \u001b[0m | \u001b[36m__main__\u001b[0m:\u001b[36mgrade_documents\u001b[0m:\u001b[36m15\u001b[0m - \u001b[34m\u001b[1mgrade_documents............\u001b[0m\n"
          ]
        },
        {
          "output_type": "stream",
          "name": "stdout",
          "text": [
            "---CHECK RELEVANCE---\n"
          ]
        },
        {
          "output_type": "stream",
          "name": "stderr",
          "text": [
            "\u001b[32m2024-09-19 07:46:33.319\u001b[0m | \u001b[34m\u001b[1mDEBUG   \u001b[0m | \u001b[36m__main__\u001b[0m:\u001b[36mrewrite\u001b[0m:\u001b[36m98\u001b[0m - \u001b[34m\u001b[1mrewrite............\u001b[0m\n"
          ]
        },
        {
          "output_type": "stream",
          "name": "stdout",
          "text": [
            "---DECISION: DOCS NOT RELEVANT---\n",
            "no\n",
            "\"Output from node 'retrieve':\"\n",
            "'---'\n",
            "{ 'messages': [ ToolMessage(content='\"Project name\": \"Moon Flight System\",\\n        \"Project type\": \"software\",\\n        \"Project lead\": \"hendersonbrian\",\\n        \"Project description\": \"Moon Flight System software project\",\\n        \"Project url\": \"http://www.cannon-oconnell.com/\",\\n        \"Priority\": \"Critical\",\\n        \"Resolution\": \"Fixed\",\\n        \"Assignee\": \"hendersonbrian\",\\n        \"Reporter\": \"kruegermitchell\",\\n        \"Creator\": \"acolon\",\\n        \"Created\": \"2023-09-21 20:22:50\",\\n        \"Updated\": \"2023-10-22 01:02:56\",\\n\\n\"Project name\": \"Moon Flight System\",\\n        \"Project type\": \"software\",\\n        \"Project lead\": \"nathan73\",\\n        \"Project description\": \"Moon Flight System software project\",\\n        \"Project url\": \"https://www.johnson-collins.com/\",\\n        \"Priority\": \"Low\",\\n        \"Resolution\": \"Won\\'t Fix\",\\n        \"Assignee\": \"nathan73\",\\n        \"Reporter\": \"sheliatorres\",\\n        \"Creator\": \"jonathongillespie\",\\n        \"Created\": \"2023-09-14 03:34:27\",\\n        \"Updated\": \"2023-09-24 22:02:13\",\\n\\n\"Project name\": \"Moon Flight System\",\\n        \"Project type\": \"software\",\\n        \"Project lead\": \"brandilindsey\",\\n        \"Project description\": \"Moon Flight System software project\",\\n        \"Project url\": \"https://www.morgan-peterson.com/\",\\n        \"Priority\": \"High\",\\n        \"Resolution\": \"Won\\'t Fix\",\\n        \"Assignee\": \"brandilindsey\",\\n        \"Reporter\": \"veronica64\",\\n        \"Creator\": \"tiffanyfranklin\",\\n        \"Created\": \"2023-09-27 09:08:27\",\\n        \"Updated\": \"2023-09-07 12:23:20\",\\n\\n\"Project name\": \"Moon Flight System\",\\n        \"Project type\": \"software\",\\n        \"Project lead\": \"james66\",\\n        \"Project description\": \"Moon Flight System software project\",\\n        \"Project url\": \"http://www.morgan.net/\",\\n        \"Priority\": \"Medium\",\\n        \"Resolution\": \"Fixed\",\\n        \"Assignee\": \"james66\",\\n        \"Reporter\": \"briana22\",\\n        \"Creator\": \"hollywagner\",\\n        \"Created\": \"2023-09-01 02:14:55\",\\n        \"Updated\": \"2023-10-21 01:39:52\",\\n        \"Last Viewed\": \"\",', name='retrieve_jira_tickets', id='8e0b4622-769c-429b-8d30-bd6aa71b05ad', tool_call_id='call_Ke6YUxjMOJSVVKUEXvPJ1VYa')]}\n",
            "'---END---'\n",
            "---TRANSFORM QUERY---\n"
          ]
        },
        {
          "output_type": "stream",
          "name": "stderr",
          "text": [
            "\u001b[32m2024-09-19 07:46:35.092\u001b[0m | \u001b[34m\u001b[1mDEBUG   \u001b[0m | \u001b[36m__main__\u001b[0m:\u001b[36magent\u001b[0m:\u001b[36m77\u001b[0m - \u001b[34m\u001b[1magent............\u001b[0m\n"
          ]
        },
        {
          "output_type": "stream",
          "name": "stdout",
          "text": [
            "\"Output from node 'rewrite':\"\n",
            "'---'\n",
            "{ 'messages': [ AIMessage(content='Certainly! Here\\'s an improved version of the question:\\n\\n\"Could you provide the ticket IDs, summaries, and project names for all tickets related to the Moon Flight System?\"', response_metadata={'finish_reason': 'stop'}, id='run-25f59c90-0eb1-48f8-9d18-8b20e8bea2ca-0')]}\n",
            "'---END---'\n",
            "---CALL AGENT---\n",
            "\"Output from node 'agent':\"\n",
            "'---'\n",
            "{ 'messages': [ AIMessage(content='', additional_kwargs={'tool_calls': [{'index': 0, 'id': 'call_Ak10lOiT56rduYnlQ779KN3N', 'function': {'arguments': '{\"query\":\"Moon Flight System\"}', 'name': 'retrieve_jira_tickets'}, 'type': 'function'}]}, response_metadata={'finish_reason': 'tool_calls'}, id='run-d02159b9-4311-489f-81a2-1a732260ac1b-0', tool_calls=[{'name': 'retrieve_jira_tickets', 'args': {'query': 'Moon Flight System'}, 'id': 'call_Ak10lOiT56rduYnlQ779KN3N', 'type': 'tool_call'}])]}\n",
            "'---END---'\n"
          ]
        },
        {
          "output_type": "stream",
          "name": "stderr",
          "text": [
            "\u001b[32m2024-09-19 07:46:36.044\u001b[0m | \u001b[34m\u001b[1mDEBUG   \u001b[0m | \u001b[36m__main__\u001b[0m:\u001b[36mgrade_documents\u001b[0m:\u001b[36m15\u001b[0m - \u001b[34m\u001b[1mgrade_documents............\u001b[0m\n"
          ]
        },
        {
          "output_type": "stream",
          "name": "stdout",
          "text": [
            "---CHECK RELEVANCE---\n"
          ]
        },
        {
          "output_type": "stream",
          "name": "stderr",
          "text": [
            "\u001b[32m2024-09-19 07:46:37.089\u001b[0m | \u001b[34m\u001b[1mDEBUG   \u001b[0m | \u001b[36m__main__\u001b[0m:\u001b[36mrewrite\u001b[0m:\u001b[36m98\u001b[0m - \u001b[34m\u001b[1mrewrite............\u001b[0m\n"
          ]
        },
        {
          "output_type": "stream",
          "name": "stdout",
          "text": [
            "---DECISION: DOCS NOT RELEVANT---\n",
            "no\n",
            "\"Output from node 'retrieve':\"\n",
            "'---'\n",
            "{ 'messages': [ ToolMessage(content='\"Project name\": \"Moon Flight System\",\\n        \"Project type\": \"software\",\\n        \"Project lead\": \"hendersonbrian\",\\n        \"Project description\": \"Moon Flight System software project\",\\n        \"Project url\": \"http://www.cannon-oconnell.com/\",\\n        \"Priority\": \"Critical\",\\n        \"Resolution\": \"Fixed\",\\n        \"Assignee\": \"hendersonbrian\",\\n        \"Reporter\": \"kruegermitchell\",\\n        \"Creator\": \"acolon\",\\n        \"Created\": \"2023-09-21 20:22:50\",\\n        \"Updated\": \"2023-10-22 01:02:56\",\\n\\n\"Project name\": \"Moon Flight System\",\\n        \"Project type\": \"software\",\\n        \"Project lead\": \"nathan73\",\\n        \"Project description\": \"Moon Flight System software project\",\\n        \"Project url\": \"https://www.johnson-collins.com/\",\\n        \"Priority\": \"Low\",\\n        \"Resolution\": \"Won\\'t Fix\",\\n        \"Assignee\": \"nathan73\",\\n        \"Reporter\": \"sheliatorres\",\\n        \"Creator\": \"jonathongillespie\",\\n        \"Created\": \"2023-09-14 03:34:27\",\\n        \"Updated\": \"2023-09-24 22:02:13\",\\n\\n\"Project name\": \"Moon Flight System\",\\n        \"Project type\": \"software\",\\n        \"Project lead\": \"brandilindsey\",\\n        \"Project description\": \"Moon Flight System software project\",\\n        \"Project url\": \"https://www.morgan-peterson.com/\",\\n        \"Priority\": \"High\",\\n        \"Resolution\": \"Won\\'t Fix\",\\n        \"Assignee\": \"brandilindsey\",\\n        \"Reporter\": \"veronica64\",\\n        \"Creator\": \"tiffanyfranklin\",\\n        \"Created\": \"2023-09-27 09:08:27\",\\n        \"Updated\": \"2023-09-07 12:23:20\",\\n\\n\"Project name\": \"Moon Flight System\",\\n        \"Project type\": \"software\",\\n        \"Project lead\": \"james66\",\\n        \"Project description\": \"Moon Flight System software project\",\\n        \"Project url\": \"http://www.morgan.net/\",\\n        \"Priority\": \"Medium\",\\n        \"Resolution\": \"Fixed\",\\n        \"Assignee\": \"james66\",\\n        \"Reporter\": \"briana22\",\\n        \"Creator\": \"hollywagner\",\\n        \"Created\": \"2023-09-01 02:14:55\",\\n        \"Updated\": \"2023-10-21 01:39:52\",\\n        \"Last Viewed\": \"\",', name='retrieve_jira_tickets', id='7280e246-699e-47d8-a6b1-8faed792941d', tool_call_id='call_Ak10lOiT56rduYnlQ779KN3N')]}\n",
            "'---END---'\n",
            "---TRANSFORM QUERY---\n"
          ]
        },
        {
          "output_type": "stream",
          "name": "stderr",
          "text": [
            "\u001b[32m2024-09-19 07:46:38.590\u001b[0m | \u001b[34m\u001b[1mDEBUG   \u001b[0m | \u001b[36m__main__\u001b[0m:\u001b[36magent\u001b[0m:\u001b[36m77\u001b[0m - \u001b[34m\u001b[1magent............\u001b[0m\n"
          ]
        },
        {
          "output_type": "stream",
          "name": "stdout",
          "text": [
            "\"Output from node 'rewrite':\"\n",
            "'---'\n",
            "{ 'messages': [ AIMessage(content=\"Certainly! Here's an improved version of the question:\\n\\n---\\n\\nCould you provide the ticket details for the Moon Flight System? Specifically, I need the Ticket ID, Summary, and Project Name for each relevant ticket.\\n\\n---\\n\\nThis version is clearer and more specific about the information being requested.\", response_metadata={'finish_reason': 'stop'}, id='run-fac7fa8f-b7c8-4253-aa78-d305207455b0-0')]}\n",
            "'---END---'\n",
            "---CALL AGENT---\n",
            "\"Output from node 'agent':\"\n",
            "'---'\n",
            "{ 'messages': [ AIMessage(content='', additional_kwargs={'tool_calls': [{'index': 0, 'id': 'call_PWxtkFOo2RzNX0BdgDpmUw1a', 'function': {'arguments': '{\"query\":\"Moon Flight System\"}', 'name': 'retrieve_jira_tickets'}, 'type': 'function'}]}, response_metadata={'finish_reason': 'tool_calls'}, id='run-5cd25c0c-655d-4b2b-b7c8-80f0494283c5-0', tool_calls=[{'name': 'retrieve_jira_tickets', 'args': {'query': 'Moon Flight System'}, 'id': 'call_PWxtkFOo2RzNX0BdgDpmUw1a', 'type': 'tool_call'}])]}\n",
            "'---END---'\n"
          ]
        },
        {
          "output_type": "stream",
          "name": "stderr",
          "text": [
            "\u001b[32m2024-09-19 07:46:39.449\u001b[0m | \u001b[34m\u001b[1mDEBUG   \u001b[0m | \u001b[36m__main__\u001b[0m:\u001b[36mgrade_documents\u001b[0m:\u001b[36m15\u001b[0m - \u001b[34m\u001b[1mgrade_documents............\u001b[0m\n"
          ]
        },
        {
          "output_type": "stream",
          "name": "stdout",
          "text": [
            "---CHECK RELEVANCE---\n"
          ]
        },
        {
          "output_type": "stream",
          "name": "stderr",
          "text": [
            "\u001b[32m2024-09-19 07:46:40.489\u001b[0m | \u001b[34m\u001b[1mDEBUG   \u001b[0m | \u001b[36m__main__\u001b[0m:\u001b[36mrewrite\u001b[0m:\u001b[36m98\u001b[0m - \u001b[34m\u001b[1mrewrite............\u001b[0m\n"
          ]
        },
        {
          "output_type": "stream",
          "name": "stdout",
          "text": [
            "---DECISION: DOCS NOT RELEVANT---\n",
            "no\n",
            "\"Output from node 'retrieve':\"\n",
            "'---'\n",
            "{ 'messages': [ ToolMessage(content='\"Project name\": \"Moon Flight System\",\\n        \"Project type\": \"software\",\\n        \"Project lead\": \"hendersonbrian\",\\n        \"Project description\": \"Moon Flight System software project\",\\n        \"Project url\": \"http://www.cannon-oconnell.com/\",\\n        \"Priority\": \"Critical\",\\n        \"Resolution\": \"Fixed\",\\n        \"Assignee\": \"hendersonbrian\",\\n        \"Reporter\": \"kruegermitchell\",\\n        \"Creator\": \"acolon\",\\n        \"Created\": \"2023-09-21 20:22:50\",\\n        \"Updated\": \"2023-10-22 01:02:56\",\\n\\n\"Project name\": \"Moon Flight System\",\\n        \"Project type\": \"software\",\\n        \"Project lead\": \"nathan73\",\\n        \"Project description\": \"Moon Flight System software project\",\\n        \"Project url\": \"https://www.johnson-collins.com/\",\\n        \"Priority\": \"Low\",\\n        \"Resolution\": \"Won\\'t Fix\",\\n        \"Assignee\": \"nathan73\",\\n        \"Reporter\": \"sheliatorres\",\\n        \"Creator\": \"jonathongillespie\",\\n        \"Created\": \"2023-09-14 03:34:27\",\\n        \"Updated\": \"2023-09-24 22:02:13\",\\n\\n\"Project name\": \"Moon Flight System\",\\n        \"Project type\": \"software\",\\n        \"Project lead\": \"brandilindsey\",\\n        \"Project description\": \"Moon Flight System software project\",\\n        \"Project url\": \"https://www.morgan-peterson.com/\",\\n        \"Priority\": \"High\",\\n        \"Resolution\": \"Won\\'t Fix\",\\n        \"Assignee\": \"brandilindsey\",\\n        \"Reporter\": \"veronica64\",\\n        \"Creator\": \"tiffanyfranklin\",\\n        \"Created\": \"2023-09-27 09:08:27\",\\n        \"Updated\": \"2023-09-07 12:23:20\",\\n\\n\"Project name\": \"Moon Flight System\",\\n        \"Project type\": \"software\",\\n        \"Project lead\": \"james66\",\\n        \"Project description\": \"Moon Flight System software project\",\\n        \"Project url\": \"http://www.morgan.net/\",\\n        \"Priority\": \"Medium\",\\n        \"Resolution\": \"Fixed\",\\n        \"Assignee\": \"james66\",\\n        \"Reporter\": \"briana22\",\\n        \"Creator\": \"hollywagner\",\\n        \"Created\": \"2023-09-01 02:14:55\",\\n        \"Updated\": \"2023-10-21 01:39:52\",\\n        \"Last Viewed\": \"\",', name='retrieve_jira_tickets', id='0bf00fa1-abd6-4b4d-b3fa-dc7e5fd07248', tool_call_id='call_PWxtkFOo2RzNX0BdgDpmUw1a')]}\n",
            "'---END---'\n",
            "---TRANSFORM QUERY---\n"
          ]
        },
        {
          "output_type": "stream",
          "name": "stderr",
          "text": [
            "\u001b[32m2024-09-19 07:46:41.488\u001b[0m | \u001b[34m\u001b[1mDEBUG   \u001b[0m | \u001b[36m__main__\u001b[0m:\u001b[36magent\u001b[0m:\u001b[36m77\u001b[0m - \u001b[34m\u001b[1magent............\u001b[0m\n"
          ]
        },
        {
          "output_type": "stream",
          "name": "stdout",
          "text": [
            "\"Output from node 'rewrite':\"\n",
            "'---'\n",
            "{ 'messages': [ AIMessage(content='Could you please provide the ticket IDs, summaries, and project names for all tickets related to the Moon Flight System?', response_metadata={'finish_reason': 'stop'}, id='run-37fa91d2-041b-437b-b180-e802a36b2e39-0')]}\n",
            "'---END---'\n",
            "---CALL AGENT---\n",
            "\"Output from node 'agent':\"\n",
            "'---'\n",
            "{ 'messages': [ AIMessage(content='', additional_kwargs={'tool_calls': [{'index': 0, 'id': 'call_RMKUxpn8zSmGFNMTFjU3Anv9', 'function': {'arguments': '{\"query\":\"Moon Flight System\"}', 'name': 'retrieve_jira_tickets'}, 'type': 'function'}]}, response_metadata={'finish_reason': 'tool_calls'}, id='run-f16a948d-0912-4370-908f-20037b316d9b-0', tool_calls=[{'name': 'retrieve_jira_tickets', 'args': {'query': 'Moon Flight System'}, 'id': 'call_RMKUxpn8zSmGFNMTFjU3Anv9', 'type': 'tool_call'}])]}\n",
            "'---END---'\n"
          ]
        },
        {
          "output_type": "stream",
          "name": "stderr",
          "text": [
            "\u001b[32m2024-09-19 07:46:42.413\u001b[0m | \u001b[34m\u001b[1mDEBUG   \u001b[0m | \u001b[36m__main__\u001b[0m:\u001b[36mgrade_documents\u001b[0m:\u001b[36m15\u001b[0m - \u001b[34m\u001b[1mgrade_documents............\u001b[0m\n"
          ]
        },
        {
          "output_type": "stream",
          "name": "stdout",
          "text": [
            "---CHECK RELEVANCE---\n"
          ]
        },
        {
          "output_type": "stream",
          "name": "stderr",
          "text": [
            "\u001b[32m2024-09-19 07:46:43.530\u001b[0m | \u001b[34m\u001b[1mDEBUG   \u001b[0m | \u001b[36m__main__\u001b[0m:\u001b[36mrewrite\u001b[0m:\u001b[36m98\u001b[0m - \u001b[34m\u001b[1mrewrite............\u001b[0m\n"
          ]
        },
        {
          "output_type": "stream",
          "name": "stdout",
          "text": [
            "---DECISION: DOCS NOT RELEVANT---\n",
            "no\n",
            "\"Output from node 'retrieve':\"\n",
            "'---'\n",
            "{ 'messages': [ ToolMessage(content='\"Project name\": \"Moon Flight System\",\\n        \"Project type\": \"software\",\\n        \"Project lead\": \"hendersonbrian\",\\n        \"Project description\": \"Moon Flight System software project\",\\n        \"Project url\": \"http://www.cannon-oconnell.com/\",\\n        \"Priority\": \"Critical\",\\n        \"Resolution\": \"Fixed\",\\n        \"Assignee\": \"hendersonbrian\",\\n        \"Reporter\": \"kruegermitchell\",\\n        \"Creator\": \"acolon\",\\n        \"Created\": \"2023-09-21 20:22:50\",\\n        \"Updated\": \"2023-10-22 01:02:56\",\\n\\n\"Project name\": \"Moon Flight System\",\\n        \"Project type\": \"software\",\\n        \"Project lead\": \"nathan73\",\\n        \"Project description\": \"Moon Flight System software project\",\\n        \"Project url\": \"https://www.johnson-collins.com/\",\\n        \"Priority\": \"Low\",\\n        \"Resolution\": \"Won\\'t Fix\",\\n        \"Assignee\": \"nathan73\",\\n        \"Reporter\": \"sheliatorres\",\\n        \"Creator\": \"jonathongillespie\",\\n        \"Created\": \"2023-09-14 03:34:27\",\\n        \"Updated\": \"2023-09-24 22:02:13\",\\n\\n\"Project name\": \"Moon Flight System\",\\n        \"Project type\": \"software\",\\n        \"Project lead\": \"brandilindsey\",\\n        \"Project description\": \"Moon Flight System software project\",\\n        \"Project url\": \"https://www.morgan-peterson.com/\",\\n        \"Priority\": \"High\",\\n        \"Resolution\": \"Won\\'t Fix\",\\n        \"Assignee\": \"brandilindsey\",\\n        \"Reporter\": \"veronica64\",\\n        \"Creator\": \"tiffanyfranklin\",\\n        \"Created\": \"2023-09-27 09:08:27\",\\n        \"Updated\": \"2023-09-07 12:23:20\",\\n\\n\"Project name\": \"Moon Flight System\",\\n        \"Project type\": \"software\",\\n        \"Project lead\": \"james66\",\\n        \"Project description\": \"Moon Flight System software project\",\\n        \"Project url\": \"http://www.morgan.net/\",\\n        \"Priority\": \"Medium\",\\n        \"Resolution\": \"Fixed\",\\n        \"Assignee\": \"james66\",\\n        \"Reporter\": \"briana22\",\\n        \"Creator\": \"hollywagner\",\\n        \"Created\": \"2023-09-01 02:14:55\",\\n        \"Updated\": \"2023-10-21 01:39:52\",\\n        \"Last Viewed\": \"\",', name='retrieve_jira_tickets', id='52315674-b08f-472e-ba05-5948e60c7498', tool_call_id='call_RMKUxpn8zSmGFNMTFjU3Anv9')]}\n",
            "'---END---'\n",
            "---TRANSFORM QUERY---\n"
          ]
        },
        {
          "output_type": "stream",
          "name": "stderr",
          "text": [
            "\u001b[32m2024-09-19 07:46:44.327\u001b[0m | \u001b[34m\u001b[1mDEBUG   \u001b[0m | \u001b[36m__main__\u001b[0m:\u001b[36magent\u001b[0m:\u001b[36m77\u001b[0m - \u001b[34m\u001b[1magent............\u001b[0m\n"
          ]
        },
        {
          "output_type": "stream",
          "name": "stdout",
          "text": [
            "\"Output from node 'rewrite':\"\n",
            "'---'\n",
            "{ 'messages': [ AIMessage(content='Could you please provide the ticket ID, summary, and project name for all tickets related to the Moon Flight System?', response_metadata={'finish_reason': 'stop'}, id='run-46c43389-07d9-406f-9764-d1b6aade700c-0')]}\n",
            "'---END---'\n",
            "---CALL AGENT---\n",
            "\"Output from node 'agent':\"\n",
            "'---'\n",
            "{ 'messages': [ AIMessage(content='', additional_kwargs={'tool_calls': [{'index': 0, 'id': 'call_cKN79kzwNCixMwcoLqziJiYT', 'function': {'arguments': '{\"query\":\"Moon Flight System\"}', 'name': 'retrieve_jira_tickets'}, 'type': 'function'}]}, response_metadata={'finish_reason': 'tool_calls'}, id='run-eaf51edb-51eb-4d34-823d-01aa360c070e-0', tool_calls=[{'name': 'retrieve_jira_tickets', 'args': {'query': 'Moon Flight System'}, 'id': 'call_cKN79kzwNCixMwcoLqziJiYT', 'type': 'tool_call'}])]}\n",
            "'---END---'\n"
          ]
        },
        {
          "output_type": "stream",
          "name": "stderr",
          "text": [
            "\u001b[32m2024-09-19 07:46:45.440\u001b[0m | \u001b[34m\u001b[1mDEBUG   \u001b[0m | \u001b[36m__main__\u001b[0m:\u001b[36mgrade_documents\u001b[0m:\u001b[36m15\u001b[0m - \u001b[34m\u001b[1mgrade_documents............\u001b[0m\n"
          ]
        },
        {
          "output_type": "stream",
          "name": "stdout",
          "text": [
            "---CHECK RELEVANCE---\n"
          ]
        },
        {
          "output_type": "stream",
          "name": "stderr",
          "text": [
            "\u001b[32m2024-09-19 07:46:46.496\u001b[0m | \u001b[34m\u001b[1mDEBUG   \u001b[0m | \u001b[36m__main__\u001b[0m:\u001b[36mrewrite\u001b[0m:\u001b[36m98\u001b[0m - \u001b[34m\u001b[1mrewrite............\u001b[0m\n"
          ]
        },
        {
          "output_type": "stream",
          "name": "stdout",
          "text": [
            "---DECISION: DOCS NOT RELEVANT---\n",
            "no\n",
            "\"Output from node 'retrieve':\"\n",
            "'---'\n",
            "{ 'messages': [ ToolMessage(content='\"Project name\": \"Moon Flight System\",\\n        \"Project type\": \"software\",\\n        \"Project lead\": \"hendersonbrian\",\\n        \"Project description\": \"Moon Flight System software project\",\\n        \"Project url\": \"http://www.cannon-oconnell.com/\",\\n        \"Priority\": \"Critical\",\\n        \"Resolution\": \"Fixed\",\\n        \"Assignee\": \"hendersonbrian\",\\n        \"Reporter\": \"kruegermitchell\",\\n        \"Creator\": \"acolon\",\\n        \"Created\": \"2023-09-21 20:22:50\",\\n        \"Updated\": \"2023-10-22 01:02:56\",\\n\\n\"Project name\": \"Moon Flight System\",\\n        \"Project type\": \"software\",\\n        \"Project lead\": \"nathan73\",\\n        \"Project description\": \"Moon Flight System software project\",\\n        \"Project url\": \"https://www.johnson-collins.com/\",\\n        \"Priority\": \"Low\",\\n        \"Resolution\": \"Won\\'t Fix\",\\n        \"Assignee\": \"nathan73\",\\n        \"Reporter\": \"sheliatorres\",\\n        \"Creator\": \"jonathongillespie\",\\n        \"Created\": \"2023-09-14 03:34:27\",\\n        \"Updated\": \"2023-09-24 22:02:13\",\\n\\n\"Project name\": \"Moon Flight System\",\\n        \"Project type\": \"software\",\\n        \"Project lead\": \"brandilindsey\",\\n        \"Project description\": \"Moon Flight System software project\",\\n        \"Project url\": \"https://www.morgan-peterson.com/\",\\n        \"Priority\": \"High\",\\n        \"Resolution\": \"Won\\'t Fix\",\\n        \"Assignee\": \"brandilindsey\",\\n        \"Reporter\": \"veronica64\",\\n        \"Creator\": \"tiffanyfranklin\",\\n        \"Created\": \"2023-09-27 09:08:27\",\\n        \"Updated\": \"2023-09-07 12:23:20\",\\n\\n\"Project name\": \"Moon Flight System\",\\n        \"Project type\": \"software\",\\n        \"Project lead\": \"james66\",\\n        \"Project description\": \"Moon Flight System software project\",\\n        \"Project url\": \"http://www.morgan.net/\",\\n        \"Priority\": \"Medium\",\\n        \"Resolution\": \"Fixed\",\\n        \"Assignee\": \"james66\",\\n        \"Reporter\": \"briana22\",\\n        \"Creator\": \"hollywagner\",\\n        \"Created\": \"2023-09-01 02:14:55\",\\n        \"Updated\": \"2023-10-21 01:39:52\",\\n        \"Last Viewed\": \"\",', name='retrieve_jira_tickets', id='b72af608-b08f-43e9-add7-b0e550eeaed9', tool_call_id='call_cKN79kzwNCixMwcoLqziJiYT')]}\n",
            "'---END---'\n",
            "---TRANSFORM QUERY---\n"
          ]
        },
        {
          "output_type": "stream",
          "name": "stderr",
          "text": [
            "\u001b[32m2024-09-19 07:46:47.532\u001b[0m | \u001b[34m\u001b[1mDEBUG   \u001b[0m | \u001b[36m__main__\u001b[0m:\u001b[36magent\u001b[0m:\u001b[36m77\u001b[0m - \u001b[34m\u001b[1magent............\u001b[0m\n"
          ]
        },
        {
          "output_type": "stream",
          "name": "stdout",
          "text": [
            "\"Output from node 'rewrite':\"\n",
            "'---'\n",
            "{ 'messages': [ AIMessage(content='Certainly! Here\\'s an improved version of the question:\\n\\n\"Could you provide the ticket ID, summary, and project name for all tickets related to the Moon Flight System?\"', response_metadata={'finish_reason': 'stop'}, id='run-aba48f50-2353-44d7-877b-d8ef071e5a66-0')]}\n",
            "'---END---'\n",
            "---CALL AGENT---\n"
          ]
        },
        {
          "output_type": "stream",
          "name": "stderr",
          "text": [
            "\u001b[32m2024-09-19 07:46:48.410\u001b[0m | \u001b[34m\u001b[1mDEBUG   \u001b[0m | \u001b[36m__main__\u001b[0m:\u001b[36mgrade_documents\u001b[0m:\u001b[36m15\u001b[0m - \u001b[34m\u001b[1mgrade_documents............\u001b[0m\n"
          ]
        },
        {
          "output_type": "stream",
          "name": "stdout",
          "text": [
            "\"Output from node 'agent':\"\n",
            "'---'\n",
            "{ 'messages': [ AIMessage(content='', additional_kwargs={'tool_calls': [{'index': 0, 'id': 'call_P1lfGPLTCioOLrboWBFttccv', 'function': {'arguments': '{\"query\":\"Moon Flight System\"}', 'name': 'retrieve_jira_tickets'}, 'type': 'function'}]}, response_metadata={'finish_reason': 'tool_calls'}, id='run-dbfb26f8-e1a3-4eae-a412-df922e55e6cc-0', tool_calls=[{'name': 'retrieve_jira_tickets', 'args': {'query': 'Moon Flight System'}, 'id': 'call_P1lfGPLTCioOLrboWBFttccv', 'type': 'tool_call'}])]}\n",
            "'---END---'\n",
            "---CHECK RELEVANCE---\n"
          ]
        },
        {
          "output_type": "stream",
          "name": "stderr",
          "text": [
            "\u001b[32m2024-09-19 07:46:49.505\u001b[0m | \u001b[34m\u001b[1mDEBUG   \u001b[0m | \u001b[36m__main__\u001b[0m:\u001b[36mrewrite\u001b[0m:\u001b[36m98\u001b[0m - \u001b[34m\u001b[1mrewrite............\u001b[0m\n"
          ]
        },
        {
          "output_type": "stream",
          "name": "stdout",
          "text": [
            "---DECISION: DOCS NOT RELEVANT---\n",
            "no\n",
            "\"Output from node 'retrieve':\"\n",
            "'---'\n",
            "{ 'messages': [ ToolMessage(content='\"Project name\": \"Moon Flight System\",\\n        \"Project type\": \"software\",\\n        \"Project lead\": \"hendersonbrian\",\\n        \"Project description\": \"Moon Flight System software project\",\\n        \"Project url\": \"http://www.cannon-oconnell.com/\",\\n        \"Priority\": \"Critical\",\\n        \"Resolution\": \"Fixed\",\\n        \"Assignee\": \"hendersonbrian\",\\n        \"Reporter\": \"kruegermitchell\",\\n        \"Creator\": \"acolon\",\\n        \"Created\": \"2023-09-21 20:22:50\",\\n        \"Updated\": \"2023-10-22 01:02:56\",\\n\\n\"Project name\": \"Moon Flight System\",\\n        \"Project type\": \"software\",\\n        \"Project lead\": \"nathan73\",\\n        \"Project description\": \"Moon Flight System software project\",\\n        \"Project url\": \"https://www.johnson-collins.com/\",\\n        \"Priority\": \"Low\",\\n        \"Resolution\": \"Won\\'t Fix\",\\n        \"Assignee\": \"nathan73\",\\n        \"Reporter\": \"sheliatorres\",\\n        \"Creator\": \"jonathongillespie\",\\n        \"Created\": \"2023-09-14 03:34:27\",\\n        \"Updated\": \"2023-09-24 22:02:13\",\\n\\n\"Project name\": \"Moon Flight System\",\\n        \"Project type\": \"software\",\\n        \"Project lead\": \"brandilindsey\",\\n        \"Project description\": \"Moon Flight System software project\",\\n        \"Project url\": \"https://www.morgan-peterson.com/\",\\n        \"Priority\": \"High\",\\n        \"Resolution\": \"Won\\'t Fix\",\\n        \"Assignee\": \"brandilindsey\",\\n        \"Reporter\": \"veronica64\",\\n        \"Creator\": \"tiffanyfranklin\",\\n        \"Created\": \"2023-09-27 09:08:27\",\\n        \"Updated\": \"2023-09-07 12:23:20\",\\n\\n\"Project name\": \"Moon Flight System\",\\n        \"Project type\": \"software\",\\n        \"Project lead\": \"james66\",\\n        \"Project description\": \"Moon Flight System software project\",\\n        \"Project url\": \"http://www.morgan.net/\",\\n        \"Priority\": \"Medium\",\\n        \"Resolution\": \"Fixed\",\\n        \"Assignee\": \"james66\",\\n        \"Reporter\": \"briana22\",\\n        \"Creator\": \"hollywagner\",\\n        \"Created\": \"2023-09-01 02:14:55\",\\n        \"Updated\": \"2023-10-21 01:39:52\",\\n        \"Last Viewed\": \"\",', name='retrieve_jira_tickets', id='d1e04c61-b94a-4f8d-8731-60ec315f7141', tool_call_id='call_P1lfGPLTCioOLrboWBFttccv')]}\n",
            "'---END---'\n",
            "---TRANSFORM QUERY---\n"
          ]
        },
        {
          "output_type": "stream",
          "name": "stderr",
          "text": [
            "\u001b[32m2024-09-19 07:46:50.134\u001b[0m | \u001b[34m\u001b[1mDEBUG   \u001b[0m | \u001b[36m__main__\u001b[0m:\u001b[36magent\u001b[0m:\u001b[36m77\u001b[0m - \u001b[34m\u001b[1magent............\u001b[0m\n"
          ]
        },
        {
          "output_type": "stream",
          "name": "stdout",
          "text": [
            "\"Output from node 'rewrite':\"\n",
            "'---'\n",
            "{ 'messages': [ AIMessage(content='Could you please provide the ticket details related to the Moon Flight System? Specifically, I need the Ticket ID, Summary, and Project Name.', response_metadata={'finish_reason': 'stop'}, id='run-b9140b98-badb-40d6-a536-874972342b3c-0')]}\n",
            "'---END---'\n",
            "---CALL AGENT---\n",
            "\"Output from node 'agent':\"\n",
            "'---'\n",
            "{ 'messages': [ AIMessage(content='', additional_kwargs={'tool_calls': [{'index': 0, 'id': 'call_OabchRKFTHfGkzM4RLJEM0h7', 'function': {'arguments': '{\"query\":\"Moon Flight System\"}', 'name': 'retrieve_jira_tickets'}, 'type': 'function'}]}, response_metadata={'finish_reason': 'tool_calls'}, id='run-b6f369c6-a6ed-48ce-8f18-d106dee071c6-0', tool_calls=[{'name': 'retrieve_jira_tickets', 'args': {'query': 'Moon Flight System'}, 'id': 'call_OabchRKFTHfGkzM4RLJEM0h7', 'type': 'tool_call'}])]}\n",
            "'---END---'\n"
          ]
        },
        {
          "output_type": "stream",
          "name": "stderr",
          "text": [
            "\u001b[32m2024-09-19 07:46:51.246\u001b[0m | \u001b[34m\u001b[1mDEBUG   \u001b[0m | \u001b[36m__main__\u001b[0m:\u001b[36mgrade_documents\u001b[0m:\u001b[36m15\u001b[0m - \u001b[34m\u001b[1mgrade_documents............\u001b[0m\n"
          ]
        },
        {
          "output_type": "stream",
          "name": "stdout",
          "text": [
            "---CHECK RELEVANCE---\n"
          ]
        },
        {
          "output_type": "stream",
          "name": "stderr",
          "text": [
            "\u001b[32m2024-09-19 07:46:52.276\u001b[0m | \u001b[34m\u001b[1mDEBUG   \u001b[0m | \u001b[36m__main__\u001b[0m:\u001b[36mgenerate\u001b[0m:\u001b[36m132\u001b[0m - \u001b[34m\u001b[1mgenerate............\u001b[0m\n"
          ]
        },
        {
          "output_type": "stream",
          "name": "stdout",
          "text": [
            "---DECISION: DOCS RELEVANT---\n",
            "\"Output from node 'retrieve':\"\n",
            "'---'\n",
            "{ 'messages': [ ToolMessage(content='\"Project name\": \"Moon Flight System\",\\n        \"Project type\": \"software\",\\n        \"Project lead\": \"hendersonbrian\",\\n        \"Project description\": \"Moon Flight System software project\",\\n        \"Project url\": \"http://www.cannon-oconnell.com/\",\\n        \"Priority\": \"Critical\",\\n        \"Resolution\": \"Fixed\",\\n        \"Assignee\": \"hendersonbrian\",\\n        \"Reporter\": \"kruegermitchell\",\\n        \"Creator\": \"acolon\",\\n        \"Created\": \"2023-09-21 20:22:50\",\\n        \"Updated\": \"2023-10-22 01:02:56\",\\n\\n\"Project name\": \"Moon Flight System\",\\n        \"Project type\": \"software\",\\n        \"Project lead\": \"nathan73\",\\n        \"Project description\": \"Moon Flight System software project\",\\n        \"Project url\": \"https://www.johnson-collins.com/\",\\n        \"Priority\": \"Low\",\\n        \"Resolution\": \"Won\\'t Fix\",\\n        \"Assignee\": \"nathan73\",\\n        \"Reporter\": \"sheliatorres\",\\n        \"Creator\": \"jonathongillespie\",\\n        \"Created\": \"2023-09-14 03:34:27\",\\n        \"Updated\": \"2023-09-24 22:02:13\",\\n\\n\"Project name\": \"Moon Flight System\",\\n        \"Project type\": \"software\",\\n        \"Project lead\": \"brandilindsey\",\\n        \"Project description\": \"Moon Flight System software project\",\\n        \"Project url\": \"https://www.morgan-peterson.com/\",\\n        \"Priority\": \"High\",\\n        \"Resolution\": \"Won\\'t Fix\",\\n        \"Assignee\": \"brandilindsey\",\\n        \"Reporter\": \"veronica64\",\\n        \"Creator\": \"tiffanyfranklin\",\\n        \"Created\": \"2023-09-27 09:08:27\",\\n        \"Updated\": \"2023-09-07 12:23:20\",\\n\\n\"Project name\": \"Moon Flight System\",\\n        \"Project type\": \"software\",\\n        \"Project lead\": \"james66\",\\n        \"Project description\": \"Moon Flight System software project\",\\n        \"Project url\": \"http://www.morgan.net/\",\\n        \"Priority\": \"Medium\",\\n        \"Resolution\": \"Fixed\",\\n        \"Assignee\": \"james66\",\\n        \"Reporter\": \"briana22\",\\n        \"Creator\": \"hollywagner\",\\n        \"Created\": \"2023-09-01 02:14:55\",\\n        \"Updated\": \"2023-10-21 01:39:52\",\\n        \"Last Viewed\": \"\",', name='retrieve_jira_tickets', id='db3532b2-a67b-4d5b-ab66-c64952b4f813', tool_call_id='call_OabchRKFTHfGkzM4RLJEM0h7')]}\n",
            "'---END---'\n",
            "---GENERATE---\n"
          ]
        },
        {
          "output_type": "stream",
          "name": "stderr",
          "text": [
            "/usr/local/lib/python3.10/dist-packages/langchain/hub.py:86: DeprecationWarning: The `langchainhub sdk` is deprecated.\n",
            "Please use the `langsmith sdk` instead:\n",
            "  pip install langsmith\n",
            "Use the `pull_prompt` method.\n",
            "  res_dict = client.pull_repo(owner_repo_commit)\n",
            "\u001b[32m2024-09-19 07:46:53.042\u001b[0m | \u001b[34m\u001b[1mDEBUG   \u001b[0m | \u001b[36m__main__\u001b[0m:\u001b[36mask_agent\u001b[0m:\u001b[36m23\u001b[0m - \u001b[34m\u001b[1mask_agent elapsed_time = 21.801168203353882 sec\u001b[0m\n"
          ]
        },
        {
          "output_type": "stream",
          "name": "stdout",
          "text": [
            "\"Output from node 'generate':\"\n",
            "'---'\n",
            "{ 'messages': [ \"I don't know. The provided context does not include specific \"\n",
            "                'ticket IDs or summaries related to the Moon Flight System.']}\n",
            "'---END---'\n",
            "{'messages': [\"I don't know. The provided context does not include specific \"\n",
            "              'ticket IDs or summaries related to the Moon Flight System.']}\n"
          ]
        }
      ]
    },
    {
      "cell_type": "code",
      "source": [
        "# Ask a question to the agent\n",
        "response = ask_agent(\"How to install Moon Flight System? Give me the main details\")\n",
        "pprint.pprint(response)\n",
        "import IPython\n",
        "from IPython.display import Image, display, Audio, Markdown\n",
        "IPython.display.Markdown(response['messages'][0].content)"
      ],
      "metadata": {
        "colab": {
          "base_uri": "https://localhost:8080/",
          "height": 1000
        },
        "id": "Yl4hfqmGX4Ia",
        "outputId": "ab1cd20e-84c9-40f6-ea28-4d7b1311dab4"
      },
      "id": "Yl4hfqmGX4Ia",
      "execution_count": null,
      "outputs": [
        {
          "output_type": "stream",
          "name": "stderr",
          "text": [
            "/usr/local/lib/python3.10/dist-packages/ipykernel/ipkernel.py:283: DeprecationWarning: `should_run_async` will not call `transform_cell` automatically in the future. Please pass the result to `transformed_cell` argument and any exception that happen during thetransform in `preprocessing_exc_tuple` in IPython 7.17 and above.\n",
            "  and should_run_async(code)\n",
            "\u001b[32m2024-09-19 07:47:12.064\u001b[0m | \u001b[34m\u001b[1mDEBUG   \u001b[0m | \u001b[36m__main__\u001b[0m:\u001b[36mask_agent\u001b[0m:\u001b[36m4\u001b[0m - \u001b[34m\u001b[1mask_agent............\u001b[0m\n",
            "\u001b[32m2024-09-19 07:47:12.067\u001b[0m | \u001b[34m\u001b[1mDEBUG   \u001b[0m | \u001b[36m__main__\u001b[0m:\u001b[36mask_agent\u001b[0m:\u001b[36m7\u001b[0m - \u001b[34m\u001b[1mquestion = How to install Moon Flight System? Give me the main details\u001b[0m\n",
            "\u001b[32m2024-09-19 07:47:12.079\u001b[0m | \u001b[34m\u001b[1mDEBUG   \u001b[0m | \u001b[36m__main__\u001b[0m:\u001b[36magent\u001b[0m:\u001b[36m77\u001b[0m - \u001b[34m\u001b[1magent............\u001b[0m\n"
          ]
        },
        {
          "output_type": "stream",
          "name": "stdout",
          "text": [
            "---CALL AGENT---\n",
            "\"Output from node 'agent':\"\n",
            "'---'\n",
            "{ 'messages': [ AIMessage(content='', additional_kwargs={'tool_calls': [{'index': 0, 'id': 'call_pRcYmHVTarpYfhVAe3aLPNJL', 'function': {'arguments': '{\"query\": \"Moon Flight System installation\"}', 'name': 'retrieve_confluence'}, 'type': 'function'}, {'index': 1, 'id': 'call_iLDpubc2JjV3hQDOurixUZjG', 'function': {'arguments': '{\"query\": \"Moon Flight System installation\"}', 'name': 'retrieve_jira_tickets'}, 'type': 'function'}]}, response_metadata={'finish_reason': 'tool_calls'}, id='run-677d7eb6-9e2e-4285-b915-c26ab0442315-0', tool_calls=[{'name': 'retrieve_confluence', 'args': {'query': 'Moon Flight System installation'}, 'id': 'call_pRcYmHVTarpYfhVAe3aLPNJL', 'type': 'tool_call'}, {'name': 'retrieve_jira_tickets', 'args': {'query': 'Moon Flight System installation'}, 'id': 'call_iLDpubc2JjV3hQDOurixUZjG', 'type': 'tool_call'}])]}\n",
            "'---END---'\n"
          ]
        },
        {
          "output_type": "stream",
          "name": "stderr",
          "text": [
            "\u001b[32m2024-09-19 07:47:13.677\u001b[0m | \u001b[34m\u001b[1mDEBUG   \u001b[0m | \u001b[36m__main__\u001b[0m:\u001b[36mgrade_documents\u001b[0m:\u001b[36m15\u001b[0m - \u001b[34m\u001b[1mgrade_documents............\u001b[0m\n"
          ]
        },
        {
          "output_type": "stream",
          "name": "stdout",
          "text": [
            "---CHECK RELEVANCE---\n"
          ]
        },
        {
          "output_type": "stream",
          "name": "stderr",
          "text": [
            "\u001b[32m2024-09-19 07:47:14.737\u001b[0m | \u001b[34m\u001b[1mDEBUG   \u001b[0m | \u001b[36m__main__\u001b[0m:\u001b[36mrewrite\u001b[0m:\u001b[36m98\u001b[0m - \u001b[34m\u001b[1mrewrite............\u001b[0m\n"
          ]
        },
        {
          "output_type": "stream",
          "name": "stdout",
          "text": [
            "---DECISION: DOCS NOT RELEVANT---\n",
            "no\n",
            "\"Output from node 'retrieve':\"\n",
            "'---'\n",
            "{ 'messages': [ ToolMessage(content='API Reference: Moon Flight System offers a comprehensive API with endpoints for mission planning, trajectory calculation, system status, user management, and data retrieval.\\n\\nAPI Reference: Moon Flight System offers a comprehensive API with endpoints for mission planning, trajectory calculation, system status, user management, and data retrieval.\\n\\nAPI Reference: Moon Flight System offers a comprehensive API with endpoints for mission planning, trajectory calculation, system status, user management, and data retrieval.\\n\\nAPI Reference: Moon Flight System offers a comprehensive API with endpoints for mission planning, trajectory calculation, system status, user management, and data retrieval.', name='retrieve_confluence', id='9b81d372-9fbc-4b3c-b806-8a75a295e87f', tool_call_id='call_pRcYmHVTarpYfhVAe3aLPNJL'),\n",
            "                ToolMessage(content='\"Project name\": \"Moon Flight System\",\\n        \"Project type\": \"software\",\\n        \"Project lead\": \"hendersonbrian\",\\n        \"Project description\": \"Moon Flight System software project\",\\n        \"Project url\": \"http://www.cannon-oconnell.com/\",\\n        \"Priority\": \"Critical\",\\n        \"Resolution\": \"Fixed\",\\n        \"Assignee\": \"hendersonbrian\",\\n        \"Reporter\": \"kruegermitchell\",\\n        \"Creator\": \"acolon\",\\n        \"Created\": \"2023-09-21 20:22:50\",\\n        \"Updated\": \"2023-10-22 01:02:56\",\\n\\n\"Project name\": \"Moon Flight System\",\\n        \"Project type\": \"software\",\\n        \"Project lead\": \"brandilindsey\",\\n        \"Project description\": \"Moon Flight System software project\",\\n        \"Project url\": \"https://www.morgan-peterson.com/\",\\n        \"Priority\": \"High\",\\n        \"Resolution\": \"Won\\'t Fix\",\\n        \"Assignee\": \"brandilindsey\",\\n        \"Reporter\": \"veronica64\",\\n        \"Creator\": \"tiffanyfranklin\",\\n        \"Created\": \"2023-09-27 09:08:27\",\\n        \"Updated\": \"2023-09-07 12:23:20\",\\n\\n\"Project name\": \"Moon Flight System\",\\n        \"Project type\": \"software\",\\n        \"Project lead\": \"nathan73\",\\n        \"Project description\": \"Moon Flight System software project\",\\n        \"Project url\": \"https://www.johnson-collins.com/\",\\n        \"Priority\": \"Low\",\\n        \"Resolution\": \"Won\\'t Fix\",\\n        \"Assignee\": \"nathan73\",\\n        \"Reporter\": \"sheliatorres\",\\n        \"Creator\": \"jonathongillespie\",\\n        \"Created\": \"2023-09-14 03:34:27\",\\n        \"Updated\": \"2023-09-24 22:02:13\",\\n\\n\"Project name\": \"Moon Flight System\",\\n        \"Project type\": \"software\",\\n        \"Project lead\": \"margaretortiz\",\\n        \"Project description\": \"Moon Flight System software project\",\\n        \"Project url\": \"http://www.cochran-arellano.com/\",\\n        \"Priority\": \"High\",\\n        \"Resolution\": \"Incomplete\",\\n        \"Assignee\": \"margaretortiz\",\\n        \"Reporter\": \"jasoncrosby\",\\n        \"Creator\": \"nicolemoyer\",\\n        \"Created\": \"2023-09-05 11:40:04\",\\n        \"Updated\": \"2023-10-01 04:46:57\",', name='retrieve_jira_tickets', id='5d1f4202-b6b6-48b4-b174-a2d74ae8bb5c', tool_call_id='call_iLDpubc2JjV3hQDOurixUZjG')]}\n",
            "'---END---'\n",
            "---TRANSFORM QUERY---\n"
          ]
        },
        {
          "output_type": "stream",
          "name": "stderr",
          "text": [
            "\u001b[32m2024-09-19 07:47:15.354\u001b[0m | \u001b[34m\u001b[1mDEBUG   \u001b[0m | \u001b[36m__main__\u001b[0m:\u001b[36magent\u001b[0m:\u001b[36m77\u001b[0m - \u001b[34m\u001b[1magent............\u001b[0m\n"
          ]
        },
        {
          "output_type": "stream",
          "name": "stdout",
          "text": [
            "\"Output from node 'rewrite':\"\n",
            "'---'\n",
            "{ 'messages': [ AIMessage(content='How can I install the Moon Flight System? Could you provide the main steps and details for the installation process?', response_metadata={'finish_reason': 'stop'}, id='run-962fc6d0-b6e8-4a57-befe-344a07274f4b-0')]}\n",
            "'---END---'\n",
            "---CALL AGENT---\n"
          ]
        },
        {
          "output_type": "stream",
          "name": "stderr",
          "text": [
            "\u001b[32m2024-09-19 07:47:24.036\u001b[0m | \u001b[34m\u001b[1mDEBUG   \u001b[0m | \u001b[36m__main__\u001b[0m:\u001b[36mask_agent\u001b[0m:\u001b[36m23\u001b[0m - \u001b[34m\u001b[1mask_agent elapsed_time = 11.969022512435913 sec\u001b[0m\n"
          ]
        },
        {
          "output_type": "stream",
          "name": "stdout",
          "text": [
            "\"Output from node 'agent':\"\n",
            "'---'\n",
            "{ 'messages': [ AIMessage(content='### Moon Flight System Installation Guide\\n\\n#### Main Details\\n\\n**Project Name:** Moon Flight System  \\n**Project Type:** Software  \\n**Project Lead:** Henderson Brian  \\n**Project Description:** Moon Flight System software project  \\n**Project URL:** [Moon Flight System](http://www.cannon-oconnell.com/)  \\n**Priority:** Critical  \\n**Resolution:** Fixed  \\n**Assignee:** Henderson Brian  \\n**Reporter:** Krueger Mitchell  \\n**Creator:** Acolon  \\n**Created:** 2023-09-21  \\n**Updated:** 2023-10-22  \\n\\n#### Installation Steps\\n\\n1. **System Requirements:**\\n   - Ensure your system meets the minimum requirements for the Moon Flight System software.\\n   - Operating System: Windows 10 or later, macOS 10.15 or later, or a compatible Linux distribution.\\n   - Memory: At least 8 GB of RAM.\\n   - Storage: Minimum 500 MB of free disk space.\\n   - Network: Stable internet connection for downloading and updates.\\n\\n2. **Download the Installer:**\\n   - Visit the [Moon Flight System official website](http://www.cannon-oconnell.com/).\\n   - Navigate to the Downloads section.\\n   - Select the appropriate installer for your operating system (Windows, macOS, or Linux).\\n\\n3. **Run the Installer:**\\n   - Locate the downloaded installer file on your computer.\\n   - Double-click the installer file to start the installation process.\\n   - Follow the on-screen instructions to complete the installation.\\n\\n4. **Configuration:**\\n   - After installation, launch the Moon Flight System application.\\n   - Go through the initial setup wizard to configure the basic settings.\\n   - Enter your user credentials and configure the system preferences as needed.\\n\\n5. **API Integration:**\\n   - Moon Flight System offers a comprehensive API with endpoints for mission planning, trajectory calculation, system status, user management, and data retrieval.\\n   - Refer to the API documentation available on the official website for detailed instructions on integrating the API with your applications.\\n\\n6. **Updates and Maintenance:**\\n   - Regularly check for software updates to ensure you have the latest features and security patches.\\n   - Follow the maintenance guidelines provided in the user manual to keep the system running smoothly.\\n\\nFor more detailed documentation and troubleshooting, refer to the official [Moon Flight System documentation](http://www.cannon-oconnell.com/documentation).\\n\\nIf you encounter any issues during the installation process, you can reach out to the project lead, Henderson Brian, or the support team through the contact information provided on the official website.', response_metadata={'finish_reason': 'stop'}, id='run-4f77ee88-673c-4c4e-902b-19d6419f8024-0')]}\n",
            "'---END---'\n",
            "{'messages': [AIMessage(content='### Moon Flight System Installation Guide\\n\\n#### Main Details\\n\\n**Project Name:** Moon Flight System  \\n**Project Type:** Software  \\n**Project Lead:** Henderson Brian  \\n**Project Description:** Moon Flight System software project  \\n**Project URL:** [Moon Flight System](http://www.cannon-oconnell.com/)  \\n**Priority:** Critical  \\n**Resolution:** Fixed  \\n**Assignee:** Henderson Brian  \\n**Reporter:** Krueger Mitchell  \\n**Creator:** Acolon  \\n**Created:** 2023-09-21  \\n**Updated:** 2023-10-22  \\n\\n#### Installation Steps\\n\\n1. **System Requirements:**\\n   - Ensure your system meets the minimum requirements for the Moon Flight System software.\\n   - Operating System: Windows 10 or later, macOS 10.15 or later, or a compatible Linux distribution.\\n   - Memory: At least 8 GB of RAM.\\n   - Storage: Minimum 500 MB of free disk space.\\n   - Network: Stable internet connection for downloading and updates.\\n\\n2. **Download the Installer:**\\n   - Visit the [Moon Flight System official website](http://www.cannon-oconnell.com/).\\n   - Navigate to the Downloads section.\\n   - Select the appropriate installer for your operating system (Windows, macOS, or Linux).\\n\\n3. **Run the Installer:**\\n   - Locate the downloaded installer file on your computer.\\n   - Double-click the installer file to start the installation process.\\n   - Follow the on-screen instructions to complete the installation.\\n\\n4. **Configuration:**\\n   - After installation, launch the Moon Flight System application.\\n   - Go through the initial setup wizard to configure the basic settings.\\n   - Enter your user credentials and configure the system preferences as needed.\\n\\n5. **API Integration:**\\n   - Moon Flight System offers a comprehensive API with endpoints for mission planning, trajectory calculation, system status, user management, and data retrieval.\\n   - Refer to the API documentation available on the official website for detailed instructions on integrating the API with your applications.\\n\\n6. **Updates and Maintenance:**\\n   - Regularly check for software updates to ensure you have the latest features and security patches.\\n   - Follow the maintenance guidelines provided in the user manual to keep the system running smoothly.\\n\\nFor more detailed documentation and troubleshooting, refer to the official [Moon Flight System documentation](http://www.cannon-oconnell.com/documentation).\\n\\nIf you encounter any issues during the installation process, you can reach out to the project lead, Henderson Brian, or the support team through the contact information provided on the official website.', response_metadata={'finish_reason': 'stop'}, id='run-4f77ee88-673c-4c4e-902b-19d6419f8024-0')]}\n"
          ]
        },
        {
          "output_type": "execute_result",
          "data": {
            "text/plain": [
              "<IPython.core.display.Markdown object>"
            ],
            "text/markdown": "### Moon Flight System Installation Guide\n\n#### Main Details\n\n**Project Name:** Moon Flight System  \n**Project Type:** Software  \n**Project Lead:** Henderson Brian  \n**Project Description:** Moon Flight System software project  \n**Project URL:** [Moon Flight System](http://www.cannon-oconnell.com/)  \n**Priority:** Critical  \n**Resolution:** Fixed  \n**Assignee:** Henderson Brian  \n**Reporter:** Krueger Mitchell  \n**Creator:** Acolon  \n**Created:** 2023-09-21  \n**Updated:** 2023-10-22  \n\n#### Installation Steps\n\n1. **System Requirements:**\n   - Ensure your system meets the minimum requirements for the Moon Flight System software.\n   - Operating System: Windows 10 or later, macOS 10.15 or later, or a compatible Linux distribution.\n   - Memory: At least 8 GB of RAM.\n   - Storage: Minimum 500 MB of free disk space.\n   - Network: Stable internet connection for downloading and updates.\n\n2. **Download the Installer:**\n   - Visit the [Moon Flight System official website](http://www.cannon-oconnell.com/).\n   - Navigate to the Downloads section.\n   - Select the appropriate installer for your operating system (Windows, macOS, or Linux).\n\n3. **Run the Installer:**\n   - Locate the downloaded installer file on your computer.\n   - Double-click the installer file to start the installation process.\n   - Follow the on-screen instructions to complete the installation.\n\n4. **Configuration:**\n   - After installation, launch the Moon Flight System application.\n   - Go through the initial setup wizard to configure the basic settings.\n   - Enter your user credentials and configure the system preferences as needed.\n\n5. **API Integration:**\n   - Moon Flight System offers a comprehensive API with endpoints for mission planning, trajectory calculation, system status, user management, and data retrieval.\n   - Refer to the API documentation available on the official website for detailed instructions on integrating the API with your applications.\n\n6. **Updates and Maintenance:**\n   - Regularly check for software updates to ensure you have the latest features and security patches.\n   - Follow the maintenance guidelines provided in the user manual to keep the system running smoothly.\n\nFor more detailed documentation and troubleshooting, refer to the official [Moon Flight System documentation](http://www.cannon-oconnell.com/documentation).\n\nIf you encounter any issues during the installation process, you can reach out to the project lead, Henderson Brian, or the support team through the contact information provided on the official website."
          },
          "metadata": {},
          "execution_count": 38
        }
      ]
    },
    {
      "cell_type": "markdown",
      "source": [
        "##5.Checking responses without agents by using EnsembleRetriever."
      ],
      "metadata": {
        "id": "nlcqq1FVRIpk"
      },
      "id": "nlcqq1FVRIpk"
    },
    {
      "cell_type": "markdown",
      "source": [
        "## 5.1.EnsembleRetriever\n",
        "We will not use **Similarity Search**. Instead, we will use **EnsembleRetriever**, i.e. a combination of **BM25Retriever** (context search) and **EnsembleRetriever** (vector search). This approach gives the best result.\n",
        "\n",
        "EnsembleRetriever see here: https://python.langchain.com/v0.2/docs/how_to/ensemble_retriever/"
      ],
      "metadata": {
        "id": "q8eu9Q-LRLpt"
      },
      "id": "q8eu9Q-LRLpt"
    },
    {
      "cell_type": "code",
      "source": [
        "from langchain.retrievers import BM25Retriever\n",
        "from langchain.retrievers import EnsembleRetriever\n",
        "\n",
        "def split_text(text, max_length):\n",
        "    \"\"\"\n",
        "    Splitting a line into parts with a carriage return\n",
        "    @param text:\n",
        "    @param max_length:\n",
        "    @return:\n",
        "    \"\"\"\n",
        "    words = text.split()  # Разделяем строку на слова\n",
        "    result = []  # Список для результата\n",
        "\n",
        "    current_line = \"\"  # Текущая строка\n",
        "    for word in words:\n",
        "        if len(current_line) + len(word) <= max_length:  # Если добавление слова не превышает максимальную длину\n",
        "            current_line += word + \" \"  # Добавляем слово и пробел к текущей строке\n",
        "        else:\n",
        "            result.append(current_line.strip())  # Добавляем текущую строку в результат без лишних пробелов\n",
        "            current_line = word + \" \"  # Начинаем новую строку с текущим словом\n",
        "\n",
        "    if current_line:  # Если осталась незавершенная строка\n",
        "        result.append(current_line.strip())  # Добавляем незавершенную строку в результат\n",
        "\n",
        "    return '\\n'.join(result)  # Возвращаем результат, объединяя строки символом перевода строки\n",
        "\n",
        "\n",
        "def get_message_content_ensemble(topic, db, source_chunks, k):\n",
        "    logger.debug('get_message_content_ensemble............')\n",
        "    start_time = time.time()\n",
        "    logger.debug(f'topic={topic}')\n",
        "    faiss_retriever = db.as_retriever(search_kwargs={\"k\": k})\n",
        "    bm25_retriever = BM25Retriever.from_documents(source_chunks)\n",
        "    bm25_retriever.k = k\n",
        "    ensemble_retriever = EnsembleRetriever(retrievers=[bm25_retriever, faiss_retriever],\n",
        "                                       weights=[0.5, 0.5])\n",
        "\n",
        "    docs = ensemble_retriever.get_relevant_documents(topic)\n",
        "    message_content = re.sub(r'\\n{2}', ' ', '\\n '.join(\n",
        "        [f'\\n#### {i + 1} Relevant chunk ####\\n' + str(doc.metadata) + '\\n' + split_text(doc.page_content, 80) + '\\n' for i, doc in\n",
        "         enumerate(docs)]))\n",
        "    logger.debug(f'message_content={message_content}')\n",
        "    end_time = time.time()\n",
        "    elapsed_time = end_time - start_time\n",
        "    logger.debug(f'get_message_content_ensemble elapsed_time = {elapsed_time} sec')\n",
        "    return message_content"
      ],
      "metadata": {
        "colab": {
          "base_uri": "https://localhost:8080/"
        },
        "id": "6qjNY5-PRT8M",
        "outputId": "b037c2b9-2702-4a93-ef38-73e4d9feceff"
      },
      "id": "6qjNY5-PRT8M",
      "execution_count": null,
      "outputs": [
        {
          "output_type": "stream",
          "name": "stderr",
          "text": [
            "/usr/local/lib/python3.10/dist-packages/ipykernel/ipkernel.py:283: DeprecationWarning: `should_run_async` will not call `transform_cell` automatically in the future. Please pass the result to `transformed_cell` argument and any exception that happen during thetransform in `preprocessing_exc_tuple` in IPython 7.17 and above.\n",
            "  and should_run_async(code)\n"
          ]
        }
      ]
    },
    {
      "cell_type": "code",
      "source": [
        "LL_MODEL='gpt-4o'\n",
        "from openai import OpenAI\n",
        "client = OpenAI(api_key=OPEN_AI_API_KEY)\n",
        "def gpt_request(user_content, system_content):\n",
        "  response = client.chat.completions.create(\n",
        "    model=LL_MODEL,\n",
        "    messages=[\n",
        "      {\"role\": \"system\", \"content\": system_content}, # <-- This is the system message that provides context to the model\n",
        "      {\"role\": \"user\", \"content\": user_content}     # <-- This is the user message for which the model will generate a response\n",
        "    ]\n",
        "  )\n",
        "  return response.choices[0].message.content"
      ],
      "metadata": {
        "colab": {
          "base_uri": "https://localhost:8080/"
        },
        "id": "YxL_LEj7Spj1",
        "outputId": "7ccf86e1-dfc4-4f55-8d7e-942188022d04"
      },
      "id": "YxL_LEj7Spj1",
      "execution_count": null,
      "outputs": [
        {
          "output_type": "stream",
          "name": "stderr",
          "text": [
            "/usr/local/lib/python3.10/dist-packages/ipykernel/ipkernel.py:283: DeprecationWarning: `should_run_async` will not call `transform_cell` automatically in the future. Please pass the result to `transformed_cell` argument and any exception that happen during thetransform in `preprocessing_exc_tuple` in IPython 7.17 and above.\n",
            "  and should_run_async(code)\n"
          ]
        }
      ]
    },
    {
      "cell_type": "markdown",
      "source": [
        "### 5.1. Checking response for Jira by using EnsembleRetriever."
      ],
      "metadata": {
        "id": "7qopMif2V1yp"
      },
      "id": "7qopMif2V1yp"
    },
    {
      "cell_type": "code",
      "source": [
        "import re\n",
        "jira_topic = \"Give me tickets related to Moon Flight System. I need Ticket id, Summary and Project name.\"\n",
        "jira_message_content = get_message_content_ensemble(topic, jira_db, jira_source_chunks, 10)"
      ],
      "metadata": {
        "colab": {
          "base_uri": "https://localhost:8080/"
        },
        "id": "KiavMphGRbkd",
        "outputId": "8db12690-01b0-4b45-a012-b8ea415ed955"
      },
      "id": "KiavMphGRbkd",
      "execution_count": null,
      "outputs": [
        {
          "output_type": "stream",
          "name": "stderr",
          "text": [
            "/usr/local/lib/python3.10/dist-packages/ipykernel/ipkernel.py:283: DeprecationWarning: `should_run_async` will not call `transform_cell` automatically in the future. Please pass the result to `transformed_cell` argument and any exception that happen during thetransform in `preprocessing_exc_tuple` in IPython 7.17 and above.\n",
            "  and should_run_async(code)\n",
            "\u001b[32m2024-09-19 08:17:25.090\u001b[0m | \u001b[34m\u001b[1mDEBUG   \u001b[0m | \u001b[36m__main__\u001b[0m:\u001b[36mget_message_content_ensemble\u001b[0m:\u001b[36m29\u001b[0m - \u001b[34m\u001b[1mget_message_content_ensemble............\u001b[0m\n",
            "\u001b[32m2024-09-19 08:17:25.093\u001b[0m | \u001b[34m\u001b[1mDEBUG   \u001b[0m | \u001b[36m__main__\u001b[0m:\u001b[36mget_message_content_ensemble\u001b[0m:\u001b[36m31\u001b[0m - \u001b[34m\u001b[1mtopic=How to install Moon Flight System? Give me the main details\u001b[0m\n",
            "\u001b[32m2024-09-19 08:17:30.289\u001b[0m | \u001b[34m\u001b[1mDEBUG   \u001b[0m | \u001b[36m__main__\u001b[0m:\u001b[36mget_message_content_ensemble\u001b[0m:\u001b[36m42\u001b[0m - \u001b[34m\u001b[1mmessage_content=\n",
            "#### 1 Relevant chunk ####\n",
            "{'source': '/content/jira_tickets_10k.json'}\n",
            "\"Affects Version/s\": \"label1\", \"Fix Version/s\": \"label2\", \"Component/s\": \"UI\",\n",
            "\"Due Date\": \"2023-11-03 02:37:28\", \"Votes\": \"1\", \"Labels\": \"label4\",\n",
            "\"Description\": \"Nor ask fact pretty. Political control minute hear. Truth read\n",
            "the machine to appear laugh challenge.\\nDrive name Mr story even. Best leader\n",
            "major six it.\\nPart all two past age discussion sport sign.\", \"Environment\":\n",
            "\"Opportunity me door likely where mean race.\",  \n",
            "#### 2 Relevant chunk ####\n",
            "{'source': '/content/jira_tickets_10k.json'}\n",
            "\"Project name\": \"Moon Flight System\", \"Project type\": \"software\", \"Project\n",
            "lead\": \"ukirby\", \"Project description\": \"Moon Flight System software project\",\n",
            "\"Project url\": \"http://www.ball-george.com/\", \"Priority\": \"Medium\",\n",
            "\"Resolution\": \"Won't Fix\", \"Assignee\": \"ukirby\", \"Reporter\": \"dwilliams\",\n",
            "\"Creator\": \"juliedelgado\", \"Created\": \"2023-09-07 14:15:26\", \"Updated\":\n",
            "\"2023-10-19 12:14:23\",  \n",
            "#### 3 Relevant chunk ####\n",
            "{'source': '/content/jira_tickets_10k.json'}\n",
            "\"Last Viewed\": \"\", \"Resolved\": \"\", \"Affects Version/s\": \"label1\", \"Fix\n",
            "Version/s\": \"label1\", \"Component/s\": \"UI\", \"Due Date\": \"2023-12-23 07:27:25\",\n",
            "\"Votes\": \"0\", \"Labels\": \"label3\", \"Description\": \"Of drop purpose decide they\n",
            "when now. How building spend grow natural piece.\\nField material because former\n",
            "while organization. Piece program society follow.\", \"Environment\": \"Bill main\n",
            "product three deep cover.\",  \n",
            "#### 4 Relevant chunk ####\n",
            "{'source': '/content/jira_tickets_10k.json'}\n",
            "\"Project name\": \"Moon Flight System\", \"Project type\": \"software\", \"Project\n",
            "lead\": \"hardingamanda\", \"Project description\": \"Moon Flight System software\n",
            "project\", \"Project url\": \"http://www.gonzales-wilson.biz/\", \"Priority\":\n",
            "\"Critical\", \"Resolution\": \"Duplicate\", \"Assignee\": \"hardingamanda\", \"Reporter\":\n",
            "\"tanyabutler\", \"Creator\": \"mitchell40\", \"Created\": \"2023-09-28 00:55:22\",\n",
            "\"Updated\": \"2023-09-01 00:38:24\",  \n",
            "#### 5 Relevant chunk ####\n",
            "{'source': '/content/jira_tickets_10k.json'}\n",
            "\"Fix Version/s\": \"label1\", \"Component/s\": \"Backend\", \"Due Date\": \"2023-11-13\n",
            "16:28:21\", \"Votes\": \"0\", \"Labels\": \"label1\", \"Description\": \"Relate then\n",
            "institution its. How probably tree reveal. Less decision federal create\n",
            "information protect.\\nBody main themselves various break rise. Able attack\n",
            "though really.\", \"Environment\": \"Nearly firm speak manager admit.\", \"Watchers\":\n",
            "\"belljenna\", \"Log Work\": \"\", \"Original Estimate\": \"\",  \n",
            "#### 6 Relevant chunk ####\n",
            "{'source': '/content/jira_tickets_10k.json'}\n",
            "\"Project name\": \"Moon Flight System\", \"Project type\": \"software\", \"Project\n",
            "lead\": \"brandilindsey\", \"Project description\": \"Moon Flight System software\n",
            "project\", \"Project url\": \"https://www.morgan-peterson.com/\", \"Priority\": \"High\",\n",
            "\"Resolution\": \"Won't Fix\", \"Assignee\": \"brandilindsey\", \"Reporter\":\n",
            "\"veronica64\", \"Creator\": \"tiffanyfranklin\", \"Created\": \"2023-09-27 09:08:27\",\n",
            "\"Updated\": \"2023-09-07 12:23:20\",  \n",
            "#### 7 Relevant chunk ####\n",
            "{'source': '/content/jira_tickets_10k.json'}\n",
            "\"Relate then institution its. How probably tree reveal. Less decision federal\n",
            "create information protect.\\nBody main themselves various break rise. Able\n",
            "attack though really.\" ] }, { \"Summary\": \"See not coach tax himself turn move\n",
            "page.\", \"Ticket key\": \"MFS-7759\", \"Ticket id\": \"7759\", \"Ticket Type\":\n",
            "\"Improvement\", \"Status\": \"Open\", \"Project key\": \"MFS\", \"Project name\": \"Moon\n",
            "Flight System\",  \n",
            "#### 8 Relevant chunk ####\n",
            "{'source': '/content/jira_tickets_10k.json'}\n",
            "\"Project name\": \"Moon Flight System\", \"Project type\": \"software\", \"Project\n",
            "lead\": \"melindacarroll\", \"Project description\": \"Moon Flight System software\n",
            "project\", \"Project url\": \"http://www.howell.com/\", \"Priority\": \"Critical\",\n",
            "\"Resolution\": \"Won't Fix\", \"Assignee\": \"melindacarroll\", \"Reporter\":\n",
            "\"lozanokayla\", \"Creator\": \"uellis\", \"Created\": \"2023-09-24 23:18:28\", \"Updated\":\n",
            "\"2023-10-22 19:09:28\",  \n",
            "#### 9 Relevant chunk ####\n",
            "{'source': '/content/jira_tickets_10k.json'}\n",
            "\"Affects Version/s\": \"label3\", \"Fix Version/s\": \"label1\", \"Component/s\":\n",
            "\"Backend\", \"Due Date\": \"2023-12-24 06:39:19\", \"Votes\": \"7\", \"Labels\": \"label4\",\n",
            "\"Description\": \"Successful street really itself. Each physical hand able\n",
            "stay.\\nMessage campaign soldier to course. Give degree marriage. Itself figure\n",
            "investment seem body.\", \"Environment\": \"Wear we writer night once.\", \"Watchers\":\n",
            "\"collinsmaria\", \"Log Work\": \"\",  \n",
            "#### 10 Relevant chunk ####\n",
            "{'source': '/content/jira_tickets_10k.json'}\n",
            "\"Project name\": \"Moon Flight System\", \"Project type\": \"software\", \"Project\n",
            "lead\": \"joseph34\", \"Project description\": \"Moon Flight System software project\",\n",
            "\"Project url\": \"https://www.brown-johnson.com/\", \"Priority\": \"High\",\n",
            "\"Resolution\": \"Won't Fix\", \"Assignee\": \"joseph34\", \"Reporter\": \"kyle17\",\n",
            "\"Creator\": \"andersonkimberly\", \"Created\": \"2023-09-18 04:11:37\", \"Updated\":\n",
            "\"2023-10-22 08:32:54\",  \n",
            "#### 11 Relevant chunk ####\n",
            "{'source': '/content/jira_tickets_10k.json'}\n",
            "\"Note police team explain class lose personal. Huge main involve effect\n",
            "beyond.\\nCongress allow card add. How nation good likely.\\nMouth factor skill\n",
            "for center. Professional yeah near away leave we.\" ] }, { \"Summary\": \"Again\n",
            "traditional factor room.\", \"Ticket key\": \"MFS-2728\", \"Ticket id\": \"2728\",\n",
            "\"Ticket Type\": \"New Feature\", \"Status\": \"Reopened\", \"Project key\": \"MFS\",\n",
            "\"Project name\": \"Moon Flight System\",  \n",
            "#### 12 Relevant chunk ####\n",
            "{'source': '/content/jira_tickets_10k.json'}\n",
            "\"Project name\": \"Moon Flight System\", \"Project type\": \"software\", \"Project\n",
            "lead\": \"timothypowell\", \"Project description\": \"Moon Flight System software\n",
            "project\", \"Project url\": \"https://www.leonard-bender.com/\", \"Priority\": \"Low\",\n",
            "\"Resolution\": \"Won't Fix\", \"Assignee\": \"timothypowell\", \"Reporter\":\n",
            "\"calderonterri\", \"Creator\": \"vthomas\", \"Created\": \"2023-09-25 05:58:27\",\n",
            "\"Updated\": \"2023-10-13 04:38:03\",  \n",
            "#### 13 Relevant chunk ####\n",
            "{'source': '/content/jira_tickets_10k.json'}\n",
            "\"Successful street really itself. Each physical hand able stay.\\nMessage\n",
            "campaign soldier to course. Give degree marriage. Itself figure investment seem\n",
            "body.\" ] }, { \"Summary\": \"Middle not end.\", \"Ticket key\": \"MFS-5721\", \"Ticket\n",
            "id\": \"5721\", \"Ticket Type\": \"New Feature\", \"Status\": \"Closed\", \"Project key\":\n",
            "\"MFS\", \"Project name\": \"Moon Flight System\", \"Project type\": \"software\",\n",
            "\"Project lead\": \"ewingtammy\",  \n",
            "#### 14 Relevant chunk ####\n",
            "{'source': '/content/jira_tickets_10k.json'}\n",
            "\"Project name\": \"Moon Flight System\", \"Project type\": \"software\", \"Project\n",
            "lead\": \"masonbryant\", \"Project description\": \"Moon Flight System software\n",
            "project\", \"Project url\": \"http://www.reed.org/\", \"Priority\": \"Low\",\n",
            "\"Resolution\": \"Won't Fix\", \"Assignee\": \"masonbryant\", \"Reporter\":\n",
            "\"vanessapatterson\", \"Creator\": \"trevorking\", \"Created\": \"2023-09-12 02:57:02\",\n",
            "\"Updated\": \"2023-10-08 00:31:40\",  \n",
            "#### 15 Relevant chunk ####\n",
            "{'source': '/content/jira_tickets_10k.json'}\n",
            "\"Description\": \"Note police team explain class lose personal. Huge main involve\n",
            "effect beyond.\\nCongress allow card add. How nation good likely.\\nMouth factor\n",
            "skill for center. Professional yeah near away leave we.\", \"Environment\": \"Plant\n",
            "this writer ask.\", \"Watchers\": \"williamssusan\", \"Log Work\": \"\", \"Original\n",
            "Estimate\": \"\", \"Remaining Estimate\": \"\", \"Time Spent\": \"\", \"Work Ratio\": \"\", \"Σ\n",
            "Original Estimate\": \"\",  \n",
            "#### 16 Relevant chunk ####\n",
            "{'source': '/content/jira_tickets_10k.json'}\n",
            "\"Project name\": \"Moon Flight System\", \"Project type\": \"software\", \"Project\n",
            "lead\": \"margaretortiz\", \"Project description\": \"Moon Flight System software\n",
            "project\", \"Project url\": \"http://www.cochran-arellano.com/\", \"Priority\": \"High\",\n",
            "\"Resolution\": \"Incomplete\", \"Assignee\": \"margaretortiz\", \"Reporter\":\n",
            "\"jasoncrosby\", \"Creator\": \"nicolemoyer\", \"Created\": \"2023-09-05 11:40:04\",\n",
            "\"Updated\": \"2023-10-01 04:46:57\",  \n",
            "#### 17 Relevant chunk ####\n",
            "{'source': '/content/jira_tickets_10k.json'}\n",
            "\"Recently plan Mrs speech race to four. Weight piece civil risk especially\n",
            "maintain.\\nRaise recently oil read hope perform. Imagine would other probably\n",
            "trade. How boy civil still about find.\" ] }, { \"Summary\": \"Book soon attack\n",
            "family most either.\", \"Ticket key\": \"MFS-3791\", \"Ticket id\": \"3791\", \"Ticket\n",
            "Type\": \"Improvement\", \"Status\": \"Reopened\", \"Project key\": \"MFS\", \"Project\n",
            "name\": \"Moon Flight System\",  \n",
            "#### 18 Relevant chunk ####\n",
            "{'source': '/content/jira_tickets_10k.json'}\n",
            "\"Project name\": \"Moon Flight System\", \"Project type\": \"software\", \"Project\n",
            "lead\": \"hendersonbrian\", \"Project description\": \"Moon Flight System software\n",
            "project\", \"Project url\": \"http://www.cannon-oconnell.com/\", \"Priority\":\n",
            "\"Critical\", \"Resolution\": \"Fixed\", \"Assignee\": \"hendersonbrian\", \"Reporter\":\n",
            "\"kruegermitchell\", \"Creator\": \"acolon\", \"Created\": \"2023-09-21 20:22:50\",\n",
            "\"Updated\": \"2023-10-22 01:02:56\",  \n",
            "#### 19 Relevant chunk ####\n",
            "{'source': '/content/jira_tickets_10k.json'}\n",
            "\"Fix Version/s\": \"label3\", \"Component/s\": \"Core\", \"Due Date\": \"2023-12-18\n",
            "03:52:40\", \"Votes\": \"4\", \"Labels\": \"label3\", \"Description\": \"Recently plan Mrs\n",
            "speech race to four. Weight piece civil risk especially maintain.\\nRaise\n",
            "recently oil read hope perform. Imagine would other probably trade. How boy\n",
            "civil still about find.\", \"Environment\": \"Eat him reflect meet option build\n",
            "onto.\", \"Watchers\": \"dominguezsteven\", \"Log Work\": \"\",  \n",
            "#### 20 Relevant chunk ####\n",
            "{'source': '/content/jira_tickets_10k.json'}\n",
            "\"Project name\": \"Moon Flight System\", \"Project type\": \"software\", \"Project\n",
            "lead\": \"kimberlyalexander\", \"Project description\": \"Moon Flight System software\n",
            "project\", \"Project url\": \"https://smith-mcdowell.org/\", \"Priority\": \"Critical\",\n",
            "\"Resolution\": \"Won't Fix\", \"Assignee\": \"kimberlyalexander\", \"Reporter\":\n",
            "\"michaeljordan\", \"Creator\": \"kenneth38\", \"Created\": \"2023-09-10 03:31:19\",\n",
            "\"Updated\": \"2023-09-03 22:49:28\",\n",
            "\u001b[0m\n",
            "\u001b[32m2024-09-19 08:17:30.291\u001b[0m | \u001b[34m\u001b[1mDEBUG   \u001b[0m | \u001b[36m__main__\u001b[0m:\u001b[36mget_message_content_ensemble\u001b[0m:\u001b[36m45\u001b[0m - \u001b[34m\u001b[1mget_message_content_ensemble elapsed_time = 5.19779896736145 sec\u001b[0m\n"
          ]
        }
      ]
    },
    {
      "cell_type": "code",
      "source": [
        "system_content = '''You are a useful assistant.\n",
        "You have data on the necessary tickets in Jira..'''\n",
        "\n",
        "user_content = f'{jira_topic}. The data is here: {jira_message_content}'\n",
        "\n",
        "response = gpt_request(user_content, system_content)\n",
        "\n",
        "print (response)"
      ],
      "metadata": {
        "colab": {
          "base_uri": "https://localhost:8080/"
        },
        "id": "8LmzsYvDTAoX",
        "outputId": "bc88fec2-b993-49c5-c54f-8b0f1af97d08"
      },
      "id": "8LmzsYvDTAoX",
      "execution_count": null,
      "outputs": [
        {
          "output_type": "stream",
          "name": "stderr",
          "text": [
            "/usr/local/lib/python3.10/dist-packages/ipykernel/ipkernel.py:283: DeprecationWarning: `should_run_async` will not call `transform_cell` automatically in the future. Please pass the result to `transformed_cell` argument and any exception that happen during thetransform in `preprocessing_exc_tuple` in IPython 7.17 and above.\n",
            "  and should_run_async(code)\n"
          ]
        },
        {
          "output_type": "stream",
          "name": "stdout",
          "text": [
            "Here are the tickets related to the \"Moon Flight System\" project:\n",
            "\n",
            "1. **Ticket id**: 7759\n",
            "   - **Summary**: See not coach tax himself turn move page.\n",
            "   - **Project name**: Moon Flight System\n",
            "\n",
            "2. **Ticket id**: 2728\n",
            "   - **Summary**: Again traditional factor room.\n",
            "   - **Project name**: Moon Flight System\n",
            "\n",
            "3. **Ticket id**: 5721\n",
            "   - **Summary**: Middle not end.\n",
            "   - **Project name**: Moon Flight System\n",
            "\n",
            "4. **Ticket id**: 3791\n",
            "   - **Summary**: Book soon attack family most either.\n",
            "   - **Project name**: Moon Flight System\n"
          ]
        }
      ]
    },
    {
      "cell_type": "code",
      "source": [
        "IPython.display.Markdown(response)"
      ],
      "metadata": {
        "colab": {
          "base_uri": "https://localhost:8080/",
          "height": 374
        },
        "id": "qOge5aFPTzdd",
        "outputId": "868c1ad9-933a-4c77-cc4b-c5351f47cf54"
      },
      "id": "qOge5aFPTzdd",
      "execution_count": null,
      "outputs": [
        {
          "output_type": "stream",
          "name": "stderr",
          "text": [
            "/usr/local/lib/python3.10/dist-packages/ipykernel/ipkernel.py:283: DeprecationWarning: `should_run_async` will not call `transform_cell` automatically in the future. Please pass the result to `transformed_cell` argument and any exception that happen during thetransform in `preprocessing_exc_tuple` in IPython 7.17 and above.\n",
            "  and should_run_async(code)\n"
          ]
        },
        {
          "output_type": "execute_result",
          "data": {
            "text/plain": [
              "<IPython.core.display.Markdown object>"
            ],
            "text/markdown": "Here are the tickets related to the \"Moon Flight System\" project:\n\n1. **Ticket id**: 7759\n   - **Summary**: See not coach tax himself turn move page.\n   - **Project name**: Moon Flight System\n\n2. **Ticket id**: 2728\n   - **Summary**: Again traditional factor room.\n   - **Project name**: Moon Flight System\n\n3. **Ticket id**: 5721\n   - **Summary**: Middle not end.\n   - **Project name**: Moon Flight System\n\n4. **Ticket id**: 3791\n   - **Summary**: Book soon attack family most either.\n   - **Project name**: Moon Flight System"
          },
          "metadata": {},
          "execution_count": 55
        }
      ]
    },
    {
      "cell_type": "markdown",
      "source": [
        "### 5.2. Checking response for Confluence without agents by using EnsembleRetriever."
      ],
      "metadata": {
        "id": "i8Rnjf6fUYku"
      },
      "id": "i8Rnjf6fUYku"
    },
    {
      "cell_type": "code",
      "source": [
        "confluence_topic = \"How to install Moon Flight System? Give me the main details\"\n",
        "confluence_message_content = get_message_content_ensemble(topic, confluence_db, confluence_source_chunks, 4)"
      ],
      "metadata": {
        "colab": {
          "base_uri": "https://localhost:8080/"
        },
        "id": "8kKTA7KNUinP",
        "outputId": "8dd6d394-8402-4b2f-8a28-c19b21310085"
      },
      "id": "8kKTA7KNUinP",
      "execution_count": null,
      "outputs": [
        {
          "output_type": "stream",
          "name": "stderr",
          "text": [
            "/usr/local/lib/python3.10/dist-packages/ipykernel/ipkernel.py:283: DeprecationWarning: `should_run_async` will not call `transform_cell` automatically in the future. Please pass the result to `transformed_cell` argument and any exception that happen during thetransform in `preprocessing_exc_tuple` in IPython 7.17 and above.\n",
            "  and should_run_async(code)\n",
            "\u001b[32m2024-09-19 08:18:13.435\u001b[0m | \u001b[34m\u001b[1mDEBUG   \u001b[0m | \u001b[36m__main__\u001b[0m:\u001b[36mget_message_content_ensemble\u001b[0m:\u001b[36m29\u001b[0m - \u001b[34m\u001b[1mget_message_content_ensemble............\u001b[0m\n",
            "\u001b[32m2024-09-19 08:18:13.438\u001b[0m | \u001b[34m\u001b[1mDEBUG   \u001b[0m | \u001b[36m__main__\u001b[0m:\u001b[36mget_message_content_ensemble\u001b[0m:\u001b[36m31\u001b[0m - \u001b[34m\u001b[1mtopic=How to install Moon Flight System? Give me the main details\u001b[0m\n",
            "\u001b[32m2024-09-19 08:18:13.928\u001b[0m | \u001b[34m\u001b[1mDEBUG   \u001b[0m | \u001b[36m__main__\u001b[0m:\u001b[36mget_message_content_ensemble\u001b[0m:\u001b[36m42\u001b[0m - \u001b[34m\u001b[1mmessage_content=\n",
            "#### 1 Relevant chunk ####\n",
            "{'title': 'Installation Instructions', 'id': '282088987', 'source': 'https://moonflightsystem.com/docs/282088987'}\n",
            "Installation Instructions: Unzip the MFS-2024.1.zip file, run the installer\n",
            "script with sudo privileges. Follow the prompts to complete the installation\n",
            "process.  \n",
            "#### 2 Relevant chunk ####\n",
            "{'title': 'Moon Flight System Documentation', 'id': '282084982', 'source': 'https://moonflightsystem.com/docs/282084982'}\n",
            "The system requirements for Moon Flight System release 2024.1 are described as\n",
            "follows: requires a quad-core processor, 16GB RAM, 250GB SSD, and Internet\n",
            "connectivity.\n",
            "\u001b[0m\n",
            "\u001b[32m2024-09-19 08:18:13.930\u001b[0m | \u001b[34m\u001b[1mDEBUG   \u001b[0m | \u001b[36m__main__\u001b[0m:\u001b[36mget_message_content_ensemble\u001b[0m:\u001b[36m45\u001b[0m - \u001b[34m\u001b[1mget_message_content_ensemble elapsed_time = 0.49147772789001465 sec\u001b[0m\n"
          ]
        }
      ]
    },
    {
      "cell_type": "code",
      "source": [
        "system_content = '''You are a useful assistant.\n",
        "You have data on the necessary docs in Confluence..'''\n",
        "\n",
        "user_content = f'''{confluence_topic}. The data is here: {confluence_message_content}'''\n",
        "\n",
        "response = gpt_request(user_content, system_content)\n",
        "\n",
        "print (response)"
      ],
      "metadata": {
        "colab": {
          "base_uri": "https://localhost:8080/"
        },
        "id": "XDCyr674VFvW",
        "outputId": "99257724-a6f7-4703-ee48-8a0dc9083ecd"
      },
      "id": "XDCyr674VFvW",
      "execution_count": null,
      "outputs": [
        {
          "output_type": "stream",
          "name": "stderr",
          "text": [
            "/usr/local/lib/python3.10/dist-packages/ipykernel/ipkernel.py:283: DeprecationWarning: `should_run_async` will not call `transform_cell` automatically in the future. Please pass the result to `transformed_cell` argument and any exception that happen during thetransform in `preprocessing_exc_tuple` in IPython 7.17 and above.\n",
            "  and should_run_async(code)\n"
          ]
        },
        {
          "output_type": "stream",
          "name": "stdout",
          "text": [
            "To install the Moon Flight System, follow these main steps:\n",
            "\n",
            "1. **Download the Install Package:**\n",
            "   - Obtain the `MFS-2024.1.zip` file from the official source or your distribution method.\n",
            "\n",
            "2. **Unzip the File:**\n",
            "   - Use a tool to unzip the `MFS-2024.1.zip` file. This can be done via terminal or a graphical user interface, depending on your environment.\n",
            "     - Command-line example:\n",
            "       ```bash\n",
            "       unzip MFS-2024.1.zip\n",
            "       ```\n",
            "\n",
            "3. **Run the Installer Script:**\n",
            "   - Open a terminal and navigate to the directory where you unzipped the files.\n",
            "   - Execute the installer script with sudo (administrator) privileges.\n",
            "     - Example command:\n",
            "       ```bash\n",
            "       sudo ./install.sh\n",
            "       ```\n",
            "\n",
            "4. **Follow the Prompts:**\n",
            "   - During the installation process, follow the on-screen prompts to complete the installation.\n",
            "\n",
            "### System Requirements\n",
            "Before installing, ensure your system meets the following requirements:\n",
            "- **Processor:** Quad-core processor\n",
            "- **Memory:** 16GB RAM\n",
            "- **Storage:** 250GB SSD\n",
            "- **Internet Connectivity:** Required for installation and updates\n",
            "\n",
            "For more detailed documentation, you can refer to the official [Moon Flight System Documentation](https://moonflightsystem.com/docs/282084982).\n",
            "\n",
            "Please follow this sequence to ensure your installation proceeds smoothly.\n"
          ]
        }
      ]
    },
    {
      "cell_type": "code",
      "source": [
        "IPython.display.Markdown(response)"
      ],
      "metadata": {
        "colab": {
          "base_uri": "https://localhost:8080/",
          "height": 579
        },
        "id": "gzUTCFPNVZSH",
        "outputId": "9d0005e3-7e88-41de-f42f-d3c5a1c67865"
      },
      "id": "gzUTCFPNVZSH",
      "execution_count": null,
      "outputs": [
        {
          "output_type": "stream",
          "name": "stderr",
          "text": [
            "/usr/local/lib/python3.10/dist-packages/ipykernel/ipkernel.py:283: DeprecationWarning: `should_run_async` will not call `transform_cell` automatically in the future. Please pass the result to `transformed_cell` argument and any exception that happen during thetransform in `preprocessing_exc_tuple` in IPython 7.17 and above.\n",
            "  and should_run_async(code)\n"
          ]
        },
        {
          "output_type": "execute_result",
          "data": {
            "text/plain": [
              "<IPython.core.display.Markdown object>"
            ],
            "text/markdown": "To install the Moon Flight System, follow these main steps:\n\n1. **Download the Install Package:**\n   - Obtain the `MFS-2024.1.zip` file from the official source or your distribution method.\n\n2. **Unzip the File:**\n   - Use a tool to unzip the `MFS-2024.1.zip` file. This can be done via terminal or a graphical user interface, depending on your environment.\n     - Command-line example:\n       ```bash\n       unzip MFS-2024.1.zip\n       ```\n\n3. **Run the Installer Script:**\n   - Open a terminal and navigate to the directory where you unzipped the files.\n   - Execute the installer script with sudo (administrator) privileges.\n     - Example command:\n       ```bash\n       sudo ./install.sh\n       ```\n\n4. **Follow the Prompts:**\n   - During the installation process, follow the on-screen prompts to complete the installation.\n\n### System Requirements\nBefore installing, ensure your system meets the following requirements:\n- **Processor:** Quad-core processor\n- **Memory:** 16GB RAM\n- **Storage:** 250GB SSD\n- **Internet Connectivity:** Required for installation and updates\n\nFor more detailed documentation, you can refer to the official [Moon Flight System Documentation](https://moonflightsystem.com/docs/282084982).\n\nPlease follow this sequence to ensure your installation proceeds smoothly."
          },
          "metadata": {},
          "execution_count": 58
        }
      ]
    }
  ],
  "metadata": {
    "colab": {
      "provenance": [],
      "collapsed_sections": [
        "u7AjgLuLAOMN"
      ]
    },
    "language_info": {
      "name": "python"
    },
    "kernelspec": {
      "name": "python3",
      "display_name": "Python 3"
    },
    "widgets": {
      "application/vnd.jupyter.widget-state+json": {
        "a452ab89e7ec4f819984cd10dd2bbb6e": {
          "model_module": "@jupyter-widgets/controls",
          "model_name": "HBoxModel",
          "model_module_version": "1.5.0",
          "state": {
            "_dom_classes": [],
            "_model_module": "@jupyter-widgets/controls",
            "_model_module_version": "1.5.0",
            "_model_name": "HBoxModel",
            "_view_count": null,
            "_view_module": "@jupyter-widgets/controls",
            "_view_module_version": "1.5.0",
            "_view_name": "HBoxView",
            "box_style": "",
            "children": [
              "IPY_MODEL_f0043feef1e7451c8a20a05ad923e367",
              "IPY_MODEL_f829929e230a4f22ba8638a245c8808c",
              "IPY_MODEL_bd5fa9fbc80546d9a93958d0ec54a288"
            ],
            "layout": "IPY_MODEL_1c800d10622e4c4ca5ebe7cf86921a8b"
          }
        },
        "f0043feef1e7451c8a20a05ad923e367": {
          "model_module": "@jupyter-widgets/controls",
          "model_name": "HTMLModel",
          "model_module_version": "1.5.0",
          "state": {
            "_dom_classes": [],
            "_model_module": "@jupyter-widgets/controls",
            "_model_module_version": "1.5.0",
            "_model_name": "HTMLModel",
            "_view_count": null,
            "_view_module": "@jupyter-widgets/controls",
            "_view_module_version": "1.5.0",
            "_view_name": "HTMLView",
            "description": "",
            "description_tooltip": null,
            "layout": "IPY_MODEL_614c1d8afece4e3393e986f0ce7c0b32",
            "placeholder": "​",
            "style": "IPY_MODEL_144f63670ff04dd6b9c09863f159e1e1",
            "value": "modules.json: 100%"
          }
        },
        "f829929e230a4f22ba8638a245c8808c": {
          "model_module": "@jupyter-widgets/controls",
          "model_name": "FloatProgressModel",
          "model_module_version": "1.5.0",
          "state": {
            "_dom_classes": [],
            "_model_module": "@jupyter-widgets/controls",
            "_model_module_version": "1.5.0",
            "_model_name": "FloatProgressModel",
            "_view_count": null,
            "_view_module": "@jupyter-widgets/controls",
            "_view_module_version": "1.5.0",
            "_view_name": "ProgressView",
            "bar_style": "success",
            "description": "",
            "description_tooltip": null,
            "layout": "IPY_MODEL_62e26804aa1345fd9ba15292fc8d8233",
            "max": 387,
            "min": 0,
            "orientation": "horizontal",
            "style": "IPY_MODEL_4c6531b42fd04ba1be57e74d021cde5b",
            "value": 387
          }
        },
        "bd5fa9fbc80546d9a93958d0ec54a288": {
          "model_module": "@jupyter-widgets/controls",
          "model_name": "HTMLModel",
          "model_module_version": "1.5.0",
          "state": {
            "_dom_classes": [],
            "_model_module": "@jupyter-widgets/controls",
            "_model_module_version": "1.5.0",
            "_model_name": "HTMLModel",
            "_view_count": null,
            "_view_module": "@jupyter-widgets/controls",
            "_view_module_version": "1.5.0",
            "_view_name": "HTMLView",
            "description": "",
            "description_tooltip": null,
            "layout": "IPY_MODEL_e4de22ca2d00458faf052950d5aafabf",
            "placeholder": "​",
            "style": "IPY_MODEL_7e84c47a319b4e4cbd8550bba8389d4d",
            "value": " 387/387 [00:00&lt;00:00, 19.9kB/s]"
          }
        },
        "1c800d10622e4c4ca5ebe7cf86921a8b": {
          "model_module": "@jupyter-widgets/base",
          "model_name": "LayoutModel",
          "model_module_version": "1.2.0",
          "state": {
            "_model_module": "@jupyter-widgets/base",
            "_model_module_version": "1.2.0",
            "_model_name": "LayoutModel",
            "_view_count": null,
            "_view_module": "@jupyter-widgets/base",
            "_view_module_version": "1.2.0",
            "_view_name": "LayoutView",
            "align_content": null,
            "align_items": null,
            "align_self": null,
            "border": null,
            "bottom": null,
            "display": null,
            "flex": null,
            "flex_flow": null,
            "grid_area": null,
            "grid_auto_columns": null,
            "grid_auto_flow": null,
            "grid_auto_rows": null,
            "grid_column": null,
            "grid_gap": null,
            "grid_row": null,
            "grid_template_areas": null,
            "grid_template_columns": null,
            "grid_template_rows": null,
            "height": null,
            "justify_content": null,
            "justify_items": null,
            "left": null,
            "margin": null,
            "max_height": null,
            "max_width": null,
            "min_height": null,
            "min_width": null,
            "object_fit": null,
            "object_position": null,
            "order": null,
            "overflow": null,
            "overflow_x": null,
            "overflow_y": null,
            "padding": null,
            "right": null,
            "top": null,
            "visibility": null,
            "width": null
          }
        },
        "614c1d8afece4e3393e986f0ce7c0b32": {
          "model_module": "@jupyter-widgets/base",
          "model_name": "LayoutModel",
          "model_module_version": "1.2.0",
          "state": {
            "_model_module": "@jupyter-widgets/base",
            "_model_module_version": "1.2.0",
            "_model_name": "LayoutModel",
            "_view_count": null,
            "_view_module": "@jupyter-widgets/base",
            "_view_module_version": "1.2.0",
            "_view_name": "LayoutView",
            "align_content": null,
            "align_items": null,
            "align_self": null,
            "border": null,
            "bottom": null,
            "display": null,
            "flex": null,
            "flex_flow": null,
            "grid_area": null,
            "grid_auto_columns": null,
            "grid_auto_flow": null,
            "grid_auto_rows": null,
            "grid_column": null,
            "grid_gap": null,
            "grid_row": null,
            "grid_template_areas": null,
            "grid_template_columns": null,
            "grid_template_rows": null,
            "height": null,
            "justify_content": null,
            "justify_items": null,
            "left": null,
            "margin": null,
            "max_height": null,
            "max_width": null,
            "min_height": null,
            "min_width": null,
            "object_fit": null,
            "object_position": null,
            "order": null,
            "overflow": null,
            "overflow_x": null,
            "overflow_y": null,
            "padding": null,
            "right": null,
            "top": null,
            "visibility": null,
            "width": null
          }
        },
        "144f63670ff04dd6b9c09863f159e1e1": {
          "model_module": "@jupyter-widgets/controls",
          "model_name": "DescriptionStyleModel",
          "model_module_version": "1.5.0",
          "state": {
            "_model_module": "@jupyter-widgets/controls",
            "_model_module_version": "1.5.0",
            "_model_name": "DescriptionStyleModel",
            "_view_count": null,
            "_view_module": "@jupyter-widgets/base",
            "_view_module_version": "1.2.0",
            "_view_name": "StyleView",
            "description_width": ""
          }
        },
        "62e26804aa1345fd9ba15292fc8d8233": {
          "model_module": "@jupyter-widgets/base",
          "model_name": "LayoutModel",
          "model_module_version": "1.2.0",
          "state": {
            "_model_module": "@jupyter-widgets/base",
            "_model_module_version": "1.2.0",
            "_model_name": "LayoutModel",
            "_view_count": null,
            "_view_module": "@jupyter-widgets/base",
            "_view_module_version": "1.2.0",
            "_view_name": "LayoutView",
            "align_content": null,
            "align_items": null,
            "align_self": null,
            "border": null,
            "bottom": null,
            "display": null,
            "flex": null,
            "flex_flow": null,
            "grid_area": null,
            "grid_auto_columns": null,
            "grid_auto_flow": null,
            "grid_auto_rows": null,
            "grid_column": null,
            "grid_gap": null,
            "grid_row": null,
            "grid_template_areas": null,
            "grid_template_columns": null,
            "grid_template_rows": null,
            "height": null,
            "justify_content": null,
            "justify_items": null,
            "left": null,
            "margin": null,
            "max_height": null,
            "max_width": null,
            "min_height": null,
            "min_width": null,
            "object_fit": null,
            "object_position": null,
            "order": null,
            "overflow": null,
            "overflow_x": null,
            "overflow_y": null,
            "padding": null,
            "right": null,
            "top": null,
            "visibility": null,
            "width": null
          }
        },
        "4c6531b42fd04ba1be57e74d021cde5b": {
          "model_module": "@jupyter-widgets/controls",
          "model_name": "ProgressStyleModel",
          "model_module_version": "1.5.0",
          "state": {
            "_model_module": "@jupyter-widgets/controls",
            "_model_module_version": "1.5.0",
            "_model_name": "ProgressStyleModel",
            "_view_count": null,
            "_view_module": "@jupyter-widgets/base",
            "_view_module_version": "1.2.0",
            "_view_name": "StyleView",
            "bar_color": null,
            "description_width": ""
          }
        },
        "e4de22ca2d00458faf052950d5aafabf": {
          "model_module": "@jupyter-widgets/base",
          "model_name": "LayoutModel",
          "model_module_version": "1.2.0",
          "state": {
            "_model_module": "@jupyter-widgets/base",
            "_model_module_version": "1.2.0",
            "_model_name": "LayoutModel",
            "_view_count": null,
            "_view_module": "@jupyter-widgets/base",
            "_view_module_version": "1.2.0",
            "_view_name": "LayoutView",
            "align_content": null,
            "align_items": null,
            "align_self": null,
            "border": null,
            "bottom": null,
            "display": null,
            "flex": null,
            "flex_flow": null,
            "grid_area": null,
            "grid_auto_columns": null,
            "grid_auto_flow": null,
            "grid_auto_rows": null,
            "grid_column": null,
            "grid_gap": null,
            "grid_row": null,
            "grid_template_areas": null,
            "grid_template_columns": null,
            "grid_template_rows": null,
            "height": null,
            "justify_content": null,
            "justify_items": null,
            "left": null,
            "margin": null,
            "max_height": null,
            "max_width": null,
            "min_height": null,
            "min_width": null,
            "object_fit": null,
            "object_position": null,
            "order": null,
            "overflow": null,
            "overflow_x": null,
            "overflow_y": null,
            "padding": null,
            "right": null,
            "top": null,
            "visibility": null,
            "width": null
          }
        },
        "7e84c47a319b4e4cbd8550bba8389d4d": {
          "model_module": "@jupyter-widgets/controls",
          "model_name": "DescriptionStyleModel",
          "model_module_version": "1.5.0",
          "state": {
            "_model_module": "@jupyter-widgets/controls",
            "_model_module_version": "1.5.0",
            "_model_name": "DescriptionStyleModel",
            "_view_count": null,
            "_view_module": "@jupyter-widgets/base",
            "_view_module_version": "1.2.0",
            "_view_name": "StyleView",
            "description_width": ""
          }
        },
        "540d0e001c78463fa9db33ec782fd72c": {
          "model_module": "@jupyter-widgets/controls",
          "model_name": "HBoxModel",
          "model_module_version": "1.5.0",
          "state": {
            "_dom_classes": [],
            "_model_module": "@jupyter-widgets/controls",
            "_model_module_version": "1.5.0",
            "_model_name": "HBoxModel",
            "_view_count": null,
            "_view_module": "@jupyter-widgets/controls",
            "_view_module_version": "1.5.0",
            "_view_name": "HBoxView",
            "box_style": "",
            "children": [
              "IPY_MODEL_22176f82463745ba933801ee996d7c48",
              "IPY_MODEL_d9ffb3f6ca534605b845213be1b2813a",
              "IPY_MODEL_d6e9a9c4e4a14335b95a5fce2910523f"
            ],
            "layout": "IPY_MODEL_e84561ad211b4ca7a9d1f68a49946ea0"
          }
        },
        "22176f82463745ba933801ee996d7c48": {
          "model_module": "@jupyter-widgets/controls",
          "model_name": "HTMLModel",
          "model_module_version": "1.5.0",
          "state": {
            "_dom_classes": [],
            "_model_module": "@jupyter-widgets/controls",
            "_model_module_version": "1.5.0",
            "_model_name": "HTMLModel",
            "_view_count": null,
            "_view_module": "@jupyter-widgets/controls",
            "_view_module_version": "1.5.0",
            "_view_name": "HTMLView",
            "description": "",
            "description_tooltip": null,
            "layout": "IPY_MODEL_bb070926b0b64f37809fa01f136f95ca",
            "placeholder": "​",
            "style": "IPY_MODEL_58376507952641d392d23673cf19a7e5",
            "value": "README.md: 100%"
          }
        },
        "d9ffb3f6ca534605b845213be1b2813a": {
          "model_module": "@jupyter-widgets/controls",
          "model_name": "FloatProgressModel",
          "model_module_version": "1.5.0",
          "state": {
            "_dom_classes": [],
            "_model_module": "@jupyter-widgets/controls",
            "_model_module_version": "1.5.0",
            "_model_name": "FloatProgressModel",
            "_view_count": null,
            "_view_module": "@jupyter-widgets/controls",
            "_view_module_version": "1.5.0",
            "_view_name": "ProgressView",
            "bar_style": "success",
            "description": "",
            "description_tooltip": null,
            "layout": "IPY_MODEL_f4ea7322a70b4df6b5663062fb573e99",
            "max": 160024,
            "min": 0,
            "orientation": "horizontal",
            "style": "IPY_MODEL_7e8732cd6d07490686b5e6b18882ef2c",
            "value": 160024
          }
        },
        "d6e9a9c4e4a14335b95a5fce2910523f": {
          "model_module": "@jupyter-widgets/controls",
          "model_name": "HTMLModel",
          "model_module_version": "1.5.0",
          "state": {
            "_dom_classes": [],
            "_model_module": "@jupyter-widgets/controls",
            "_model_module_version": "1.5.0",
            "_model_name": "HTMLModel",
            "_view_count": null,
            "_view_module": "@jupyter-widgets/controls",
            "_view_module_version": "1.5.0",
            "_view_name": "HTMLView",
            "description": "",
            "description_tooltip": null,
            "layout": "IPY_MODEL_985b22e0893d49459530d85ee06f224a",
            "placeholder": "​",
            "style": "IPY_MODEL_efa61c60f2b84506b7720787010555f1",
            "value": " 160k/160k [00:00&lt;00:00, 1.27MB/s]"
          }
        },
        "e84561ad211b4ca7a9d1f68a49946ea0": {
          "model_module": "@jupyter-widgets/base",
          "model_name": "LayoutModel",
          "model_module_version": "1.2.0",
          "state": {
            "_model_module": "@jupyter-widgets/base",
            "_model_module_version": "1.2.0",
            "_model_name": "LayoutModel",
            "_view_count": null,
            "_view_module": "@jupyter-widgets/base",
            "_view_module_version": "1.2.0",
            "_view_name": "LayoutView",
            "align_content": null,
            "align_items": null,
            "align_self": null,
            "border": null,
            "bottom": null,
            "display": null,
            "flex": null,
            "flex_flow": null,
            "grid_area": null,
            "grid_auto_columns": null,
            "grid_auto_flow": null,
            "grid_auto_rows": null,
            "grid_column": null,
            "grid_gap": null,
            "grid_row": null,
            "grid_template_areas": null,
            "grid_template_columns": null,
            "grid_template_rows": null,
            "height": null,
            "justify_content": null,
            "justify_items": null,
            "left": null,
            "margin": null,
            "max_height": null,
            "max_width": null,
            "min_height": null,
            "min_width": null,
            "object_fit": null,
            "object_position": null,
            "order": null,
            "overflow": null,
            "overflow_x": null,
            "overflow_y": null,
            "padding": null,
            "right": null,
            "top": null,
            "visibility": null,
            "width": null
          }
        },
        "bb070926b0b64f37809fa01f136f95ca": {
          "model_module": "@jupyter-widgets/base",
          "model_name": "LayoutModel",
          "model_module_version": "1.2.0",
          "state": {
            "_model_module": "@jupyter-widgets/base",
            "_model_module_version": "1.2.0",
            "_model_name": "LayoutModel",
            "_view_count": null,
            "_view_module": "@jupyter-widgets/base",
            "_view_module_version": "1.2.0",
            "_view_name": "LayoutView",
            "align_content": null,
            "align_items": null,
            "align_self": null,
            "border": null,
            "bottom": null,
            "display": null,
            "flex": null,
            "flex_flow": null,
            "grid_area": null,
            "grid_auto_columns": null,
            "grid_auto_flow": null,
            "grid_auto_rows": null,
            "grid_column": null,
            "grid_gap": null,
            "grid_row": null,
            "grid_template_areas": null,
            "grid_template_columns": null,
            "grid_template_rows": null,
            "height": null,
            "justify_content": null,
            "justify_items": null,
            "left": null,
            "margin": null,
            "max_height": null,
            "max_width": null,
            "min_height": null,
            "min_width": null,
            "object_fit": null,
            "object_position": null,
            "order": null,
            "overflow": null,
            "overflow_x": null,
            "overflow_y": null,
            "padding": null,
            "right": null,
            "top": null,
            "visibility": null,
            "width": null
          }
        },
        "58376507952641d392d23673cf19a7e5": {
          "model_module": "@jupyter-widgets/controls",
          "model_name": "DescriptionStyleModel",
          "model_module_version": "1.5.0",
          "state": {
            "_model_module": "@jupyter-widgets/controls",
            "_model_module_version": "1.5.0",
            "_model_name": "DescriptionStyleModel",
            "_view_count": null,
            "_view_module": "@jupyter-widgets/base",
            "_view_module_version": "1.2.0",
            "_view_name": "StyleView",
            "description_width": ""
          }
        },
        "f4ea7322a70b4df6b5663062fb573e99": {
          "model_module": "@jupyter-widgets/base",
          "model_name": "LayoutModel",
          "model_module_version": "1.2.0",
          "state": {
            "_model_module": "@jupyter-widgets/base",
            "_model_module_version": "1.2.0",
            "_model_name": "LayoutModel",
            "_view_count": null,
            "_view_module": "@jupyter-widgets/base",
            "_view_module_version": "1.2.0",
            "_view_name": "LayoutView",
            "align_content": null,
            "align_items": null,
            "align_self": null,
            "border": null,
            "bottom": null,
            "display": null,
            "flex": null,
            "flex_flow": null,
            "grid_area": null,
            "grid_auto_columns": null,
            "grid_auto_flow": null,
            "grid_auto_rows": null,
            "grid_column": null,
            "grid_gap": null,
            "grid_row": null,
            "grid_template_areas": null,
            "grid_template_columns": null,
            "grid_template_rows": null,
            "height": null,
            "justify_content": null,
            "justify_items": null,
            "left": null,
            "margin": null,
            "max_height": null,
            "max_width": null,
            "min_height": null,
            "min_width": null,
            "object_fit": null,
            "object_position": null,
            "order": null,
            "overflow": null,
            "overflow_x": null,
            "overflow_y": null,
            "padding": null,
            "right": null,
            "top": null,
            "visibility": null,
            "width": null
          }
        },
        "7e8732cd6d07490686b5e6b18882ef2c": {
          "model_module": "@jupyter-widgets/controls",
          "model_name": "ProgressStyleModel",
          "model_module_version": "1.5.0",
          "state": {
            "_model_module": "@jupyter-widgets/controls",
            "_model_module_version": "1.5.0",
            "_model_name": "ProgressStyleModel",
            "_view_count": null,
            "_view_module": "@jupyter-widgets/base",
            "_view_module_version": "1.2.0",
            "_view_name": "StyleView",
            "bar_color": null,
            "description_width": ""
          }
        },
        "985b22e0893d49459530d85ee06f224a": {
          "model_module": "@jupyter-widgets/base",
          "model_name": "LayoutModel",
          "model_module_version": "1.2.0",
          "state": {
            "_model_module": "@jupyter-widgets/base",
            "_model_module_version": "1.2.0",
            "_model_name": "LayoutModel",
            "_view_count": null,
            "_view_module": "@jupyter-widgets/base",
            "_view_module_version": "1.2.0",
            "_view_name": "LayoutView",
            "align_content": null,
            "align_items": null,
            "align_self": null,
            "border": null,
            "bottom": null,
            "display": null,
            "flex": null,
            "flex_flow": null,
            "grid_area": null,
            "grid_auto_columns": null,
            "grid_auto_flow": null,
            "grid_auto_rows": null,
            "grid_column": null,
            "grid_gap": null,
            "grid_row": null,
            "grid_template_areas": null,
            "grid_template_columns": null,
            "grid_template_rows": null,
            "height": null,
            "justify_content": null,
            "justify_items": null,
            "left": null,
            "margin": null,
            "max_height": null,
            "max_width": null,
            "min_height": null,
            "min_width": null,
            "object_fit": null,
            "object_position": null,
            "order": null,
            "overflow": null,
            "overflow_x": null,
            "overflow_y": null,
            "padding": null,
            "right": null,
            "top": null,
            "visibility": null,
            "width": null
          }
        },
        "efa61c60f2b84506b7720787010555f1": {
          "model_module": "@jupyter-widgets/controls",
          "model_name": "DescriptionStyleModel",
          "model_module_version": "1.5.0",
          "state": {
            "_model_module": "@jupyter-widgets/controls",
            "_model_module_version": "1.5.0",
            "_model_name": "DescriptionStyleModel",
            "_view_count": null,
            "_view_module": "@jupyter-widgets/base",
            "_view_module_version": "1.2.0",
            "_view_name": "StyleView",
            "description_width": ""
          }
        },
        "e909e71779ff4b2ebcb12fab51bc6994": {
          "model_module": "@jupyter-widgets/controls",
          "model_name": "HBoxModel",
          "model_module_version": "1.5.0",
          "state": {
            "_dom_classes": [],
            "_model_module": "@jupyter-widgets/controls",
            "_model_module_version": "1.5.0",
            "_model_name": "HBoxModel",
            "_view_count": null,
            "_view_module": "@jupyter-widgets/controls",
            "_view_module_version": "1.5.0",
            "_view_name": "HBoxView",
            "box_style": "",
            "children": [
              "IPY_MODEL_a01d88a4bb7d49c3bc252bc4c0f49093",
              "IPY_MODEL_cc2a1a794c034fc49160a979b1fa7d16",
              "IPY_MODEL_ed4e9274215143589a6bd76634da3f50"
            ],
            "layout": "IPY_MODEL_2e0a615de2174770b75589f03434c7c0"
          }
        },
        "a01d88a4bb7d49c3bc252bc4c0f49093": {
          "model_module": "@jupyter-widgets/controls",
          "model_name": "HTMLModel",
          "model_module_version": "1.5.0",
          "state": {
            "_dom_classes": [],
            "_model_module": "@jupyter-widgets/controls",
            "_model_module_version": "1.5.0",
            "_model_name": "HTMLModel",
            "_view_count": null,
            "_view_module": "@jupyter-widgets/controls",
            "_view_module_version": "1.5.0",
            "_view_name": "HTMLView",
            "description": "",
            "description_tooltip": null,
            "layout": "IPY_MODEL_1342f76206fa4984ac92b93fa1c59fa0",
            "placeholder": "​",
            "style": "IPY_MODEL_0d5b5348257b441c8e4b8ebaecd1a6df",
            "value": "sentence_bert_config.json: 100%"
          }
        },
        "cc2a1a794c034fc49160a979b1fa7d16": {
          "model_module": "@jupyter-widgets/controls",
          "model_name": "FloatProgressModel",
          "model_module_version": "1.5.0",
          "state": {
            "_dom_classes": [],
            "_model_module": "@jupyter-widgets/controls",
            "_model_module_version": "1.5.0",
            "_model_name": "FloatProgressModel",
            "_view_count": null,
            "_view_module": "@jupyter-widgets/controls",
            "_view_module_version": "1.5.0",
            "_view_name": "ProgressView",
            "bar_style": "success",
            "description": "",
            "description_tooltip": null,
            "layout": "IPY_MODEL_c9b82acf00a34ddea129fa0517ea33c5",
            "max": 57,
            "min": 0,
            "orientation": "horizontal",
            "style": "IPY_MODEL_a02cc54c20544828b321c8cdfc1e2a1e",
            "value": 57
          }
        },
        "ed4e9274215143589a6bd76634da3f50": {
          "model_module": "@jupyter-widgets/controls",
          "model_name": "HTMLModel",
          "model_module_version": "1.5.0",
          "state": {
            "_dom_classes": [],
            "_model_module": "@jupyter-widgets/controls",
            "_model_module_version": "1.5.0",
            "_model_name": "HTMLModel",
            "_view_count": null,
            "_view_module": "@jupyter-widgets/controls",
            "_view_module_version": "1.5.0",
            "_view_name": "HTMLView",
            "description": "",
            "description_tooltip": null,
            "layout": "IPY_MODEL_87f9de04345c449192469ea3003ad867",
            "placeholder": "​",
            "style": "IPY_MODEL_b9170bb8562b427897bf6e817bb4ec82",
            "value": " 57.0/57.0 [00:00&lt;00:00, 1.79kB/s]"
          }
        },
        "2e0a615de2174770b75589f03434c7c0": {
          "model_module": "@jupyter-widgets/base",
          "model_name": "LayoutModel",
          "model_module_version": "1.2.0",
          "state": {
            "_model_module": "@jupyter-widgets/base",
            "_model_module_version": "1.2.0",
            "_model_name": "LayoutModel",
            "_view_count": null,
            "_view_module": "@jupyter-widgets/base",
            "_view_module_version": "1.2.0",
            "_view_name": "LayoutView",
            "align_content": null,
            "align_items": null,
            "align_self": null,
            "border": null,
            "bottom": null,
            "display": null,
            "flex": null,
            "flex_flow": null,
            "grid_area": null,
            "grid_auto_columns": null,
            "grid_auto_flow": null,
            "grid_auto_rows": null,
            "grid_column": null,
            "grid_gap": null,
            "grid_row": null,
            "grid_template_areas": null,
            "grid_template_columns": null,
            "grid_template_rows": null,
            "height": null,
            "justify_content": null,
            "justify_items": null,
            "left": null,
            "margin": null,
            "max_height": null,
            "max_width": null,
            "min_height": null,
            "min_width": null,
            "object_fit": null,
            "object_position": null,
            "order": null,
            "overflow": null,
            "overflow_x": null,
            "overflow_y": null,
            "padding": null,
            "right": null,
            "top": null,
            "visibility": null,
            "width": null
          }
        },
        "1342f76206fa4984ac92b93fa1c59fa0": {
          "model_module": "@jupyter-widgets/base",
          "model_name": "LayoutModel",
          "model_module_version": "1.2.0",
          "state": {
            "_model_module": "@jupyter-widgets/base",
            "_model_module_version": "1.2.0",
            "_model_name": "LayoutModel",
            "_view_count": null,
            "_view_module": "@jupyter-widgets/base",
            "_view_module_version": "1.2.0",
            "_view_name": "LayoutView",
            "align_content": null,
            "align_items": null,
            "align_self": null,
            "border": null,
            "bottom": null,
            "display": null,
            "flex": null,
            "flex_flow": null,
            "grid_area": null,
            "grid_auto_columns": null,
            "grid_auto_flow": null,
            "grid_auto_rows": null,
            "grid_column": null,
            "grid_gap": null,
            "grid_row": null,
            "grid_template_areas": null,
            "grid_template_columns": null,
            "grid_template_rows": null,
            "height": null,
            "justify_content": null,
            "justify_items": null,
            "left": null,
            "margin": null,
            "max_height": null,
            "max_width": null,
            "min_height": null,
            "min_width": null,
            "object_fit": null,
            "object_position": null,
            "order": null,
            "overflow": null,
            "overflow_x": null,
            "overflow_y": null,
            "padding": null,
            "right": null,
            "top": null,
            "visibility": null,
            "width": null
          }
        },
        "0d5b5348257b441c8e4b8ebaecd1a6df": {
          "model_module": "@jupyter-widgets/controls",
          "model_name": "DescriptionStyleModel",
          "model_module_version": "1.5.0",
          "state": {
            "_model_module": "@jupyter-widgets/controls",
            "_model_module_version": "1.5.0",
            "_model_name": "DescriptionStyleModel",
            "_view_count": null,
            "_view_module": "@jupyter-widgets/base",
            "_view_module_version": "1.2.0",
            "_view_name": "StyleView",
            "description_width": ""
          }
        },
        "c9b82acf00a34ddea129fa0517ea33c5": {
          "model_module": "@jupyter-widgets/base",
          "model_name": "LayoutModel",
          "model_module_version": "1.2.0",
          "state": {
            "_model_module": "@jupyter-widgets/base",
            "_model_module_version": "1.2.0",
            "_model_name": "LayoutModel",
            "_view_count": null,
            "_view_module": "@jupyter-widgets/base",
            "_view_module_version": "1.2.0",
            "_view_name": "LayoutView",
            "align_content": null,
            "align_items": null,
            "align_self": null,
            "border": null,
            "bottom": null,
            "display": null,
            "flex": null,
            "flex_flow": null,
            "grid_area": null,
            "grid_auto_columns": null,
            "grid_auto_flow": null,
            "grid_auto_rows": null,
            "grid_column": null,
            "grid_gap": null,
            "grid_row": null,
            "grid_template_areas": null,
            "grid_template_columns": null,
            "grid_template_rows": null,
            "height": null,
            "justify_content": null,
            "justify_items": null,
            "left": null,
            "margin": null,
            "max_height": null,
            "max_width": null,
            "min_height": null,
            "min_width": null,
            "object_fit": null,
            "object_position": null,
            "order": null,
            "overflow": null,
            "overflow_x": null,
            "overflow_y": null,
            "padding": null,
            "right": null,
            "top": null,
            "visibility": null,
            "width": null
          }
        },
        "a02cc54c20544828b321c8cdfc1e2a1e": {
          "model_module": "@jupyter-widgets/controls",
          "model_name": "ProgressStyleModel",
          "model_module_version": "1.5.0",
          "state": {
            "_model_module": "@jupyter-widgets/controls",
            "_model_module_version": "1.5.0",
            "_model_name": "ProgressStyleModel",
            "_view_count": null,
            "_view_module": "@jupyter-widgets/base",
            "_view_module_version": "1.2.0",
            "_view_name": "StyleView",
            "bar_color": null,
            "description_width": ""
          }
        },
        "87f9de04345c449192469ea3003ad867": {
          "model_module": "@jupyter-widgets/base",
          "model_name": "LayoutModel",
          "model_module_version": "1.2.0",
          "state": {
            "_model_module": "@jupyter-widgets/base",
            "_model_module_version": "1.2.0",
            "_model_name": "LayoutModel",
            "_view_count": null,
            "_view_module": "@jupyter-widgets/base",
            "_view_module_version": "1.2.0",
            "_view_name": "LayoutView",
            "align_content": null,
            "align_items": null,
            "align_self": null,
            "border": null,
            "bottom": null,
            "display": null,
            "flex": null,
            "flex_flow": null,
            "grid_area": null,
            "grid_auto_columns": null,
            "grid_auto_flow": null,
            "grid_auto_rows": null,
            "grid_column": null,
            "grid_gap": null,
            "grid_row": null,
            "grid_template_areas": null,
            "grid_template_columns": null,
            "grid_template_rows": null,
            "height": null,
            "justify_content": null,
            "justify_items": null,
            "left": null,
            "margin": null,
            "max_height": null,
            "max_width": null,
            "min_height": null,
            "min_width": null,
            "object_fit": null,
            "object_position": null,
            "order": null,
            "overflow": null,
            "overflow_x": null,
            "overflow_y": null,
            "padding": null,
            "right": null,
            "top": null,
            "visibility": null,
            "width": null
          }
        },
        "b9170bb8562b427897bf6e817bb4ec82": {
          "model_module": "@jupyter-widgets/controls",
          "model_name": "DescriptionStyleModel",
          "model_module_version": "1.5.0",
          "state": {
            "_model_module": "@jupyter-widgets/controls",
            "_model_module_version": "1.5.0",
            "_model_name": "DescriptionStyleModel",
            "_view_count": null,
            "_view_module": "@jupyter-widgets/base",
            "_view_module_version": "1.2.0",
            "_view_name": "StyleView",
            "description_width": ""
          }
        },
        "18a4c77d55fd4050a37eb74740a7aa4e": {
          "model_module": "@jupyter-widgets/controls",
          "model_name": "HBoxModel",
          "model_module_version": "1.5.0",
          "state": {
            "_dom_classes": [],
            "_model_module": "@jupyter-widgets/controls",
            "_model_module_version": "1.5.0",
            "_model_name": "HBoxModel",
            "_view_count": null,
            "_view_module": "@jupyter-widgets/controls",
            "_view_module_version": "1.5.0",
            "_view_name": "HBoxView",
            "box_style": "",
            "children": [
              "IPY_MODEL_1ab643b6f71c4925bc8eb317181e57ea",
              "IPY_MODEL_8bc276cbac4d4f1992ecfde4917e6364",
              "IPY_MODEL_82df2068163b4e5782abe60c6cba0d25"
            ],
            "layout": "IPY_MODEL_a0ce281b8d8e444cb39db99b22f5d383"
          }
        },
        "1ab643b6f71c4925bc8eb317181e57ea": {
          "model_module": "@jupyter-widgets/controls",
          "model_name": "HTMLModel",
          "model_module_version": "1.5.0",
          "state": {
            "_dom_classes": [],
            "_model_module": "@jupyter-widgets/controls",
            "_model_module_version": "1.5.0",
            "_model_name": "HTMLModel",
            "_view_count": null,
            "_view_module": "@jupyter-widgets/controls",
            "_view_module_version": "1.5.0",
            "_view_name": "HTMLView",
            "description": "",
            "description_tooltip": null,
            "layout": "IPY_MODEL_7e9d2cff59624c9bb75c45c8d6cdc7dd",
            "placeholder": "​",
            "style": "IPY_MODEL_414d7b0ea3524c5c938585e8d50cb17d",
            "value": "config.json: 100%"
          }
        },
        "8bc276cbac4d4f1992ecfde4917e6364": {
          "model_module": "@jupyter-widgets/controls",
          "model_name": "FloatProgressModel",
          "model_module_version": "1.5.0",
          "state": {
            "_dom_classes": [],
            "_model_module": "@jupyter-widgets/controls",
            "_model_module_version": "1.5.0",
            "_model_name": "FloatProgressModel",
            "_view_count": null,
            "_view_module": "@jupyter-widgets/controls",
            "_view_module_version": "1.5.0",
            "_view_name": "ProgressView",
            "bar_style": "success",
            "description": "",
            "description_tooltip": null,
            "layout": "IPY_MODEL_cec31e956da64e919c1c06dce0eca413",
            "max": 690,
            "min": 0,
            "orientation": "horizontal",
            "style": "IPY_MODEL_5ffb5ccf455147eeafacb471cdeaebcd",
            "value": 690
          }
        },
        "82df2068163b4e5782abe60c6cba0d25": {
          "model_module": "@jupyter-widgets/controls",
          "model_name": "HTMLModel",
          "model_module_version": "1.5.0",
          "state": {
            "_dom_classes": [],
            "_model_module": "@jupyter-widgets/controls",
            "_model_module_version": "1.5.0",
            "_model_name": "HTMLModel",
            "_view_count": null,
            "_view_module": "@jupyter-widgets/controls",
            "_view_module_version": "1.5.0",
            "_view_name": "HTMLView",
            "description": "",
            "description_tooltip": null,
            "layout": "IPY_MODEL_4a73ae07e67e499991ed7edb1ff68513",
            "placeholder": "​",
            "style": "IPY_MODEL_8faa7a05d80041ff9615226fb85b6801",
            "value": " 690/690 [00:00&lt;00:00, 18.2kB/s]"
          }
        },
        "a0ce281b8d8e444cb39db99b22f5d383": {
          "model_module": "@jupyter-widgets/base",
          "model_name": "LayoutModel",
          "model_module_version": "1.2.0",
          "state": {
            "_model_module": "@jupyter-widgets/base",
            "_model_module_version": "1.2.0",
            "_model_name": "LayoutModel",
            "_view_count": null,
            "_view_module": "@jupyter-widgets/base",
            "_view_module_version": "1.2.0",
            "_view_name": "LayoutView",
            "align_content": null,
            "align_items": null,
            "align_self": null,
            "border": null,
            "bottom": null,
            "display": null,
            "flex": null,
            "flex_flow": null,
            "grid_area": null,
            "grid_auto_columns": null,
            "grid_auto_flow": null,
            "grid_auto_rows": null,
            "grid_column": null,
            "grid_gap": null,
            "grid_row": null,
            "grid_template_areas": null,
            "grid_template_columns": null,
            "grid_template_rows": null,
            "height": null,
            "justify_content": null,
            "justify_items": null,
            "left": null,
            "margin": null,
            "max_height": null,
            "max_width": null,
            "min_height": null,
            "min_width": null,
            "object_fit": null,
            "object_position": null,
            "order": null,
            "overflow": null,
            "overflow_x": null,
            "overflow_y": null,
            "padding": null,
            "right": null,
            "top": null,
            "visibility": null,
            "width": null
          }
        },
        "7e9d2cff59624c9bb75c45c8d6cdc7dd": {
          "model_module": "@jupyter-widgets/base",
          "model_name": "LayoutModel",
          "model_module_version": "1.2.0",
          "state": {
            "_model_module": "@jupyter-widgets/base",
            "_model_module_version": "1.2.0",
            "_model_name": "LayoutModel",
            "_view_count": null,
            "_view_module": "@jupyter-widgets/base",
            "_view_module_version": "1.2.0",
            "_view_name": "LayoutView",
            "align_content": null,
            "align_items": null,
            "align_self": null,
            "border": null,
            "bottom": null,
            "display": null,
            "flex": null,
            "flex_flow": null,
            "grid_area": null,
            "grid_auto_columns": null,
            "grid_auto_flow": null,
            "grid_auto_rows": null,
            "grid_column": null,
            "grid_gap": null,
            "grid_row": null,
            "grid_template_areas": null,
            "grid_template_columns": null,
            "grid_template_rows": null,
            "height": null,
            "justify_content": null,
            "justify_items": null,
            "left": null,
            "margin": null,
            "max_height": null,
            "max_width": null,
            "min_height": null,
            "min_width": null,
            "object_fit": null,
            "object_position": null,
            "order": null,
            "overflow": null,
            "overflow_x": null,
            "overflow_y": null,
            "padding": null,
            "right": null,
            "top": null,
            "visibility": null,
            "width": null
          }
        },
        "414d7b0ea3524c5c938585e8d50cb17d": {
          "model_module": "@jupyter-widgets/controls",
          "model_name": "DescriptionStyleModel",
          "model_module_version": "1.5.0",
          "state": {
            "_model_module": "@jupyter-widgets/controls",
            "_model_module_version": "1.5.0",
            "_model_name": "DescriptionStyleModel",
            "_view_count": null,
            "_view_module": "@jupyter-widgets/base",
            "_view_module_version": "1.2.0",
            "_view_name": "StyleView",
            "description_width": ""
          }
        },
        "cec31e956da64e919c1c06dce0eca413": {
          "model_module": "@jupyter-widgets/base",
          "model_name": "LayoutModel",
          "model_module_version": "1.2.0",
          "state": {
            "_model_module": "@jupyter-widgets/base",
            "_model_module_version": "1.2.0",
            "_model_name": "LayoutModel",
            "_view_count": null,
            "_view_module": "@jupyter-widgets/base",
            "_view_module_version": "1.2.0",
            "_view_name": "LayoutView",
            "align_content": null,
            "align_items": null,
            "align_self": null,
            "border": null,
            "bottom": null,
            "display": null,
            "flex": null,
            "flex_flow": null,
            "grid_area": null,
            "grid_auto_columns": null,
            "grid_auto_flow": null,
            "grid_auto_rows": null,
            "grid_column": null,
            "grid_gap": null,
            "grid_row": null,
            "grid_template_areas": null,
            "grid_template_columns": null,
            "grid_template_rows": null,
            "height": null,
            "justify_content": null,
            "justify_items": null,
            "left": null,
            "margin": null,
            "max_height": null,
            "max_width": null,
            "min_height": null,
            "min_width": null,
            "object_fit": null,
            "object_position": null,
            "order": null,
            "overflow": null,
            "overflow_x": null,
            "overflow_y": null,
            "padding": null,
            "right": null,
            "top": null,
            "visibility": null,
            "width": null
          }
        },
        "5ffb5ccf455147eeafacb471cdeaebcd": {
          "model_module": "@jupyter-widgets/controls",
          "model_name": "ProgressStyleModel",
          "model_module_version": "1.5.0",
          "state": {
            "_model_module": "@jupyter-widgets/controls",
            "_model_module_version": "1.5.0",
            "_model_name": "ProgressStyleModel",
            "_view_count": null,
            "_view_module": "@jupyter-widgets/base",
            "_view_module_version": "1.2.0",
            "_view_name": "StyleView",
            "bar_color": null,
            "description_width": ""
          }
        },
        "4a73ae07e67e499991ed7edb1ff68513": {
          "model_module": "@jupyter-widgets/base",
          "model_name": "LayoutModel",
          "model_module_version": "1.2.0",
          "state": {
            "_model_module": "@jupyter-widgets/base",
            "_model_module_version": "1.2.0",
            "_model_name": "LayoutModel",
            "_view_count": null,
            "_view_module": "@jupyter-widgets/base",
            "_view_module_version": "1.2.0",
            "_view_name": "LayoutView",
            "align_content": null,
            "align_items": null,
            "align_self": null,
            "border": null,
            "bottom": null,
            "display": null,
            "flex": null,
            "flex_flow": null,
            "grid_area": null,
            "grid_auto_columns": null,
            "grid_auto_flow": null,
            "grid_auto_rows": null,
            "grid_column": null,
            "grid_gap": null,
            "grid_row": null,
            "grid_template_areas": null,
            "grid_template_columns": null,
            "grid_template_rows": null,
            "height": null,
            "justify_content": null,
            "justify_items": null,
            "left": null,
            "margin": null,
            "max_height": null,
            "max_width": null,
            "min_height": null,
            "min_width": null,
            "object_fit": null,
            "object_position": null,
            "order": null,
            "overflow": null,
            "overflow_x": null,
            "overflow_y": null,
            "padding": null,
            "right": null,
            "top": null,
            "visibility": null,
            "width": null
          }
        },
        "8faa7a05d80041ff9615226fb85b6801": {
          "model_module": "@jupyter-widgets/controls",
          "model_name": "DescriptionStyleModel",
          "model_module_version": "1.5.0",
          "state": {
            "_model_module": "@jupyter-widgets/controls",
            "_model_module_version": "1.5.0",
            "_model_name": "DescriptionStyleModel",
            "_view_count": null,
            "_view_module": "@jupyter-widgets/base",
            "_view_module_version": "1.2.0",
            "_view_name": "StyleView",
            "description_width": ""
          }
        },
        "668eec6dc33f4289965e6f1ec2b15bf2": {
          "model_module": "@jupyter-widgets/controls",
          "model_name": "HBoxModel",
          "model_module_version": "1.5.0",
          "state": {
            "_dom_classes": [],
            "_model_module": "@jupyter-widgets/controls",
            "_model_module_version": "1.5.0",
            "_model_name": "HBoxModel",
            "_view_count": null,
            "_view_module": "@jupyter-widgets/controls",
            "_view_module_version": "1.5.0",
            "_view_name": "HBoxView",
            "box_style": "",
            "children": [
              "IPY_MODEL_0daf9be2f2214960941cbc044fa7b1c4",
              "IPY_MODEL_0177cbaf1ed44c758a502ff7a1d2e778",
              "IPY_MODEL_b96c3a3a43cd4a8389923fff30fa81a6"
            ],
            "layout": "IPY_MODEL_fdded335b433485f97d73cc2fb1637a6"
          }
        },
        "0daf9be2f2214960941cbc044fa7b1c4": {
          "model_module": "@jupyter-widgets/controls",
          "model_name": "HTMLModel",
          "model_module_version": "1.5.0",
          "state": {
            "_dom_classes": [],
            "_model_module": "@jupyter-widgets/controls",
            "_model_module_version": "1.5.0",
            "_model_name": "HTMLModel",
            "_view_count": null,
            "_view_module": "@jupyter-widgets/controls",
            "_view_module_version": "1.5.0",
            "_view_name": "HTMLView",
            "description": "",
            "description_tooltip": null,
            "layout": "IPY_MODEL_8281fbbd6c804aa88314dc2630631438",
            "placeholder": "​",
            "style": "IPY_MODEL_d2aff28f2c014f50b2858f9b04dc5dc6",
            "value": "model.safetensors: 100%"
          }
        },
        "0177cbaf1ed44c758a502ff7a1d2e778": {
          "model_module": "@jupyter-widgets/controls",
          "model_name": "FloatProgressModel",
          "model_module_version": "1.5.0",
          "state": {
            "_dom_classes": [],
            "_model_module": "@jupyter-widgets/controls",
            "_model_module_version": "1.5.0",
            "_model_name": "FloatProgressModel",
            "_view_count": null,
            "_view_module": "@jupyter-widgets/controls",
            "_view_module_version": "1.5.0",
            "_view_name": "ProgressView",
            "bar_style": "success",
            "description": "",
            "description_tooltip": null,
            "layout": "IPY_MODEL_294af8160a70427fac57e0d830a1d6d5",
            "max": 2239611368,
            "min": 0,
            "orientation": "horizontal",
            "style": "IPY_MODEL_35f34a483a924939a8a22c22d461eb57",
            "value": 2239611368
          }
        },
        "b96c3a3a43cd4a8389923fff30fa81a6": {
          "model_module": "@jupyter-widgets/controls",
          "model_name": "HTMLModel",
          "model_module_version": "1.5.0",
          "state": {
            "_dom_classes": [],
            "_model_module": "@jupyter-widgets/controls",
            "_model_module_version": "1.5.0",
            "_model_name": "HTMLModel",
            "_view_count": null,
            "_view_module": "@jupyter-widgets/controls",
            "_view_module_version": "1.5.0",
            "_view_name": "HTMLView",
            "description": "",
            "description_tooltip": null,
            "layout": "IPY_MODEL_5399940792bd4ed0ac19cb5ba8f6d46c",
            "placeholder": "​",
            "style": "IPY_MODEL_9a7e15258c564d8a853aa63919242116",
            "value": " 2.24G/2.24G [00:16&lt;00:00, 231MB/s]"
          }
        },
        "fdded335b433485f97d73cc2fb1637a6": {
          "model_module": "@jupyter-widgets/base",
          "model_name": "LayoutModel",
          "model_module_version": "1.2.0",
          "state": {
            "_model_module": "@jupyter-widgets/base",
            "_model_module_version": "1.2.0",
            "_model_name": "LayoutModel",
            "_view_count": null,
            "_view_module": "@jupyter-widgets/base",
            "_view_module_version": "1.2.0",
            "_view_name": "LayoutView",
            "align_content": null,
            "align_items": null,
            "align_self": null,
            "border": null,
            "bottom": null,
            "display": null,
            "flex": null,
            "flex_flow": null,
            "grid_area": null,
            "grid_auto_columns": null,
            "grid_auto_flow": null,
            "grid_auto_rows": null,
            "grid_column": null,
            "grid_gap": null,
            "grid_row": null,
            "grid_template_areas": null,
            "grid_template_columns": null,
            "grid_template_rows": null,
            "height": null,
            "justify_content": null,
            "justify_items": null,
            "left": null,
            "margin": null,
            "max_height": null,
            "max_width": null,
            "min_height": null,
            "min_width": null,
            "object_fit": null,
            "object_position": null,
            "order": null,
            "overflow": null,
            "overflow_x": null,
            "overflow_y": null,
            "padding": null,
            "right": null,
            "top": null,
            "visibility": null,
            "width": null
          }
        },
        "8281fbbd6c804aa88314dc2630631438": {
          "model_module": "@jupyter-widgets/base",
          "model_name": "LayoutModel",
          "model_module_version": "1.2.0",
          "state": {
            "_model_module": "@jupyter-widgets/base",
            "_model_module_version": "1.2.0",
            "_model_name": "LayoutModel",
            "_view_count": null,
            "_view_module": "@jupyter-widgets/base",
            "_view_module_version": "1.2.0",
            "_view_name": "LayoutView",
            "align_content": null,
            "align_items": null,
            "align_self": null,
            "border": null,
            "bottom": null,
            "display": null,
            "flex": null,
            "flex_flow": null,
            "grid_area": null,
            "grid_auto_columns": null,
            "grid_auto_flow": null,
            "grid_auto_rows": null,
            "grid_column": null,
            "grid_gap": null,
            "grid_row": null,
            "grid_template_areas": null,
            "grid_template_columns": null,
            "grid_template_rows": null,
            "height": null,
            "justify_content": null,
            "justify_items": null,
            "left": null,
            "margin": null,
            "max_height": null,
            "max_width": null,
            "min_height": null,
            "min_width": null,
            "object_fit": null,
            "object_position": null,
            "order": null,
            "overflow": null,
            "overflow_x": null,
            "overflow_y": null,
            "padding": null,
            "right": null,
            "top": null,
            "visibility": null,
            "width": null
          }
        },
        "d2aff28f2c014f50b2858f9b04dc5dc6": {
          "model_module": "@jupyter-widgets/controls",
          "model_name": "DescriptionStyleModel",
          "model_module_version": "1.5.0",
          "state": {
            "_model_module": "@jupyter-widgets/controls",
            "_model_module_version": "1.5.0",
            "_model_name": "DescriptionStyleModel",
            "_view_count": null,
            "_view_module": "@jupyter-widgets/base",
            "_view_module_version": "1.2.0",
            "_view_name": "StyleView",
            "description_width": ""
          }
        },
        "294af8160a70427fac57e0d830a1d6d5": {
          "model_module": "@jupyter-widgets/base",
          "model_name": "LayoutModel",
          "model_module_version": "1.2.0",
          "state": {
            "_model_module": "@jupyter-widgets/base",
            "_model_module_version": "1.2.0",
            "_model_name": "LayoutModel",
            "_view_count": null,
            "_view_module": "@jupyter-widgets/base",
            "_view_module_version": "1.2.0",
            "_view_name": "LayoutView",
            "align_content": null,
            "align_items": null,
            "align_self": null,
            "border": null,
            "bottom": null,
            "display": null,
            "flex": null,
            "flex_flow": null,
            "grid_area": null,
            "grid_auto_columns": null,
            "grid_auto_flow": null,
            "grid_auto_rows": null,
            "grid_column": null,
            "grid_gap": null,
            "grid_row": null,
            "grid_template_areas": null,
            "grid_template_columns": null,
            "grid_template_rows": null,
            "height": null,
            "justify_content": null,
            "justify_items": null,
            "left": null,
            "margin": null,
            "max_height": null,
            "max_width": null,
            "min_height": null,
            "min_width": null,
            "object_fit": null,
            "object_position": null,
            "order": null,
            "overflow": null,
            "overflow_x": null,
            "overflow_y": null,
            "padding": null,
            "right": null,
            "top": null,
            "visibility": null,
            "width": null
          }
        },
        "35f34a483a924939a8a22c22d461eb57": {
          "model_module": "@jupyter-widgets/controls",
          "model_name": "ProgressStyleModel",
          "model_module_version": "1.5.0",
          "state": {
            "_model_module": "@jupyter-widgets/controls",
            "_model_module_version": "1.5.0",
            "_model_name": "ProgressStyleModel",
            "_view_count": null,
            "_view_module": "@jupyter-widgets/base",
            "_view_module_version": "1.2.0",
            "_view_name": "StyleView",
            "bar_color": null,
            "description_width": ""
          }
        },
        "5399940792bd4ed0ac19cb5ba8f6d46c": {
          "model_module": "@jupyter-widgets/base",
          "model_name": "LayoutModel",
          "model_module_version": "1.2.0",
          "state": {
            "_model_module": "@jupyter-widgets/base",
            "_model_module_version": "1.2.0",
            "_model_name": "LayoutModel",
            "_view_count": null,
            "_view_module": "@jupyter-widgets/base",
            "_view_module_version": "1.2.0",
            "_view_name": "LayoutView",
            "align_content": null,
            "align_items": null,
            "align_self": null,
            "border": null,
            "bottom": null,
            "display": null,
            "flex": null,
            "flex_flow": null,
            "grid_area": null,
            "grid_auto_columns": null,
            "grid_auto_flow": null,
            "grid_auto_rows": null,
            "grid_column": null,
            "grid_gap": null,
            "grid_row": null,
            "grid_template_areas": null,
            "grid_template_columns": null,
            "grid_template_rows": null,
            "height": null,
            "justify_content": null,
            "justify_items": null,
            "left": null,
            "margin": null,
            "max_height": null,
            "max_width": null,
            "min_height": null,
            "min_width": null,
            "object_fit": null,
            "object_position": null,
            "order": null,
            "overflow": null,
            "overflow_x": null,
            "overflow_y": null,
            "padding": null,
            "right": null,
            "top": null,
            "visibility": null,
            "width": null
          }
        },
        "9a7e15258c564d8a853aa63919242116": {
          "model_module": "@jupyter-widgets/controls",
          "model_name": "DescriptionStyleModel",
          "model_module_version": "1.5.0",
          "state": {
            "_model_module": "@jupyter-widgets/controls",
            "_model_module_version": "1.5.0",
            "_model_name": "DescriptionStyleModel",
            "_view_count": null,
            "_view_module": "@jupyter-widgets/base",
            "_view_module_version": "1.2.0",
            "_view_name": "StyleView",
            "description_width": ""
          }
        },
        "995858d2da184610b677dc43839ecebb": {
          "model_module": "@jupyter-widgets/controls",
          "model_name": "HBoxModel",
          "model_module_version": "1.5.0",
          "state": {
            "_dom_classes": [],
            "_model_module": "@jupyter-widgets/controls",
            "_model_module_version": "1.5.0",
            "_model_name": "HBoxModel",
            "_view_count": null,
            "_view_module": "@jupyter-widgets/controls",
            "_view_module_version": "1.5.0",
            "_view_name": "HBoxView",
            "box_style": "",
            "children": [
              "IPY_MODEL_21738943028a412e9b8a3376775e0bb7",
              "IPY_MODEL_191510ddb84a498e92ea57406643d2c1",
              "IPY_MODEL_20c0040d58d94b9785edff4dc22499b3"
            ],
            "layout": "IPY_MODEL_e0dbf2ff3e574f868587a966c7c97bad"
          }
        },
        "21738943028a412e9b8a3376775e0bb7": {
          "model_module": "@jupyter-widgets/controls",
          "model_name": "HTMLModel",
          "model_module_version": "1.5.0",
          "state": {
            "_dom_classes": [],
            "_model_module": "@jupyter-widgets/controls",
            "_model_module_version": "1.5.0",
            "_model_name": "HTMLModel",
            "_view_count": null,
            "_view_module": "@jupyter-widgets/controls",
            "_view_module_version": "1.5.0",
            "_view_name": "HTMLView",
            "description": "",
            "description_tooltip": null,
            "layout": "IPY_MODEL_034ab40fc67c43cf935e45b7705582ed",
            "placeholder": "​",
            "style": "IPY_MODEL_e27ef092174c4ba987085fc834854fc4",
            "value": "tokenizer_config.json: 100%"
          }
        },
        "191510ddb84a498e92ea57406643d2c1": {
          "model_module": "@jupyter-widgets/controls",
          "model_name": "FloatProgressModel",
          "model_module_version": "1.5.0",
          "state": {
            "_dom_classes": [],
            "_model_module": "@jupyter-widgets/controls",
            "_model_module_version": "1.5.0",
            "_model_name": "FloatProgressModel",
            "_view_count": null,
            "_view_module": "@jupyter-widgets/controls",
            "_view_module_version": "1.5.0",
            "_view_name": "ProgressView",
            "bar_style": "success",
            "description": "",
            "description_tooltip": null,
            "layout": "IPY_MODEL_f2272793440d45459656c055328b4377",
            "max": 418,
            "min": 0,
            "orientation": "horizontal",
            "style": "IPY_MODEL_ee355a1178584772ac76a47fe1d34b8e",
            "value": 418
          }
        },
        "20c0040d58d94b9785edff4dc22499b3": {
          "model_module": "@jupyter-widgets/controls",
          "model_name": "HTMLModel",
          "model_module_version": "1.5.0",
          "state": {
            "_dom_classes": [],
            "_model_module": "@jupyter-widgets/controls",
            "_model_module_version": "1.5.0",
            "_model_name": "HTMLModel",
            "_view_count": null,
            "_view_module": "@jupyter-widgets/controls",
            "_view_module_version": "1.5.0",
            "_view_name": "HTMLView",
            "description": "",
            "description_tooltip": null,
            "layout": "IPY_MODEL_6c8c2b79bb4d4834a4b6ba15a2d9bc0b",
            "placeholder": "​",
            "style": "IPY_MODEL_5a8b7fc9e9fd4f22b8c2ef5efff7d6cc",
            "value": " 418/418 [00:00&lt;00:00, 16.4kB/s]"
          }
        },
        "e0dbf2ff3e574f868587a966c7c97bad": {
          "model_module": "@jupyter-widgets/base",
          "model_name": "LayoutModel",
          "model_module_version": "1.2.0",
          "state": {
            "_model_module": "@jupyter-widgets/base",
            "_model_module_version": "1.2.0",
            "_model_name": "LayoutModel",
            "_view_count": null,
            "_view_module": "@jupyter-widgets/base",
            "_view_module_version": "1.2.0",
            "_view_name": "LayoutView",
            "align_content": null,
            "align_items": null,
            "align_self": null,
            "border": null,
            "bottom": null,
            "display": null,
            "flex": null,
            "flex_flow": null,
            "grid_area": null,
            "grid_auto_columns": null,
            "grid_auto_flow": null,
            "grid_auto_rows": null,
            "grid_column": null,
            "grid_gap": null,
            "grid_row": null,
            "grid_template_areas": null,
            "grid_template_columns": null,
            "grid_template_rows": null,
            "height": null,
            "justify_content": null,
            "justify_items": null,
            "left": null,
            "margin": null,
            "max_height": null,
            "max_width": null,
            "min_height": null,
            "min_width": null,
            "object_fit": null,
            "object_position": null,
            "order": null,
            "overflow": null,
            "overflow_x": null,
            "overflow_y": null,
            "padding": null,
            "right": null,
            "top": null,
            "visibility": null,
            "width": null
          }
        },
        "034ab40fc67c43cf935e45b7705582ed": {
          "model_module": "@jupyter-widgets/base",
          "model_name": "LayoutModel",
          "model_module_version": "1.2.0",
          "state": {
            "_model_module": "@jupyter-widgets/base",
            "_model_module_version": "1.2.0",
            "_model_name": "LayoutModel",
            "_view_count": null,
            "_view_module": "@jupyter-widgets/base",
            "_view_module_version": "1.2.0",
            "_view_name": "LayoutView",
            "align_content": null,
            "align_items": null,
            "align_self": null,
            "border": null,
            "bottom": null,
            "display": null,
            "flex": null,
            "flex_flow": null,
            "grid_area": null,
            "grid_auto_columns": null,
            "grid_auto_flow": null,
            "grid_auto_rows": null,
            "grid_column": null,
            "grid_gap": null,
            "grid_row": null,
            "grid_template_areas": null,
            "grid_template_columns": null,
            "grid_template_rows": null,
            "height": null,
            "justify_content": null,
            "justify_items": null,
            "left": null,
            "margin": null,
            "max_height": null,
            "max_width": null,
            "min_height": null,
            "min_width": null,
            "object_fit": null,
            "object_position": null,
            "order": null,
            "overflow": null,
            "overflow_x": null,
            "overflow_y": null,
            "padding": null,
            "right": null,
            "top": null,
            "visibility": null,
            "width": null
          }
        },
        "e27ef092174c4ba987085fc834854fc4": {
          "model_module": "@jupyter-widgets/controls",
          "model_name": "DescriptionStyleModel",
          "model_module_version": "1.5.0",
          "state": {
            "_model_module": "@jupyter-widgets/controls",
            "_model_module_version": "1.5.0",
            "_model_name": "DescriptionStyleModel",
            "_view_count": null,
            "_view_module": "@jupyter-widgets/base",
            "_view_module_version": "1.2.0",
            "_view_name": "StyleView",
            "description_width": ""
          }
        },
        "f2272793440d45459656c055328b4377": {
          "model_module": "@jupyter-widgets/base",
          "model_name": "LayoutModel",
          "model_module_version": "1.2.0",
          "state": {
            "_model_module": "@jupyter-widgets/base",
            "_model_module_version": "1.2.0",
            "_model_name": "LayoutModel",
            "_view_count": null,
            "_view_module": "@jupyter-widgets/base",
            "_view_module_version": "1.2.0",
            "_view_name": "LayoutView",
            "align_content": null,
            "align_items": null,
            "align_self": null,
            "border": null,
            "bottom": null,
            "display": null,
            "flex": null,
            "flex_flow": null,
            "grid_area": null,
            "grid_auto_columns": null,
            "grid_auto_flow": null,
            "grid_auto_rows": null,
            "grid_column": null,
            "grid_gap": null,
            "grid_row": null,
            "grid_template_areas": null,
            "grid_template_columns": null,
            "grid_template_rows": null,
            "height": null,
            "justify_content": null,
            "justify_items": null,
            "left": null,
            "margin": null,
            "max_height": null,
            "max_width": null,
            "min_height": null,
            "min_width": null,
            "object_fit": null,
            "object_position": null,
            "order": null,
            "overflow": null,
            "overflow_x": null,
            "overflow_y": null,
            "padding": null,
            "right": null,
            "top": null,
            "visibility": null,
            "width": null
          }
        },
        "ee355a1178584772ac76a47fe1d34b8e": {
          "model_module": "@jupyter-widgets/controls",
          "model_name": "ProgressStyleModel",
          "model_module_version": "1.5.0",
          "state": {
            "_model_module": "@jupyter-widgets/controls",
            "_model_module_version": "1.5.0",
            "_model_name": "ProgressStyleModel",
            "_view_count": null,
            "_view_module": "@jupyter-widgets/base",
            "_view_module_version": "1.2.0",
            "_view_name": "StyleView",
            "bar_color": null,
            "description_width": ""
          }
        },
        "6c8c2b79bb4d4834a4b6ba15a2d9bc0b": {
          "model_module": "@jupyter-widgets/base",
          "model_name": "LayoutModel",
          "model_module_version": "1.2.0",
          "state": {
            "_model_module": "@jupyter-widgets/base",
            "_model_module_version": "1.2.0",
            "_model_name": "LayoutModel",
            "_view_count": null,
            "_view_module": "@jupyter-widgets/base",
            "_view_module_version": "1.2.0",
            "_view_name": "LayoutView",
            "align_content": null,
            "align_items": null,
            "align_self": null,
            "border": null,
            "bottom": null,
            "display": null,
            "flex": null,
            "flex_flow": null,
            "grid_area": null,
            "grid_auto_columns": null,
            "grid_auto_flow": null,
            "grid_auto_rows": null,
            "grid_column": null,
            "grid_gap": null,
            "grid_row": null,
            "grid_template_areas": null,
            "grid_template_columns": null,
            "grid_template_rows": null,
            "height": null,
            "justify_content": null,
            "justify_items": null,
            "left": null,
            "margin": null,
            "max_height": null,
            "max_width": null,
            "min_height": null,
            "min_width": null,
            "object_fit": null,
            "object_position": null,
            "order": null,
            "overflow": null,
            "overflow_x": null,
            "overflow_y": null,
            "padding": null,
            "right": null,
            "top": null,
            "visibility": null,
            "width": null
          }
        },
        "5a8b7fc9e9fd4f22b8c2ef5efff7d6cc": {
          "model_module": "@jupyter-widgets/controls",
          "model_name": "DescriptionStyleModel",
          "model_module_version": "1.5.0",
          "state": {
            "_model_module": "@jupyter-widgets/controls",
            "_model_module_version": "1.5.0",
            "_model_name": "DescriptionStyleModel",
            "_view_count": null,
            "_view_module": "@jupyter-widgets/base",
            "_view_module_version": "1.2.0",
            "_view_name": "StyleView",
            "description_width": ""
          }
        },
        "7b74d9722e384869a66d251e7f426904": {
          "model_module": "@jupyter-widgets/controls",
          "model_name": "HBoxModel",
          "model_module_version": "1.5.0",
          "state": {
            "_dom_classes": [],
            "_model_module": "@jupyter-widgets/controls",
            "_model_module_version": "1.5.0",
            "_model_name": "HBoxModel",
            "_view_count": null,
            "_view_module": "@jupyter-widgets/controls",
            "_view_module_version": "1.5.0",
            "_view_name": "HBoxView",
            "box_style": "",
            "children": [
              "IPY_MODEL_593c43a42b9e46acbbd10c9a585c20f4",
              "IPY_MODEL_d5ca328987d5416fa90fad37a81bf9d3",
              "IPY_MODEL_81b93c73a1c449f4b38af9f22adf068c"
            ],
            "layout": "IPY_MODEL_32498ac64f094deab0df431f663a4322"
          }
        },
        "593c43a42b9e46acbbd10c9a585c20f4": {
          "model_module": "@jupyter-widgets/controls",
          "model_name": "HTMLModel",
          "model_module_version": "1.5.0",
          "state": {
            "_dom_classes": [],
            "_model_module": "@jupyter-widgets/controls",
            "_model_module_version": "1.5.0",
            "_model_name": "HTMLModel",
            "_view_count": null,
            "_view_module": "@jupyter-widgets/controls",
            "_view_module_version": "1.5.0",
            "_view_name": "HTMLView",
            "description": "",
            "description_tooltip": null,
            "layout": "IPY_MODEL_7944bb756fc24a1fba2472a2e8fadc30",
            "placeholder": "​",
            "style": "IPY_MODEL_da910c691f93483faab17bb936fb199b",
            "value": "sentencepiece.bpe.model: 100%"
          }
        },
        "d5ca328987d5416fa90fad37a81bf9d3": {
          "model_module": "@jupyter-widgets/controls",
          "model_name": "FloatProgressModel",
          "model_module_version": "1.5.0",
          "state": {
            "_dom_classes": [],
            "_model_module": "@jupyter-widgets/controls",
            "_model_module_version": "1.5.0",
            "_model_name": "FloatProgressModel",
            "_view_count": null,
            "_view_module": "@jupyter-widgets/controls",
            "_view_module_version": "1.5.0",
            "_view_name": "ProgressView",
            "bar_style": "success",
            "description": "",
            "description_tooltip": null,
            "layout": "IPY_MODEL_05ceaff241724b2dacb212ebe89d4338",
            "max": 5069051,
            "min": 0,
            "orientation": "horizontal",
            "style": "IPY_MODEL_f1e46562202d47b1a579228f963edc82",
            "value": 5069051
          }
        },
        "81b93c73a1c449f4b38af9f22adf068c": {
          "model_module": "@jupyter-widgets/controls",
          "model_name": "HTMLModel",
          "model_module_version": "1.5.0",
          "state": {
            "_dom_classes": [],
            "_model_module": "@jupyter-widgets/controls",
            "_model_module_version": "1.5.0",
            "_model_name": "HTMLModel",
            "_view_count": null,
            "_view_module": "@jupyter-widgets/controls",
            "_view_module_version": "1.5.0",
            "_view_name": "HTMLView",
            "description": "",
            "description_tooltip": null,
            "layout": "IPY_MODEL_593019c90e0b4814bc30be72d050ed94",
            "placeholder": "​",
            "style": "IPY_MODEL_d21c4f963f2a446c89055bcd0e15f0f6",
            "value": " 5.07M/5.07M [00:00&lt;00:00, 64.3MB/s]"
          }
        },
        "32498ac64f094deab0df431f663a4322": {
          "model_module": "@jupyter-widgets/base",
          "model_name": "LayoutModel",
          "model_module_version": "1.2.0",
          "state": {
            "_model_module": "@jupyter-widgets/base",
            "_model_module_version": "1.2.0",
            "_model_name": "LayoutModel",
            "_view_count": null,
            "_view_module": "@jupyter-widgets/base",
            "_view_module_version": "1.2.0",
            "_view_name": "LayoutView",
            "align_content": null,
            "align_items": null,
            "align_self": null,
            "border": null,
            "bottom": null,
            "display": null,
            "flex": null,
            "flex_flow": null,
            "grid_area": null,
            "grid_auto_columns": null,
            "grid_auto_flow": null,
            "grid_auto_rows": null,
            "grid_column": null,
            "grid_gap": null,
            "grid_row": null,
            "grid_template_areas": null,
            "grid_template_columns": null,
            "grid_template_rows": null,
            "height": null,
            "justify_content": null,
            "justify_items": null,
            "left": null,
            "margin": null,
            "max_height": null,
            "max_width": null,
            "min_height": null,
            "min_width": null,
            "object_fit": null,
            "object_position": null,
            "order": null,
            "overflow": null,
            "overflow_x": null,
            "overflow_y": null,
            "padding": null,
            "right": null,
            "top": null,
            "visibility": null,
            "width": null
          }
        },
        "7944bb756fc24a1fba2472a2e8fadc30": {
          "model_module": "@jupyter-widgets/base",
          "model_name": "LayoutModel",
          "model_module_version": "1.2.0",
          "state": {
            "_model_module": "@jupyter-widgets/base",
            "_model_module_version": "1.2.0",
            "_model_name": "LayoutModel",
            "_view_count": null,
            "_view_module": "@jupyter-widgets/base",
            "_view_module_version": "1.2.0",
            "_view_name": "LayoutView",
            "align_content": null,
            "align_items": null,
            "align_self": null,
            "border": null,
            "bottom": null,
            "display": null,
            "flex": null,
            "flex_flow": null,
            "grid_area": null,
            "grid_auto_columns": null,
            "grid_auto_flow": null,
            "grid_auto_rows": null,
            "grid_column": null,
            "grid_gap": null,
            "grid_row": null,
            "grid_template_areas": null,
            "grid_template_columns": null,
            "grid_template_rows": null,
            "height": null,
            "justify_content": null,
            "justify_items": null,
            "left": null,
            "margin": null,
            "max_height": null,
            "max_width": null,
            "min_height": null,
            "min_width": null,
            "object_fit": null,
            "object_position": null,
            "order": null,
            "overflow": null,
            "overflow_x": null,
            "overflow_y": null,
            "padding": null,
            "right": null,
            "top": null,
            "visibility": null,
            "width": null
          }
        },
        "da910c691f93483faab17bb936fb199b": {
          "model_module": "@jupyter-widgets/controls",
          "model_name": "DescriptionStyleModel",
          "model_module_version": "1.5.0",
          "state": {
            "_model_module": "@jupyter-widgets/controls",
            "_model_module_version": "1.5.0",
            "_model_name": "DescriptionStyleModel",
            "_view_count": null,
            "_view_module": "@jupyter-widgets/base",
            "_view_module_version": "1.2.0",
            "_view_name": "StyleView",
            "description_width": ""
          }
        },
        "05ceaff241724b2dacb212ebe89d4338": {
          "model_module": "@jupyter-widgets/base",
          "model_name": "LayoutModel",
          "model_module_version": "1.2.0",
          "state": {
            "_model_module": "@jupyter-widgets/base",
            "_model_module_version": "1.2.0",
            "_model_name": "LayoutModel",
            "_view_count": null,
            "_view_module": "@jupyter-widgets/base",
            "_view_module_version": "1.2.0",
            "_view_name": "LayoutView",
            "align_content": null,
            "align_items": null,
            "align_self": null,
            "border": null,
            "bottom": null,
            "display": null,
            "flex": null,
            "flex_flow": null,
            "grid_area": null,
            "grid_auto_columns": null,
            "grid_auto_flow": null,
            "grid_auto_rows": null,
            "grid_column": null,
            "grid_gap": null,
            "grid_row": null,
            "grid_template_areas": null,
            "grid_template_columns": null,
            "grid_template_rows": null,
            "height": null,
            "justify_content": null,
            "justify_items": null,
            "left": null,
            "margin": null,
            "max_height": null,
            "max_width": null,
            "min_height": null,
            "min_width": null,
            "object_fit": null,
            "object_position": null,
            "order": null,
            "overflow": null,
            "overflow_x": null,
            "overflow_y": null,
            "padding": null,
            "right": null,
            "top": null,
            "visibility": null,
            "width": null
          }
        },
        "f1e46562202d47b1a579228f963edc82": {
          "model_module": "@jupyter-widgets/controls",
          "model_name": "ProgressStyleModel",
          "model_module_version": "1.5.0",
          "state": {
            "_model_module": "@jupyter-widgets/controls",
            "_model_module_version": "1.5.0",
            "_model_name": "ProgressStyleModel",
            "_view_count": null,
            "_view_module": "@jupyter-widgets/base",
            "_view_module_version": "1.2.0",
            "_view_name": "StyleView",
            "bar_color": null,
            "description_width": ""
          }
        },
        "593019c90e0b4814bc30be72d050ed94": {
          "model_module": "@jupyter-widgets/base",
          "model_name": "LayoutModel",
          "model_module_version": "1.2.0",
          "state": {
            "_model_module": "@jupyter-widgets/base",
            "_model_module_version": "1.2.0",
            "_model_name": "LayoutModel",
            "_view_count": null,
            "_view_module": "@jupyter-widgets/base",
            "_view_module_version": "1.2.0",
            "_view_name": "LayoutView",
            "align_content": null,
            "align_items": null,
            "align_self": null,
            "border": null,
            "bottom": null,
            "display": null,
            "flex": null,
            "flex_flow": null,
            "grid_area": null,
            "grid_auto_columns": null,
            "grid_auto_flow": null,
            "grid_auto_rows": null,
            "grid_column": null,
            "grid_gap": null,
            "grid_row": null,
            "grid_template_areas": null,
            "grid_template_columns": null,
            "grid_template_rows": null,
            "height": null,
            "justify_content": null,
            "justify_items": null,
            "left": null,
            "margin": null,
            "max_height": null,
            "max_width": null,
            "min_height": null,
            "min_width": null,
            "object_fit": null,
            "object_position": null,
            "order": null,
            "overflow": null,
            "overflow_x": null,
            "overflow_y": null,
            "padding": null,
            "right": null,
            "top": null,
            "visibility": null,
            "width": null
          }
        },
        "d21c4f963f2a446c89055bcd0e15f0f6": {
          "model_module": "@jupyter-widgets/controls",
          "model_name": "DescriptionStyleModel",
          "model_module_version": "1.5.0",
          "state": {
            "_model_module": "@jupyter-widgets/controls",
            "_model_module_version": "1.5.0",
            "_model_name": "DescriptionStyleModel",
            "_view_count": null,
            "_view_module": "@jupyter-widgets/base",
            "_view_module_version": "1.2.0",
            "_view_name": "StyleView",
            "description_width": ""
          }
        },
        "71f4ae2b8d12421888da9f4da02deee8": {
          "model_module": "@jupyter-widgets/controls",
          "model_name": "HBoxModel",
          "model_module_version": "1.5.0",
          "state": {
            "_dom_classes": [],
            "_model_module": "@jupyter-widgets/controls",
            "_model_module_version": "1.5.0",
            "_model_name": "HBoxModel",
            "_view_count": null,
            "_view_module": "@jupyter-widgets/controls",
            "_view_module_version": "1.5.0",
            "_view_name": "HBoxView",
            "box_style": "",
            "children": [
              "IPY_MODEL_7e5239294a914605bca3a360ba2e704d",
              "IPY_MODEL_96c66553b2d742e29100500e31a5be61",
              "IPY_MODEL_4b501166b1894fb294f8250643833a61"
            ],
            "layout": "IPY_MODEL_81c35921a1294bf687d4c2e69fe69214"
          }
        },
        "7e5239294a914605bca3a360ba2e704d": {
          "model_module": "@jupyter-widgets/controls",
          "model_name": "HTMLModel",
          "model_module_version": "1.5.0",
          "state": {
            "_dom_classes": [],
            "_model_module": "@jupyter-widgets/controls",
            "_model_module_version": "1.5.0",
            "_model_name": "HTMLModel",
            "_view_count": null,
            "_view_module": "@jupyter-widgets/controls",
            "_view_module_version": "1.5.0",
            "_view_name": "HTMLView",
            "description": "",
            "description_tooltip": null,
            "layout": "IPY_MODEL_27bcf41de05d4d44b2e2a1a659e08282",
            "placeholder": "​",
            "style": "IPY_MODEL_7c13dc94519249a4872183f68d027c00",
            "value": "tokenizer.json: 100%"
          }
        },
        "96c66553b2d742e29100500e31a5be61": {
          "model_module": "@jupyter-widgets/controls",
          "model_name": "FloatProgressModel",
          "model_module_version": "1.5.0",
          "state": {
            "_dom_classes": [],
            "_model_module": "@jupyter-widgets/controls",
            "_model_module_version": "1.5.0",
            "_model_name": "FloatProgressModel",
            "_view_count": null,
            "_view_module": "@jupyter-widgets/controls",
            "_view_module_version": "1.5.0",
            "_view_name": "ProgressView",
            "bar_style": "success",
            "description": "",
            "description_tooltip": null,
            "layout": "IPY_MODEL_c937327f0c0d49609f85be6e0d225b54",
            "max": 17082660,
            "min": 0,
            "orientation": "horizontal",
            "style": "IPY_MODEL_f10e2f5684ca4d9e84551e5f6d89ad8a",
            "value": 17082660
          }
        },
        "4b501166b1894fb294f8250643833a61": {
          "model_module": "@jupyter-widgets/controls",
          "model_name": "HTMLModel",
          "model_module_version": "1.5.0",
          "state": {
            "_dom_classes": [],
            "_model_module": "@jupyter-widgets/controls",
            "_model_module_version": "1.5.0",
            "_model_name": "HTMLModel",
            "_view_count": null,
            "_view_module": "@jupyter-widgets/controls",
            "_view_module_version": "1.5.0",
            "_view_name": "HTMLView",
            "description": "",
            "description_tooltip": null,
            "layout": "IPY_MODEL_d4c41daedb624498888680d53cfe7b09",
            "placeholder": "​",
            "style": "IPY_MODEL_0d434162349044b9b696b51cf5c959dd",
            "value": " 17.1M/17.1M [00:00&lt;00:00, 59.7MB/s]"
          }
        },
        "81c35921a1294bf687d4c2e69fe69214": {
          "model_module": "@jupyter-widgets/base",
          "model_name": "LayoutModel",
          "model_module_version": "1.2.0",
          "state": {
            "_model_module": "@jupyter-widgets/base",
            "_model_module_version": "1.2.0",
            "_model_name": "LayoutModel",
            "_view_count": null,
            "_view_module": "@jupyter-widgets/base",
            "_view_module_version": "1.2.0",
            "_view_name": "LayoutView",
            "align_content": null,
            "align_items": null,
            "align_self": null,
            "border": null,
            "bottom": null,
            "display": null,
            "flex": null,
            "flex_flow": null,
            "grid_area": null,
            "grid_auto_columns": null,
            "grid_auto_flow": null,
            "grid_auto_rows": null,
            "grid_column": null,
            "grid_gap": null,
            "grid_row": null,
            "grid_template_areas": null,
            "grid_template_columns": null,
            "grid_template_rows": null,
            "height": null,
            "justify_content": null,
            "justify_items": null,
            "left": null,
            "margin": null,
            "max_height": null,
            "max_width": null,
            "min_height": null,
            "min_width": null,
            "object_fit": null,
            "object_position": null,
            "order": null,
            "overflow": null,
            "overflow_x": null,
            "overflow_y": null,
            "padding": null,
            "right": null,
            "top": null,
            "visibility": null,
            "width": null
          }
        },
        "27bcf41de05d4d44b2e2a1a659e08282": {
          "model_module": "@jupyter-widgets/base",
          "model_name": "LayoutModel",
          "model_module_version": "1.2.0",
          "state": {
            "_model_module": "@jupyter-widgets/base",
            "_model_module_version": "1.2.0",
            "_model_name": "LayoutModel",
            "_view_count": null,
            "_view_module": "@jupyter-widgets/base",
            "_view_module_version": "1.2.0",
            "_view_name": "LayoutView",
            "align_content": null,
            "align_items": null,
            "align_self": null,
            "border": null,
            "bottom": null,
            "display": null,
            "flex": null,
            "flex_flow": null,
            "grid_area": null,
            "grid_auto_columns": null,
            "grid_auto_flow": null,
            "grid_auto_rows": null,
            "grid_column": null,
            "grid_gap": null,
            "grid_row": null,
            "grid_template_areas": null,
            "grid_template_columns": null,
            "grid_template_rows": null,
            "height": null,
            "justify_content": null,
            "justify_items": null,
            "left": null,
            "margin": null,
            "max_height": null,
            "max_width": null,
            "min_height": null,
            "min_width": null,
            "object_fit": null,
            "object_position": null,
            "order": null,
            "overflow": null,
            "overflow_x": null,
            "overflow_y": null,
            "padding": null,
            "right": null,
            "top": null,
            "visibility": null,
            "width": null
          }
        },
        "7c13dc94519249a4872183f68d027c00": {
          "model_module": "@jupyter-widgets/controls",
          "model_name": "DescriptionStyleModel",
          "model_module_version": "1.5.0",
          "state": {
            "_model_module": "@jupyter-widgets/controls",
            "_model_module_version": "1.5.0",
            "_model_name": "DescriptionStyleModel",
            "_view_count": null,
            "_view_module": "@jupyter-widgets/base",
            "_view_module_version": "1.2.0",
            "_view_name": "StyleView",
            "description_width": ""
          }
        },
        "c937327f0c0d49609f85be6e0d225b54": {
          "model_module": "@jupyter-widgets/base",
          "model_name": "LayoutModel",
          "model_module_version": "1.2.0",
          "state": {
            "_model_module": "@jupyter-widgets/base",
            "_model_module_version": "1.2.0",
            "_model_name": "LayoutModel",
            "_view_count": null,
            "_view_module": "@jupyter-widgets/base",
            "_view_module_version": "1.2.0",
            "_view_name": "LayoutView",
            "align_content": null,
            "align_items": null,
            "align_self": null,
            "border": null,
            "bottom": null,
            "display": null,
            "flex": null,
            "flex_flow": null,
            "grid_area": null,
            "grid_auto_columns": null,
            "grid_auto_flow": null,
            "grid_auto_rows": null,
            "grid_column": null,
            "grid_gap": null,
            "grid_row": null,
            "grid_template_areas": null,
            "grid_template_columns": null,
            "grid_template_rows": null,
            "height": null,
            "justify_content": null,
            "justify_items": null,
            "left": null,
            "margin": null,
            "max_height": null,
            "max_width": null,
            "min_height": null,
            "min_width": null,
            "object_fit": null,
            "object_position": null,
            "order": null,
            "overflow": null,
            "overflow_x": null,
            "overflow_y": null,
            "padding": null,
            "right": null,
            "top": null,
            "visibility": null,
            "width": null
          }
        },
        "f10e2f5684ca4d9e84551e5f6d89ad8a": {
          "model_module": "@jupyter-widgets/controls",
          "model_name": "ProgressStyleModel",
          "model_module_version": "1.5.0",
          "state": {
            "_model_module": "@jupyter-widgets/controls",
            "_model_module_version": "1.5.0",
            "_model_name": "ProgressStyleModel",
            "_view_count": null,
            "_view_module": "@jupyter-widgets/base",
            "_view_module_version": "1.2.0",
            "_view_name": "StyleView",
            "bar_color": null,
            "description_width": ""
          }
        },
        "d4c41daedb624498888680d53cfe7b09": {
          "model_module": "@jupyter-widgets/base",
          "model_name": "LayoutModel",
          "model_module_version": "1.2.0",
          "state": {
            "_model_module": "@jupyter-widgets/base",
            "_model_module_version": "1.2.0",
            "_model_name": "LayoutModel",
            "_view_count": null,
            "_view_module": "@jupyter-widgets/base",
            "_view_module_version": "1.2.0",
            "_view_name": "LayoutView",
            "align_content": null,
            "align_items": null,
            "align_self": null,
            "border": null,
            "bottom": null,
            "display": null,
            "flex": null,
            "flex_flow": null,
            "grid_area": null,
            "grid_auto_columns": null,
            "grid_auto_flow": null,
            "grid_auto_rows": null,
            "grid_column": null,
            "grid_gap": null,
            "grid_row": null,
            "grid_template_areas": null,
            "grid_template_columns": null,
            "grid_template_rows": null,
            "height": null,
            "justify_content": null,
            "justify_items": null,
            "left": null,
            "margin": null,
            "max_height": null,
            "max_width": null,
            "min_height": null,
            "min_width": null,
            "object_fit": null,
            "object_position": null,
            "order": null,
            "overflow": null,
            "overflow_x": null,
            "overflow_y": null,
            "padding": null,
            "right": null,
            "top": null,
            "visibility": null,
            "width": null
          }
        },
        "0d434162349044b9b696b51cf5c959dd": {
          "model_module": "@jupyter-widgets/controls",
          "model_name": "DescriptionStyleModel",
          "model_module_version": "1.5.0",
          "state": {
            "_model_module": "@jupyter-widgets/controls",
            "_model_module_version": "1.5.0",
            "_model_name": "DescriptionStyleModel",
            "_view_count": null,
            "_view_module": "@jupyter-widgets/base",
            "_view_module_version": "1.2.0",
            "_view_name": "StyleView",
            "description_width": ""
          }
        },
        "a9a6d5d970d84d8ba1c27956fc9c020e": {
          "model_module": "@jupyter-widgets/controls",
          "model_name": "HBoxModel",
          "model_module_version": "1.5.0",
          "state": {
            "_dom_classes": [],
            "_model_module": "@jupyter-widgets/controls",
            "_model_module_version": "1.5.0",
            "_model_name": "HBoxModel",
            "_view_count": null,
            "_view_module": "@jupyter-widgets/controls",
            "_view_module_version": "1.5.0",
            "_view_name": "HBoxView",
            "box_style": "",
            "children": [
              "IPY_MODEL_681f42e5d4ab438b81f0d04e5ca117fa",
              "IPY_MODEL_9d1ee39fbdd5404692fd1ee1026ee932",
              "IPY_MODEL_c5a29a53cef94f20b4b8d56eea50dc7d"
            ],
            "layout": "IPY_MODEL_fc1f722a54c24cdab928e075d5bc8334"
          }
        },
        "681f42e5d4ab438b81f0d04e5ca117fa": {
          "model_module": "@jupyter-widgets/controls",
          "model_name": "HTMLModel",
          "model_module_version": "1.5.0",
          "state": {
            "_dom_classes": [],
            "_model_module": "@jupyter-widgets/controls",
            "_model_module_version": "1.5.0",
            "_model_name": "HTMLModel",
            "_view_count": null,
            "_view_module": "@jupyter-widgets/controls",
            "_view_module_version": "1.5.0",
            "_view_name": "HTMLView",
            "description": "",
            "description_tooltip": null,
            "layout": "IPY_MODEL_9e046c5f414a415abc250a97d18aa993",
            "placeholder": "​",
            "style": "IPY_MODEL_13071339e5c54ea5b0867bb4f993a396",
            "value": "special_tokens_map.json: 100%"
          }
        },
        "9d1ee39fbdd5404692fd1ee1026ee932": {
          "model_module": "@jupyter-widgets/controls",
          "model_name": "FloatProgressModel",
          "model_module_version": "1.5.0",
          "state": {
            "_dom_classes": [],
            "_model_module": "@jupyter-widgets/controls",
            "_model_module_version": "1.5.0",
            "_model_name": "FloatProgressModel",
            "_view_count": null,
            "_view_module": "@jupyter-widgets/controls",
            "_view_module_version": "1.5.0",
            "_view_name": "ProgressView",
            "bar_style": "success",
            "description": "",
            "description_tooltip": null,
            "layout": "IPY_MODEL_561ca64057d8482f95b4738e5172f3c6",
            "max": 280,
            "min": 0,
            "orientation": "horizontal",
            "style": "IPY_MODEL_e6088d806e64424ba33298a302ca5434",
            "value": 280
          }
        },
        "c5a29a53cef94f20b4b8d56eea50dc7d": {
          "model_module": "@jupyter-widgets/controls",
          "model_name": "HTMLModel",
          "model_module_version": "1.5.0",
          "state": {
            "_dom_classes": [],
            "_model_module": "@jupyter-widgets/controls",
            "_model_module_version": "1.5.0",
            "_model_name": "HTMLModel",
            "_view_count": null,
            "_view_module": "@jupyter-widgets/controls",
            "_view_module_version": "1.5.0",
            "_view_name": "HTMLView",
            "description": "",
            "description_tooltip": null,
            "layout": "IPY_MODEL_c9ec75786ad8436a8eb4ccde502fb7c0",
            "placeholder": "​",
            "style": "IPY_MODEL_affeed84e73a4fc69341742bb23df348",
            "value": " 280/280 [00:00&lt;00:00, 6.50kB/s]"
          }
        },
        "fc1f722a54c24cdab928e075d5bc8334": {
          "model_module": "@jupyter-widgets/base",
          "model_name": "LayoutModel",
          "model_module_version": "1.2.0",
          "state": {
            "_model_module": "@jupyter-widgets/base",
            "_model_module_version": "1.2.0",
            "_model_name": "LayoutModel",
            "_view_count": null,
            "_view_module": "@jupyter-widgets/base",
            "_view_module_version": "1.2.0",
            "_view_name": "LayoutView",
            "align_content": null,
            "align_items": null,
            "align_self": null,
            "border": null,
            "bottom": null,
            "display": null,
            "flex": null,
            "flex_flow": null,
            "grid_area": null,
            "grid_auto_columns": null,
            "grid_auto_flow": null,
            "grid_auto_rows": null,
            "grid_column": null,
            "grid_gap": null,
            "grid_row": null,
            "grid_template_areas": null,
            "grid_template_columns": null,
            "grid_template_rows": null,
            "height": null,
            "justify_content": null,
            "justify_items": null,
            "left": null,
            "margin": null,
            "max_height": null,
            "max_width": null,
            "min_height": null,
            "min_width": null,
            "object_fit": null,
            "object_position": null,
            "order": null,
            "overflow": null,
            "overflow_x": null,
            "overflow_y": null,
            "padding": null,
            "right": null,
            "top": null,
            "visibility": null,
            "width": null
          }
        },
        "9e046c5f414a415abc250a97d18aa993": {
          "model_module": "@jupyter-widgets/base",
          "model_name": "LayoutModel",
          "model_module_version": "1.2.0",
          "state": {
            "_model_module": "@jupyter-widgets/base",
            "_model_module_version": "1.2.0",
            "_model_name": "LayoutModel",
            "_view_count": null,
            "_view_module": "@jupyter-widgets/base",
            "_view_module_version": "1.2.0",
            "_view_name": "LayoutView",
            "align_content": null,
            "align_items": null,
            "align_self": null,
            "border": null,
            "bottom": null,
            "display": null,
            "flex": null,
            "flex_flow": null,
            "grid_area": null,
            "grid_auto_columns": null,
            "grid_auto_flow": null,
            "grid_auto_rows": null,
            "grid_column": null,
            "grid_gap": null,
            "grid_row": null,
            "grid_template_areas": null,
            "grid_template_columns": null,
            "grid_template_rows": null,
            "height": null,
            "justify_content": null,
            "justify_items": null,
            "left": null,
            "margin": null,
            "max_height": null,
            "max_width": null,
            "min_height": null,
            "min_width": null,
            "object_fit": null,
            "object_position": null,
            "order": null,
            "overflow": null,
            "overflow_x": null,
            "overflow_y": null,
            "padding": null,
            "right": null,
            "top": null,
            "visibility": null,
            "width": null
          }
        },
        "13071339e5c54ea5b0867bb4f993a396": {
          "model_module": "@jupyter-widgets/controls",
          "model_name": "DescriptionStyleModel",
          "model_module_version": "1.5.0",
          "state": {
            "_model_module": "@jupyter-widgets/controls",
            "_model_module_version": "1.5.0",
            "_model_name": "DescriptionStyleModel",
            "_view_count": null,
            "_view_module": "@jupyter-widgets/base",
            "_view_module_version": "1.2.0",
            "_view_name": "StyleView",
            "description_width": ""
          }
        },
        "561ca64057d8482f95b4738e5172f3c6": {
          "model_module": "@jupyter-widgets/base",
          "model_name": "LayoutModel",
          "model_module_version": "1.2.0",
          "state": {
            "_model_module": "@jupyter-widgets/base",
            "_model_module_version": "1.2.0",
            "_model_name": "LayoutModel",
            "_view_count": null,
            "_view_module": "@jupyter-widgets/base",
            "_view_module_version": "1.2.0",
            "_view_name": "LayoutView",
            "align_content": null,
            "align_items": null,
            "align_self": null,
            "border": null,
            "bottom": null,
            "display": null,
            "flex": null,
            "flex_flow": null,
            "grid_area": null,
            "grid_auto_columns": null,
            "grid_auto_flow": null,
            "grid_auto_rows": null,
            "grid_column": null,
            "grid_gap": null,
            "grid_row": null,
            "grid_template_areas": null,
            "grid_template_columns": null,
            "grid_template_rows": null,
            "height": null,
            "justify_content": null,
            "justify_items": null,
            "left": null,
            "margin": null,
            "max_height": null,
            "max_width": null,
            "min_height": null,
            "min_width": null,
            "object_fit": null,
            "object_position": null,
            "order": null,
            "overflow": null,
            "overflow_x": null,
            "overflow_y": null,
            "padding": null,
            "right": null,
            "top": null,
            "visibility": null,
            "width": null
          }
        },
        "e6088d806e64424ba33298a302ca5434": {
          "model_module": "@jupyter-widgets/controls",
          "model_name": "ProgressStyleModel",
          "model_module_version": "1.5.0",
          "state": {
            "_model_module": "@jupyter-widgets/controls",
            "_model_module_version": "1.5.0",
            "_model_name": "ProgressStyleModel",
            "_view_count": null,
            "_view_module": "@jupyter-widgets/base",
            "_view_module_version": "1.2.0",
            "_view_name": "StyleView",
            "bar_color": null,
            "description_width": ""
          }
        },
        "c9ec75786ad8436a8eb4ccde502fb7c0": {
          "model_module": "@jupyter-widgets/base",
          "model_name": "LayoutModel",
          "model_module_version": "1.2.0",
          "state": {
            "_model_module": "@jupyter-widgets/base",
            "_model_module_version": "1.2.0",
            "_model_name": "LayoutModel",
            "_view_count": null,
            "_view_module": "@jupyter-widgets/base",
            "_view_module_version": "1.2.0",
            "_view_name": "LayoutView",
            "align_content": null,
            "align_items": null,
            "align_self": null,
            "border": null,
            "bottom": null,
            "display": null,
            "flex": null,
            "flex_flow": null,
            "grid_area": null,
            "grid_auto_columns": null,
            "grid_auto_flow": null,
            "grid_auto_rows": null,
            "grid_column": null,
            "grid_gap": null,
            "grid_row": null,
            "grid_template_areas": null,
            "grid_template_columns": null,
            "grid_template_rows": null,
            "height": null,
            "justify_content": null,
            "justify_items": null,
            "left": null,
            "margin": null,
            "max_height": null,
            "max_width": null,
            "min_height": null,
            "min_width": null,
            "object_fit": null,
            "object_position": null,
            "order": null,
            "overflow": null,
            "overflow_x": null,
            "overflow_y": null,
            "padding": null,
            "right": null,
            "top": null,
            "visibility": null,
            "width": null
          }
        },
        "affeed84e73a4fc69341742bb23df348": {
          "model_module": "@jupyter-widgets/controls",
          "model_name": "DescriptionStyleModel",
          "model_module_version": "1.5.0",
          "state": {
            "_model_module": "@jupyter-widgets/controls",
            "_model_module_version": "1.5.0",
            "_model_name": "DescriptionStyleModel",
            "_view_count": null,
            "_view_module": "@jupyter-widgets/base",
            "_view_module_version": "1.2.0",
            "_view_name": "StyleView",
            "description_width": ""
          }
        },
        "b08a2c5d4f4f4a889bf1782f77284337": {
          "model_module": "@jupyter-widgets/controls",
          "model_name": "HBoxModel",
          "model_module_version": "1.5.0",
          "state": {
            "_dom_classes": [],
            "_model_module": "@jupyter-widgets/controls",
            "_model_module_version": "1.5.0",
            "_model_name": "HBoxModel",
            "_view_count": null,
            "_view_module": "@jupyter-widgets/controls",
            "_view_module_version": "1.5.0",
            "_view_name": "HBoxView",
            "box_style": "",
            "children": [
              "IPY_MODEL_03032b3ea45d4ae4aab2e9adfdc65392",
              "IPY_MODEL_bda01598fe444bf09fc17f8b47109002",
              "IPY_MODEL_f3c58656002348828ccaabbda27953ea"
            ],
            "layout": "IPY_MODEL_94b8f954c79243b2ac375339f1fc9b93"
          }
        },
        "03032b3ea45d4ae4aab2e9adfdc65392": {
          "model_module": "@jupyter-widgets/controls",
          "model_name": "HTMLModel",
          "model_module_version": "1.5.0",
          "state": {
            "_dom_classes": [],
            "_model_module": "@jupyter-widgets/controls",
            "_model_module_version": "1.5.0",
            "_model_name": "HTMLModel",
            "_view_count": null,
            "_view_module": "@jupyter-widgets/controls",
            "_view_module_version": "1.5.0",
            "_view_name": "HTMLView",
            "description": "",
            "description_tooltip": null,
            "layout": "IPY_MODEL_fc54f6ef72c640b78b1b7a38d62ec842",
            "placeholder": "​",
            "style": "IPY_MODEL_ef533fa0143940ccbd1569266e2e5233",
            "value": "1_Pooling/config.json: 100%"
          }
        },
        "bda01598fe444bf09fc17f8b47109002": {
          "model_module": "@jupyter-widgets/controls",
          "model_name": "FloatProgressModel",
          "model_module_version": "1.5.0",
          "state": {
            "_dom_classes": [],
            "_model_module": "@jupyter-widgets/controls",
            "_model_module_version": "1.5.0",
            "_model_name": "FloatProgressModel",
            "_view_count": null,
            "_view_module": "@jupyter-widgets/controls",
            "_view_module_version": "1.5.0",
            "_view_name": "ProgressView",
            "bar_style": "success",
            "description": "",
            "description_tooltip": null,
            "layout": "IPY_MODEL_eb0262c3112c488c815fa1d927287888",
            "max": 201,
            "min": 0,
            "orientation": "horizontal",
            "style": "IPY_MODEL_ccce1e6f7fc045f99a4d625159700179",
            "value": 201
          }
        },
        "f3c58656002348828ccaabbda27953ea": {
          "model_module": "@jupyter-widgets/controls",
          "model_name": "HTMLModel",
          "model_module_version": "1.5.0",
          "state": {
            "_dom_classes": [],
            "_model_module": "@jupyter-widgets/controls",
            "_model_module_version": "1.5.0",
            "_model_name": "HTMLModel",
            "_view_count": null,
            "_view_module": "@jupyter-widgets/controls",
            "_view_module_version": "1.5.0",
            "_view_name": "HTMLView",
            "description": "",
            "description_tooltip": null,
            "layout": "IPY_MODEL_ab92d4981cc74eedb0b5794d7f627ab3",
            "placeholder": "​",
            "style": "IPY_MODEL_d1f999b6d6f94cdfb97e7e83c6cd2639",
            "value": " 201/201 [00:00&lt;00:00, 14.7kB/s]"
          }
        },
        "94b8f954c79243b2ac375339f1fc9b93": {
          "model_module": "@jupyter-widgets/base",
          "model_name": "LayoutModel",
          "model_module_version": "1.2.0",
          "state": {
            "_model_module": "@jupyter-widgets/base",
            "_model_module_version": "1.2.0",
            "_model_name": "LayoutModel",
            "_view_count": null,
            "_view_module": "@jupyter-widgets/base",
            "_view_module_version": "1.2.0",
            "_view_name": "LayoutView",
            "align_content": null,
            "align_items": null,
            "align_self": null,
            "border": null,
            "bottom": null,
            "display": null,
            "flex": null,
            "flex_flow": null,
            "grid_area": null,
            "grid_auto_columns": null,
            "grid_auto_flow": null,
            "grid_auto_rows": null,
            "grid_column": null,
            "grid_gap": null,
            "grid_row": null,
            "grid_template_areas": null,
            "grid_template_columns": null,
            "grid_template_rows": null,
            "height": null,
            "justify_content": null,
            "justify_items": null,
            "left": null,
            "margin": null,
            "max_height": null,
            "max_width": null,
            "min_height": null,
            "min_width": null,
            "object_fit": null,
            "object_position": null,
            "order": null,
            "overflow": null,
            "overflow_x": null,
            "overflow_y": null,
            "padding": null,
            "right": null,
            "top": null,
            "visibility": null,
            "width": null
          }
        },
        "fc54f6ef72c640b78b1b7a38d62ec842": {
          "model_module": "@jupyter-widgets/base",
          "model_name": "LayoutModel",
          "model_module_version": "1.2.0",
          "state": {
            "_model_module": "@jupyter-widgets/base",
            "_model_module_version": "1.2.0",
            "_model_name": "LayoutModel",
            "_view_count": null,
            "_view_module": "@jupyter-widgets/base",
            "_view_module_version": "1.2.0",
            "_view_name": "LayoutView",
            "align_content": null,
            "align_items": null,
            "align_self": null,
            "border": null,
            "bottom": null,
            "display": null,
            "flex": null,
            "flex_flow": null,
            "grid_area": null,
            "grid_auto_columns": null,
            "grid_auto_flow": null,
            "grid_auto_rows": null,
            "grid_column": null,
            "grid_gap": null,
            "grid_row": null,
            "grid_template_areas": null,
            "grid_template_columns": null,
            "grid_template_rows": null,
            "height": null,
            "justify_content": null,
            "justify_items": null,
            "left": null,
            "margin": null,
            "max_height": null,
            "max_width": null,
            "min_height": null,
            "min_width": null,
            "object_fit": null,
            "object_position": null,
            "order": null,
            "overflow": null,
            "overflow_x": null,
            "overflow_y": null,
            "padding": null,
            "right": null,
            "top": null,
            "visibility": null,
            "width": null
          }
        },
        "ef533fa0143940ccbd1569266e2e5233": {
          "model_module": "@jupyter-widgets/controls",
          "model_name": "DescriptionStyleModel",
          "model_module_version": "1.5.0",
          "state": {
            "_model_module": "@jupyter-widgets/controls",
            "_model_module_version": "1.5.0",
            "_model_name": "DescriptionStyleModel",
            "_view_count": null,
            "_view_module": "@jupyter-widgets/base",
            "_view_module_version": "1.2.0",
            "_view_name": "StyleView",
            "description_width": ""
          }
        },
        "eb0262c3112c488c815fa1d927287888": {
          "model_module": "@jupyter-widgets/base",
          "model_name": "LayoutModel",
          "model_module_version": "1.2.0",
          "state": {
            "_model_module": "@jupyter-widgets/base",
            "_model_module_version": "1.2.0",
            "_model_name": "LayoutModel",
            "_view_count": null,
            "_view_module": "@jupyter-widgets/base",
            "_view_module_version": "1.2.0",
            "_view_name": "LayoutView",
            "align_content": null,
            "align_items": null,
            "align_self": null,
            "border": null,
            "bottom": null,
            "display": null,
            "flex": null,
            "flex_flow": null,
            "grid_area": null,
            "grid_auto_columns": null,
            "grid_auto_flow": null,
            "grid_auto_rows": null,
            "grid_column": null,
            "grid_gap": null,
            "grid_row": null,
            "grid_template_areas": null,
            "grid_template_columns": null,
            "grid_template_rows": null,
            "height": null,
            "justify_content": null,
            "justify_items": null,
            "left": null,
            "margin": null,
            "max_height": null,
            "max_width": null,
            "min_height": null,
            "min_width": null,
            "object_fit": null,
            "object_position": null,
            "order": null,
            "overflow": null,
            "overflow_x": null,
            "overflow_y": null,
            "padding": null,
            "right": null,
            "top": null,
            "visibility": null,
            "width": null
          }
        },
        "ccce1e6f7fc045f99a4d625159700179": {
          "model_module": "@jupyter-widgets/controls",
          "model_name": "ProgressStyleModel",
          "model_module_version": "1.5.0",
          "state": {
            "_model_module": "@jupyter-widgets/controls",
            "_model_module_version": "1.5.0",
            "_model_name": "ProgressStyleModel",
            "_view_count": null,
            "_view_module": "@jupyter-widgets/base",
            "_view_module_version": "1.2.0",
            "_view_name": "StyleView",
            "bar_color": null,
            "description_width": ""
          }
        },
        "ab92d4981cc74eedb0b5794d7f627ab3": {
          "model_module": "@jupyter-widgets/base",
          "model_name": "LayoutModel",
          "model_module_version": "1.2.0",
          "state": {
            "_model_module": "@jupyter-widgets/base",
            "_model_module_version": "1.2.0",
            "_model_name": "LayoutModel",
            "_view_count": null,
            "_view_module": "@jupyter-widgets/base",
            "_view_module_version": "1.2.0",
            "_view_name": "LayoutView",
            "align_content": null,
            "align_items": null,
            "align_self": null,
            "border": null,
            "bottom": null,
            "display": null,
            "flex": null,
            "flex_flow": null,
            "grid_area": null,
            "grid_auto_columns": null,
            "grid_auto_flow": null,
            "grid_auto_rows": null,
            "grid_column": null,
            "grid_gap": null,
            "grid_row": null,
            "grid_template_areas": null,
            "grid_template_columns": null,
            "grid_template_rows": null,
            "height": null,
            "justify_content": null,
            "justify_items": null,
            "left": null,
            "margin": null,
            "max_height": null,
            "max_width": null,
            "min_height": null,
            "min_width": null,
            "object_fit": null,
            "object_position": null,
            "order": null,
            "overflow": null,
            "overflow_x": null,
            "overflow_y": null,
            "padding": null,
            "right": null,
            "top": null,
            "visibility": null,
            "width": null
          }
        },
        "d1f999b6d6f94cdfb97e7e83c6cd2639": {
          "model_module": "@jupyter-widgets/controls",
          "model_name": "DescriptionStyleModel",
          "model_module_version": "1.5.0",
          "state": {
            "_model_module": "@jupyter-widgets/controls",
            "_model_module_version": "1.5.0",
            "_model_name": "DescriptionStyleModel",
            "_view_count": null,
            "_view_module": "@jupyter-widgets/base",
            "_view_module_version": "1.2.0",
            "_view_name": "StyleView",
            "description_width": ""
          }
        }
      }
    }
  },
  "nbformat": 4,
  "nbformat_minor": 5
}